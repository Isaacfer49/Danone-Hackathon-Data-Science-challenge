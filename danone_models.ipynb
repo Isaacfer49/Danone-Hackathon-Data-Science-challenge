{
  "nbformat": 4,
  "nbformat_minor": 0,
  "metadata": {
    "colab": {
      "provenance": [],
      "authorship_tag": "ABX9TyNMLeFncxmo6yPHqiRN13/2",
      "include_colab_link": true
    },
    "kernelspec": {
      "name": "python3",
      "display_name": "Python 3"
    },
    "language_info": {
      "name": "python"
    }
  },
  "cells": [
    {
      "cell_type": "markdown",
      "metadata": {
        "id": "view-in-github",
        "colab_type": "text"
      },
      "source": [
        "<a href=\"https://colab.research.google.com/github/Isaacfer49/Danone-Hackathon-Data-Science-challenge/blob/main/danone_models_and_json.ipynb\" target=\"_parent\"><img src=\"https://colab.research.google.com/assets/colab-badge.svg\" alt=\"Open In Colab\"/></a>"
      ]
    },
    {
      "cell_type": "markdown",
      "source": [
        "# Danone's hackathon Isaac Fernandez"
      ],
      "metadata": {
        "id": "sEAKD_rXzpb2"
      }
    },
    {
      "cell_type": "markdown",
      "source": [
        "I will focus on extracting value from a crucial feature called \"packaging materials,\" which provides information about whether the materials are plastic or not. Additionally, I made efforts to extract valuable data from other variables.\n",
        "\n",
        "This notebook documents the majority of the steps I took to achieve the highest possible f1-score. I experimented with various models and different hyperparameters. The highest f1-score I obtained here was 86%; however, this score did not perform as anticipated on the testing set. Consequently, I had to revert to using other features that I had previously employed.\n",
        "\n",
        "Please disregard the abundance of models and JSON files included in this notebook. They were solely for the purpose of testing additional f1-scores.\n",
        "\n",
        "Thank you."
      ],
      "metadata": {
        "id": "ufmpbNaqf6Re"
      }
    },
    {
      "cell_type": "code",
      "source": [
        "!pip install xgboost"
      ],
      "metadata": {
        "colab": {
          "base_uri": "https://localhost:8080/"
        },
        "id": "cedYZbwyeamT",
        "outputId": "89a0c4bd-c1b7-499d-c46d-30de573b4ef3"
      },
      "execution_count": null,
      "outputs": [
        {
          "output_type": "stream",
          "name": "stdout",
          "text": [
            "Looking in indexes: https://pypi.org/simple, https://us-python.pkg.dev/colab-wheels/public/simple/\n",
            "Requirement already satisfied: xgboost in /usr/local/lib/python3.10/dist-packages (1.7.5)\n",
            "Requirement already satisfied: numpy in /usr/local/lib/python3.10/dist-packages (from xgboost) (1.22.4)\n",
            "Requirement already satisfied: scipy in /usr/local/lib/python3.10/dist-packages (from xgboost) (1.10.1)\n"
          ]
        }
      ]
    },
    {
      "cell_type": "code",
      "execution_count": null,
      "metadata": {
        "id": "R4xF6b1QfSL0"
      },
      "outputs": [],
      "source": [
        "import pandas as pd\n",
        "import matplotlib.pyplot as plt\n",
        "import seaborn as sns\n",
        "import xgboost as xgb\n",
        "from sklearn.model_selection import train_test_split\n",
        "from sklearn.metrics import classification_report\n",
        "import numpy as np\n",
        "from sklearn.metrics import mean_squared_error\n",
        "import json\n",
        "from sklearn.preprocessing import LabelEncoder\n",
        "from sklearn.tree import DecisionTreeClassifier\n",
        "from sklearn.metrics import accuracy_score\n",
        "from sklearn.preprocessing import MultiLabelBinarizer"
      ]
    },
    {
      "cell_type": "code",
      "source": [
        "data_train = pd.read_json('/content/train_products.json')"
      ],
      "metadata": {
        "id": "8RXAindDeh-s"
      },
      "execution_count": null,
      "outputs": []
    },
    {
      "cell_type": "code",
      "source": [
        "data_train = data_train.T"
      ],
      "metadata": {
        "id": "jVIDm7Qrex0P"
      },
      "execution_count": null,
      "outputs": []
    },
    {
      "cell_type": "code",
      "source": [
        "data_train.columns"
      ],
      "metadata": {
        "colab": {
          "base_uri": "https://localhost:8080/"
        },
        "id": "ScfNumlY5m1y",
        "outputId": "1d7773be-b9a6-4d86-a33c-62f6d29f6663"
      },
      "execution_count": null,
      "outputs": [
        {
          "output_type": "execute_result",
          "data": {
            "text/plain": [
              "Index(['name', 'brand', 'generic_name', 'categories_hierarchy', 'is_beverage',\n",
              "       'selling_countries', 'ingredient_origins', 'ingredients',\n",
              "       'additives_count', 'calcium_100g', 'carbohydrates_100g',\n",
              "       'energy_kcal_100g', 'fat_100g', 'fiber_100g', 'proteins_100g',\n",
              "       'salt_100g', 'sodium_100g', 'sugars_100g', 'nutrition_grade',\n",
              "       'packaging_materials',\n",
              "       'non_recyclable_and_non_biodegradable_materials_count',\n",
              "       'est_co2_agriculture', 'est_co2_consumption', 'est_co2_distribution',\n",
              "       'est_co2_packaging', 'est_co2_processing', 'est_co2_transportation',\n",
              "       'ecoscore_grade'],\n",
              "      dtype='object')"
            ]
          },
          "metadata": {},
          "execution_count": 41
        }
      ]
    },
    {
      "cell_type": "code",
      "source": [
        "numerical_v1 = data_train[['non_recyclable_and_non_biodegradable_materials_count','est_co2_agriculture', 'est_co2_consumption', 'est_co2_distribution','est_co2_packaging', 'est_co2_processing', 'est_co2_transportation','ecoscore_grade']]"
      ],
      "metadata": {
        "id": "MI5vgS_Ze9-o"
      },
      "execution_count": null,
      "outputs": []
    },
    {
      "cell_type": "code",
      "source": [
        "numerical_v1"
      ],
      "metadata": {
        "colab": {
          "base_uri": "https://localhost:8080/",
          "height": 488
        },
        "id": "zYXXYZunfHIk",
        "outputId": "19ae3686-b10a-4294-e1bb-4ccaec6fbb56"
      },
      "execution_count": null,
      "outputs": [
        {
          "output_type": "execute_result",
          "data": {
            "text/plain": [
              "      non_recyclable_and_non_biodegradable_materials_count  \\\n",
              "0                                                      1     \n",
              "1                                                      1     \n",
              "2                                                      1     \n",
              "3                                                      1     \n",
              "4                                                      0     \n",
              "...                                                  ...     \n",
              "20830                                                  1     \n",
              "20831                                                  1     \n",
              "20832                                                  1     \n",
              "20833                                                  1     \n",
              "20834                                                  1     \n",
              "\n",
              "      est_co2_agriculture est_co2_consumption est_co2_distribution  \\\n",
              "0                1.405794            0.122097             0.151978   \n",
              "1                1.772009                   0             0.019531   \n",
              "2                  2.2396                   0             0.019531   \n",
              "3                4.536405            0.006688             0.037393   \n",
              "4                7.918371                   0             0.015709   \n",
              "...                   ...                 ...                  ...   \n",
              "20830            0.124785                   0             0.015377   \n",
              "20831           19.495674                   0             0.015709   \n",
              "20832            1.463891                   0             0.017321   \n",
              "20833            7.304731            0.006688             0.039033   \n",
              "20834            4.142584            0.006688             0.036974   \n",
              "\n",
              "      est_co2_packaging est_co2_processing est_co2_transportation  \\\n",
              "0              0.400866             0.1234               0.344651   \n",
              "1              0.288156           5.215055               0.171567   \n",
              "2              0.281596           0.770511               0.252874   \n",
              "3              0.185784           0.458632               0.217118   \n",
              "4               0.47839           0.445327               0.334988   \n",
              "...                 ...                ...                    ...   \n",
              "20830          0.100104           0.116079                0.14558   \n",
              "20831          0.100104           6.998544               0.456216   \n",
              "20832          0.104294          15.259235               0.265547   \n",
              "20833          0.180553            0.05647               0.233556   \n",
              "20834          0.275642           0.824163               0.233039   \n",
              "\n",
              "      ecoscore_grade  \n",
              "0                  2  \n",
              "1                  3  \n",
              "2                  3  \n",
              "3                  3  \n",
              "4                  4  \n",
              "...              ...  \n",
              "20830              1  \n",
              "20831              4  \n",
              "20832              4  \n",
              "20833              3  \n",
              "20834              3  \n",
              "\n",
              "[20835 rows x 8 columns]"
            ],
            "text/html": [
              "\n",
              "  <div id=\"df-2511bf47-9aac-4126-b1f1-20f4005c34e4\">\n",
              "    <div class=\"colab-df-container\">\n",
              "      <div>\n",
              "<style scoped>\n",
              "    .dataframe tbody tr th:only-of-type {\n",
              "        vertical-align: middle;\n",
              "    }\n",
              "\n",
              "    .dataframe tbody tr th {\n",
              "        vertical-align: top;\n",
              "    }\n",
              "\n",
              "    .dataframe thead th {\n",
              "        text-align: right;\n",
              "    }\n",
              "</style>\n",
              "<table border=\"1\" class=\"dataframe\">\n",
              "  <thead>\n",
              "    <tr style=\"text-align: right;\">\n",
              "      <th></th>\n",
              "      <th>non_recyclable_and_non_biodegradable_materials_count</th>\n",
              "      <th>est_co2_agriculture</th>\n",
              "      <th>est_co2_consumption</th>\n",
              "      <th>est_co2_distribution</th>\n",
              "      <th>est_co2_packaging</th>\n",
              "      <th>est_co2_processing</th>\n",
              "      <th>est_co2_transportation</th>\n",
              "      <th>ecoscore_grade</th>\n",
              "    </tr>\n",
              "  </thead>\n",
              "  <tbody>\n",
              "    <tr>\n",
              "      <th>0</th>\n",
              "      <td>1</td>\n",
              "      <td>1.405794</td>\n",
              "      <td>0.122097</td>\n",
              "      <td>0.151978</td>\n",
              "      <td>0.400866</td>\n",
              "      <td>0.1234</td>\n",
              "      <td>0.344651</td>\n",
              "      <td>2</td>\n",
              "    </tr>\n",
              "    <tr>\n",
              "      <th>1</th>\n",
              "      <td>1</td>\n",
              "      <td>1.772009</td>\n",
              "      <td>0</td>\n",
              "      <td>0.019531</td>\n",
              "      <td>0.288156</td>\n",
              "      <td>5.215055</td>\n",
              "      <td>0.171567</td>\n",
              "      <td>3</td>\n",
              "    </tr>\n",
              "    <tr>\n",
              "      <th>2</th>\n",
              "      <td>1</td>\n",
              "      <td>2.2396</td>\n",
              "      <td>0</td>\n",
              "      <td>0.019531</td>\n",
              "      <td>0.281596</td>\n",
              "      <td>0.770511</td>\n",
              "      <td>0.252874</td>\n",
              "      <td>3</td>\n",
              "    </tr>\n",
              "    <tr>\n",
              "      <th>3</th>\n",
              "      <td>1</td>\n",
              "      <td>4.536405</td>\n",
              "      <td>0.006688</td>\n",
              "      <td>0.037393</td>\n",
              "      <td>0.185784</td>\n",
              "      <td>0.458632</td>\n",
              "      <td>0.217118</td>\n",
              "      <td>3</td>\n",
              "    </tr>\n",
              "    <tr>\n",
              "      <th>4</th>\n",
              "      <td>0</td>\n",
              "      <td>7.918371</td>\n",
              "      <td>0</td>\n",
              "      <td>0.015709</td>\n",
              "      <td>0.47839</td>\n",
              "      <td>0.445327</td>\n",
              "      <td>0.334988</td>\n",
              "      <td>4</td>\n",
              "    </tr>\n",
              "    <tr>\n",
              "      <th>...</th>\n",
              "      <td>...</td>\n",
              "      <td>...</td>\n",
              "      <td>...</td>\n",
              "      <td>...</td>\n",
              "      <td>...</td>\n",
              "      <td>...</td>\n",
              "      <td>...</td>\n",
              "      <td>...</td>\n",
              "    </tr>\n",
              "    <tr>\n",
              "      <th>20830</th>\n",
              "      <td>1</td>\n",
              "      <td>0.124785</td>\n",
              "      <td>0</td>\n",
              "      <td>0.015377</td>\n",
              "      <td>0.100104</td>\n",
              "      <td>0.116079</td>\n",
              "      <td>0.14558</td>\n",
              "      <td>1</td>\n",
              "    </tr>\n",
              "    <tr>\n",
              "      <th>20831</th>\n",
              "      <td>1</td>\n",
              "      <td>19.495674</td>\n",
              "      <td>0</td>\n",
              "      <td>0.015709</td>\n",
              "      <td>0.100104</td>\n",
              "      <td>6.998544</td>\n",
              "      <td>0.456216</td>\n",
              "      <td>4</td>\n",
              "    </tr>\n",
              "    <tr>\n",
              "      <th>20832</th>\n",
              "      <td>1</td>\n",
              "      <td>1.463891</td>\n",
              "      <td>0</td>\n",
              "      <td>0.017321</td>\n",
              "      <td>0.104294</td>\n",
              "      <td>15.259235</td>\n",
              "      <td>0.265547</td>\n",
              "      <td>4</td>\n",
              "    </tr>\n",
              "    <tr>\n",
              "      <th>20833</th>\n",
              "      <td>1</td>\n",
              "      <td>7.304731</td>\n",
              "      <td>0.006688</td>\n",
              "      <td>0.039033</td>\n",
              "      <td>0.180553</td>\n",
              "      <td>0.05647</td>\n",
              "      <td>0.233556</td>\n",
              "      <td>3</td>\n",
              "    </tr>\n",
              "    <tr>\n",
              "      <th>20834</th>\n",
              "      <td>1</td>\n",
              "      <td>4.142584</td>\n",
              "      <td>0.006688</td>\n",
              "      <td>0.036974</td>\n",
              "      <td>0.275642</td>\n",
              "      <td>0.824163</td>\n",
              "      <td>0.233039</td>\n",
              "      <td>3</td>\n",
              "    </tr>\n",
              "  </tbody>\n",
              "</table>\n",
              "<p>20835 rows × 8 columns</p>\n",
              "</div>\n",
              "      <button class=\"colab-df-convert\" onclick=\"convertToInteractive('df-2511bf47-9aac-4126-b1f1-20f4005c34e4')\"\n",
              "              title=\"Convert this dataframe to an interactive table.\"\n",
              "              style=\"display:none;\">\n",
              "        \n",
              "  <svg xmlns=\"http://www.w3.org/2000/svg\" height=\"24px\"viewBox=\"0 0 24 24\"\n",
              "       width=\"24px\">\n",
              "    <path d=\"M0 0h24v24H0V0z\" fill=\"none\"/>\n",
              "    <path d=\"M18.56 5.44l.94 2.06.94-2.06 2.06-.94-2.06-.94-.94-2.06-.94 2.06-2.06.94zm-11 1L8.5 8.5l.94-2.06 2.06-.94-2.06-.94L8.5 2.5l-.94 2.06-2.06.94zm10 10l.94 2.06.94-2.06 2.06-.94-2.06-.94-.94-2.06-.94 2.06-2.06.94z\"/><path d=\"M17.41 7.96l-1.37-1.37c-.4-.4-.92-.59-1.43-.59-.52 0-1.04.2-1.43.59L10.3 9.45l-7.72 7.72c-.78.78-.78 2.05 0 2.83L4 21.41c.39.39.9.59 1.41.59.51 0 1.02-.2 1.41-.59l7.78-7.78 2.81-2.81c.8-.78.8-2.07 0-2.86zM5.41 20L4 18.59l7.72-7.72 1.47 1.35L5.41 20z\"/>\n",
              "  </svg>\n",
              "      </button>\n",
              "      \n",
              "  <style>\n",
              "    .colab-df-container {\n",
              "      display:flex;\n",
              "      flex-wrap:wrap;\n",
              "      gap: 12px;\n",
              "    }\n",
              "\n",
              "    .colab-df-convert {\n",
              "      background-color: #E8F0FE;\n",
              "      border: none;\n",
              "      border-radius: 50%;\n",
              "      cursor: pointer;\n",
              "      display: none;\n",
              "      fill: #1967D2;\n",
              "      height: 32px;\n",
              "      padding: 0 0 0 0;\n",
              "      width: 32px;\n",
              "    }\n",
              "\n",
              "    .colab-df-convert:hover {\n",
              "      background-color: #E2EBFA;\n",
              "      box-shadow: 0px 1px 2px rgba(60, 64, 67, 0.3), 0px 1px 3px 1px rgba(60, 64, 67, 0.15);\n",
              "      fill: #174EA6;\n",
              "    }\n",
              "\n",
              "    [theme=dark] .colab-df-convert {\n",
              "      background-color: #3B4455;\n",
              "      fill: #D2E3FC;\n",
              "    }\n",
              "\n",
              "    [theme=dark] .colab-df-convert:hover {\n",
              "      background-color: #434B5C;\n",
              "      box-shadow: 0px 1px 3px 1px rgba(0, 0, 0, 0.15);\n",
              "      filter: drop-shadow(0px 1px 2px rgba(0, 0, 0, 0.3));\n",
              "      fill: #FFFFFF;\n",
              "    }\n",
              "  </style>\n",
              "\n",
              "      <script>\n",
              "        const buttonEl =\n",
              "          document.querySelector('#df-2511bf47-9aac-4126-b1f1-20f4005c34e4 button.colab-df-convert');\n",
              "        buttonEl.style.display =\n",
              "          google.colab.kernel.accessAllowed ? 'block' : 'none';\n",
              "\n",
              "        async function convertToInteractive(key) {\n",
              "          const element = document.querySelector('#df-2511bf47-9aac-4126-b1f1-20f4005c34e4');\n",
              "          const dataTable =\n",
              "            await google.colab.kernel.invokeFunction('convertToInteractive',\n",
              "                                                     [key], {});\n",
              "          if (!dataTable) return;\n",
              "\n",
              "          const docLinkHtml = 'Like what you see? Visit the ' +\n",
              "            '<a target=\"_blank\" href=https://colab.research.google.com/notebooks/data_table.ipynb>data table notebook</a>'\n",
              "            + ' to learn more about interactive tables.';\n",
              "          element.innerHTML = '';\n",
              "          dataTable['output_type'] = 'display_data';\n",
              "          await google.colab.output.renderOutput(dataTable, element);\n",
              "          const docLink = document.createElement('div');\n",
              "          docLink.innerHTML = docLinkHtml;\n",
              "          element.appendChild(docLink);\n",
              "        }\n",
              "      </script>\n",
              "    </div>\n",
              "  </div>\n",
              "  "
            ]
          },
          "metadata": {},
          "execution_count": 6
        }
      ]
    },
    {
      "cell_type": "code",
      "source": [
        "for column in numerical_v1.columns:\n",
        "  numerical_v1[column] = numerical_v1[column].astype(float)\n",
        "features = numerical_v1.iloc[:,:-1]\n",
        "targets = numerical_v1.iloc[:,-1:]\n"
      ],
      "metadata": {
        "colab": {
          "base_uri": "https://localhost:8080/"
        },
        "id": "6kreqSqcfLTP",
        "outputId": "29919edd-5cc5-46c6-d0b6-9b88b9fff9ee"
      },
      "execution_count": null,
      "outputs": [
        {
          "output_type": "stream",
          "name": "stderr",
          "text": [
            "<ipython-input-7-6abf317e604a>:2: SettingWithCopyWarning: \n",
            "A value is trying to be set on a copy of a slice from a DataFrame.\n",
            "Try using .loc[row_indexer,col_indexer] = value instead\n",
            "\n",
            "See the caveats in the documentation: https://pandas.pydata.org/pandas-docs/stable/user_guide/indexing.html#returning-a-view-versus-a-copy\n",
            "  numerical_v1[column] = numerical_v1[column].astype(float)\n"
          ]
        }
      ]
    },
    {
      "cell_type": "code",
      "source": [
        "mlb = MultiLabelBinarizer()\n",
        "\n",
        "# Fit and transform the column with lists\n",
        "encoded_data = mlb.fit_transform(data_train['packaging_materials'])\n",
        "\n",
        "# Create a DataFrame with the encoded features\n",
        "encoded_df = pd.DataFrame(encoded_data, columns=mlb.classes_)"
      ],
      "metadata": {
        "id": "IMziK84BfsOi"
      },
      "execution_count": null,
      "outputs": []
    },
    {
      "cell_type": "code",
      "source": [
        "df_encoded = pd.concat([numerical_v1, encoded_df], axis=1)\n",
        "\n",
        "# Remove the original 'categories' column if desired\n",
        "df_encoded.drop('ecoscore_grade', axis=1, inplace=True)\n",
        "df_encoded['ecoscore_grade'] = data_train['ecoscore_grade']\n"
      ],
      "metadata": {
        "id": "RcZft4yEfbe6"
      },
      "execution_count": null,
      "outputs": []
    },
    {
      "cell_type": "code",
      "source": [
        "features = df_encoded.iloc[:,:-1]\n",
        "targets = df_encoded.iloc[:,-1:]\n",
        "targets = targets.astype('int')"
      ],
      "metadata": {
        "id": "D255qfk5f4Pz"
      },
      "execution_count": null,
      "outputs": []
    },
    {
      "cell_type": "code",
      "source": [
        "features.columns"
      ],
      "metadata": {
        "colab": {
          "base_uri": "https://localhost:8080/"
        },
        "id": "tVbIKUZ-wPLO",
        "outputId": "5af830e9-eb54-4e0d-e11f-531811478f28"
      },
      "execution_count": null,
      "outputs": [
        {
          "output_type": "execute_result",
          "data": {
            "text/plain": [
              "Index(['non_recyclable_and_non_biodegradable_materials_count',\n",
              "       'est_co2_agriculture', 'est_co2_consumption', 'est_co2_distribution',\n",
              "       'est_co2_packaging', 'est_co2_processing', 'est_co2_transportation',\n",
              "       'de:PP - Polypropylen,05', 'en:22', 'en:40', 'en:90', 'en:baking-paper',\n",
              "       'en:brown-glass', 'en:cardboard', 'en:clear-glass',\n",
              "       'en:composite-material', 'en:cork', 'en:corrugated-cardboard',\n",
              "       'en:elopak', 'en:fabric', 'en:fsc-cardboard', 'en:fsc-paper',\n",
              "       'en:glass', 'en:green-glass', 'en:hdpe-2-high-density-polyethylene',\n",
              "       'en:hdpe-high-density-polyethylene', 'en:heavy-aluminium',\n",
              "       'en:italpack', 'en:kraft-paper', 'en:ldpe-4-low-density-polyethylene',\n",
              "       'en:ldpe-low-density-polyethylene', 'en:light-aluminium', 'en:metal',\n",
              "       'en:multilayer-composite', 'en:non-corrugated-cardboard',\n",
              "       'en:o-7-other-plastics', 'en:opaque-pet', 'en:other-paper',\n",
              "       'en:other-plastics', 'en:paper',\n",
              "       'en:paper-and-cardboard-plastic-aluminium',\n",
              "       'en:paper-and-fibreboard-miscellaneous-metals', 'en:paper-and-plastic',\n",
              "       'en:paperboard', 'en:pe-7-polyethylene', 'en:pe-polyethylene',\n",
              "       'en:pet-1-polyethylene-terephthalate', 'en:pet-colored',\n",
              "       'en:pet-opaque', 'en:pet-polyethylene-terephthalate',\n",
              "       'en:pet-transparent', 'en:plastic', 'en:plastic,en:metal',\n",
              "       'en:plastic-aluminium', 'en:pp-5-polypropylene', 'en:pp-polypropylene',\n",
              "       'en:ps-6-polystyrene', 'en:ps-polystyrene', 'en:pure-pak-classic',\n",
              "       'en:recyclable-plastic', 'en:recycled-cardboard', 'en:recycled-paper',\n",
              "       'en:recycled-plastic', 'en:rpet-recycled-polyethylene-terephthalate',\n",
              "       'en:sig', 'en:steel', 'en:tetra-brik', 'en:tetra-brik-aseptic',\n",
              "       'en:tetra-pak', 'en:tetra-rex', 'en:tin-plated-steel',\n",
              "       'en:transparent-pet', 'en:unknown', 'en:wood', 'es:PEBD 4',\n",
              "       'fr:plastique 2 HDPE', 'xx:81-c-hdpe', 'xx:81-c-ldpe', 'xx:81-c-opp',\n",
              "       'xx:81-c-pap', 'xx:81-c-pet', 'xx:81-c-petmet', 'xx:82-c-pap',\n",
              "       'xx:84-c-pap', 'xx:90-c-ldpe', 'xx:90-c-pp', 'xx:91-c-fe'],\n",
              "      dtype='object')"
            ]
          },
          "metadata": {},
          "execution_count": 11
        }
      ]
    },
    {
      "cell_type": "code",
      "source": [
        "columns = ['non_recyclable_and_non_biodegradable_materials_count',\n",
        "       'est_co2_agriculture', 'est_co2_consumption', 'est_co2_distribution',\n",
        "       'est_co2_packaging', 'est_co2_processing', 'est_co2_transportation','']"
      ],
      "metadata": {
        "id": "4PQ9tsGuwYlU"
      },
      "execution_count": null,
      "outputs": []
    },
    {
      "cell_type": "code",
      "source": [
        "test_features = pd.read_json('/content/test_products.json')\n",
        "test_features = test_features.T\n",
        "numerical_v2 = test_features[['non_recyclable_and_non_biodegradable_materials_count','est_co2_agriculture', 'est_co2_consumption', 'est_co2_distribution','est_co2_packaging', 'est_co2_processing', 'est_co2_transportation']]"
      ],
      "metadata": {
        "id": "g2Kbmty1hGaf"
      },
      "execution_count": null,
      "outputs": []
    },
    {
      "cell_type": "code",
      "source": [
        "encoded_data = mlb.fit_transform(test_features['packaging_materials'])\n",
        "\n",
        "# Create a DataFrame with the encoded features\n",
        "encoded_df2 = pd.DataFrame(encoded_data, columns=mlb.classes_)\n",
        "df_encoded2 = pd.concat([numerical_v2, encoded_df2], axis=1)"
      ],
      "metadata": {
        "id": "OjgA61hymBnO"
      },
      "execution_count": null,
      "outputs": []
    },
    {
      "cell_type": "code",
      "source": [
        "df_encoded2.columns"
      ],
      "metadata": {
        "colab": {
          "base_uri": "https://localhost:8080/"
        },
        "id": "HBsouA2Rr1hz",
        "outputId": "7fdcf282-4c1c-4e33-8b16-55f75ba4762f"
      },
      "execution_count": null,
      "outputs": [
        {
          "output_type": "execute_result",
          "data": {
            "text/plain": [
              "Index(['non_recyclable_and_non_biodegradable_materials_count',\n",
              "       'est_co2_agriculture', 'est_co2_consumption', 'est_co2_distribution',\n",
              "       'est_co2_packaging', 'est_co2_processing', 'est_co2_transportation',\n",
              "       'de:06 PS Polystyrol', 'en:cardboard', 'en:elopak', 'en:fsc-paper',\n",
              "       'en:glass', 'en:hdpe-2-high-density-polyethylene',\n",
              "       'en:hdpe-high-density-polyethylene', 'en:heavy-aluminium',\n",
              "       'en:ldpe-low-density-polyethylene', 'en:light-aluminium', 'en:metal',\n",
              "       'en:multilayer-composite', 'en:non-corrugated-cardboard', 'en:paper',\n",
              "       'en:paper-and-plastic', 'en:paperboard',\n",
              "       'en:pet-1-polyethylene-terephthalate',\n",
              "       'en:pet-polyethylene-terephthalate', 'en:pla-polylactic-acid',\n",
              "       'en:plastic', 'en:pp-polypropylene', 'en:ps-6-polystyrene',\n",
              "       'en:ps-polystyrene', 'en:pure-pak', 'en:tetra-brik', 'en:tetra-pak',\n",
              "       'en:tetra-top', 'en:unknown', 'fr:A14', 'fr:pet alu'],\n",
              "      dtype='object')"
            ]
          },
          "metadata": {},
          "execution_count": 208
        }
      ]
    },
    {
      "cell_type": "code",
      "source": [
        "for column in df_encoded2.columns:\n",
        "  df_encoded2[column] = df_encoded2[column].astype(float)"
      ],
      "metadata": {
        "id": "BH0IX4AbxXQg"
      },
      "execution_count": null,
      "outputs": []
    },
    {
      "cell_type": "code",
      "source": [
        "columns = ['non_recyclable_and_non_biodegradable_materials_count',\n",
        "       'est_co2_agriculture', 'est_co2_consumption', 'est_co2_distribution',\n",
        "       'est_co2_packaging', 'est_co2_processing', 'est_co2_transportation',\n",
        "       'de:06 PS Polystyrol', 'en:cardboard', 'en:elopak', 'en:fsc-paper',\n",
        "       'en:glass', 'en:hdpe-2-high-density-polyethylene',\n",
        "       'en:hdpe-high-density-polyethylene', 'en:heavy-aluminium',\n",
        "       'en:ldpe-low-density-polyethylene', 'en:light-aluminium', 'en:metal',\n",
        "       'en:multilayer-composite', 'en:non-corrugated-cardboard', 'en:paper',\n",
        "       'en:paper-and-plastic', 'en:paperboard',\n",
        "       'en:pet-1-polyethylene-terephthalate',\n",
        "       'en:pet-polyethylene-terephthalate', 'en:pla-polylactic-acid',\n",
        "       'en:plastic', 'en:pp-polypropylene', 'en:ps-6-polystyrene',\n",
        "       'en:ps-polystyrene', 'en:pure-pak', 'en:tetra-brik', 'en:tetra-pak',\n",
        "       'en:tetra-top', 'en:unknown', 'fr:A14', 'fr:pet alu']"
      ],
      "metadata": {
        "id": "akFaOpQIxo1w"
      },
      "execution_count": null,
      "outputs": []
    },
    {
      "cell_type": "code",
      "source": [
        "columns_to_remove = ['de:06 PS Polystyrol', 'en:pla-polylactic-acid', 'en:pure-pak', 'en:tetra-top', 'fr:A14', 'fr:pet alu']"
      ],
      "metadata": {
        "id": "K7NU2X4FzSod"
      },
      "execution_count": null,
      "outputs": []
    },
    {
      "cell_type": "code",
      "source": [
        "columns = [element for element in columns if element not in columns_to_remove]"
      ],
      "metadata": {
        "id": "WYX1BdMMze0s"
      },
      "execution_count": null,
      "outputs": []
    },
    {
      "cell_type": "code",
      "source": [
        "features = df_encoded[columns]"
      ],
      "metadata": {
        "id": "paLB_dLWxs2y"
      },
      "execution_count": null,
      "outputs": []
    },
    {
      "cell_type": "code",
      "source": [
        "data_train.replace('unknown', pd.NA, inplace=True)"
      ],
      "metadata": {
        "id": "KPiBHAeeJjOt"
      },
      "execution_count": null,
      "outputs": []
    },
    {
      "cell_type": "code",
      "source": [
        "data_train.isna().sum()"
      ],
      "metadata": {
        "colab": {
          "base_uri": "https://localhost:8080/"
        },
        "id": "yAjayk3pJmAS",
        "outputId": "553db76b-cb2b-4492-de1a-e34794b31e56"
      },
      "execution_count": null,
      "outputs": [
        {
          "output_type": "execute_result",
          "data": {
            "text/plain": [
              "name                                                      328\n",
              "brand                                                       0\n",
              "generic_name                                            18624\n",
              "categories_hierarchy                                        0\n",
              "is_beverage                                                 0\n",
              "selling_countries                                           3\n",
              "ingredient_origins                                          0\n",
              "ingredients                                              5154\n",
              "additives_count                                          5154\n",
              "calcium_100g                                            19888\n",
              "carbohydrates_100g                                       2277\n",
              "energy_kcal_100g                                         4842\n",
              "fat_100g                                                 2335\n",
              "fiber_100g                                               7522\n",
              "proteins_100g                                            2278\n",
              "salt_100g                                                2575\n",
              "sodium_100g                                              2575\n",
              "sugars_100g                                              2410\n",
              "nutrition_grade                                          3922\n",
              "packaging_materials                                         0\n",
              "non_recyclable_and_non_biodegradable_materials_count        0\n",
              "est_co2_agriculture                                         0\n",
              "est_co2_consumption                                         0\n",
              "est_co2_distribution                                        0\n",
              "est_co2_packaging                                           0\n",
              "est_co2_processing                                          0\n",
              "est_co2_transportation                                      0\n",
              "ecoscore_grade                                              0\n",
              "dtype: int64"
            ]
          },
          "metadata": {},
          "execution_count": 50
        }
      ]
    },
    {
      "cell_type": "code",
      "source": [
        "features['is_beverage'] = data_train['is_beverage']\n",
        "features['additives_count'] = data_train['additives_count']\n",
        "features['additives_count'].fillna(features['additives_count'].mode().iloc[0], inplace=True)"
      ],
      "metadata": {
        "colab": {
          "base_uri": "https://localhost:8080/"
        },
        "id": "MmlTNXmlIxzW",
        "outputId": "b87d488a-dd31-41fa-cd60-4c7bfde4f0ee"
      },
      "execution_count": null,
      "outputs": [
        {
          "output_type": "stream",
          "name": "stderr",
          "text": [
            "<ipython-input-51-21ab2b70670f>:1: SettingWithCopyWarning: \n",
            "A value is trying to be set on a copy of a slice from a DataFrame.\n",
            "Try using .loc[row_indexer,col_indexer] = value instead\n",
            "\n",
            "See the caveats in the documentation: https://pandas.pydata.org/pandas-docs/stable/user_guide/indexing.html#returning-a-view-versus-a-copy\n",
            "  features['is_beverage'] = data_train['is_beverage']\n",
            "<ipython-input-51-21ab2b70670f>:2: SettingWithCopyWarning: \n",
            "A value is trying to be set on a copy of a slice from a DataFrame.\n",
            "Try using .loc[row_indexer,col_indexer] = value instead\n",
            "\n",
            "See the caveats in the documentation: https://pandas.pydata.org/pandas-docs/stable/user_guide/indexing.html#returning-a-view-versus-a-copy\n",
            "  features['additives_count'] = data_train['additives_count']\n",
            "<ipython-input-51-21ab2b70670f>:3: SettingWithCopyWarning: \n",
            "A value is trying to be set on a copy of a slice from a DataFrame\n",
            "\n",
            "See the caveats in the documentation: https://pandas.pydata.org/pandas-docs/stable/user_guide/indexing.html#returning-a-view-versus-a-copy\n",
            "  features['additives_count'].fillna(features['additives_count'].mode().iloc[0], inplace=True)\n"
          ]
        }
      ]
    },
    {
      "cell_type": "code",
      "source": [
        "data_train['nutrition_grade'].isna().sum()\n",
        "data_train['nutrition_grade'].fillna(data_train['nutrition_grade'].mode().iloc[0], inplace=True)"
      ],
      "metadata": {
        "id": "lVvDkz0jLomq"
      },
      "execution_count": null,
      "outputs": []
    },
    {
      "cell_type": "code",
      "source": [
        "label_encoder = LabelEncoder()\n",
        "\n",
        "# Apply label encoding to the 'nutrition grade' column\n",
        "data_train['nutrition_grade'] = label_encoder.fit_transform(data_train['nutrition_grade'])"
      ],
      "metadata": {
        "id": "zLcGYq37J11V"
      },
      "execution_count": null,
      "outputs": []
    },
    {
      "cell_type": "code",
      "source": [
        "features['nutrition_grade'] = data_train['nutrition_grade']"
      ],
      "metadata": {
        "colab": {
          "base_uri": "https://localhost:8080/"
        },
        "id": "QNW0TEMfJ7Uo",
        "outputId": "5ac1ef61-3021-4966-a8bd-dc7ecef0eb99"
      },
      "execution_count": null,
      "outputs": [
        {
          "output_type": "stream",
          "name": "stderr",
          "text": [
            "<ipython-input-67-729497f36c40>:1: SettingWithCopyWarning: \n",
            "A value is trying to be set on a copy of a slice from a DataFrame.\n",
            "Try using .loc[row_indexer,col_indexer] = value instead\n",
            "\n",
            "See the caveats in the documentation: https://pandas.pydata.org/pandas-docs/stable/user_guide/indexing.html#returning-a-view-versus-a-copy\n",
            "  features['nutrition_grade'] = data_train['nutrition_grade']\n"
          ]
        }
      ]
    },
    {
      "cell_type": "code",
      "source": [
        "features.drop(['nutrition_grade'],axis=1)"
      ],
      "metadata": {
        "colab": {
          "base_uri": "https://localhost:8080/",
          "height": 522
        },
        "id": "ByXWnYtcNEB1",
        "outputId": "1ae58f52-782f-429f-cd28-9dcafa5c6a70"
      },
      "execution_count": null,
      "outputs": [
        {
          "output_type": "execute_result",
          "data": {
            "text/plain": [
              "       non_recyclable_and_non_biodegradable_materials_count  \\\n",
              "0                                                    1.0      \n",
              "1                                                    1.0      \n",
              "2                                                    1.0      \n",
              "3                                                    1.0      \n",
              "4                                                    0.0      \n",
              "...                                                  ...      \n",
              "20830                                                1.0      \n",
              "20831                                                1.0      \n",
              "20832                                                1.0      \n",
              "20833                                                1.0      \n",
              "20834                                                1.0      \n",
              "\n",
              "       est_co2_agriculture  est_co2_consumption  est_co2_distribution  \\\n",
              "0                 1.405794             0.122097              0.151978   \n",
              "1                 1.772009             0.000000              0.019531   \n",
              "2                 2.239600             0.000000              0.019531   \n",
              "3                 4.536405             0.006688              0.037393   \n",
              "4                 7.918371             0.000000              0.015709   \n",
              "...                    ...                  ...                   ...   \n",
              "20830             0.124785             0.000000              0.015377   \n",
              "20831            19.495674             0.000000              0.015709   \n",
              "20832             1.463891             0.000000              0.017321   \n",
              "20833             7.304731             0.006688              0.039033   \n",
              "20834             4.142584             0.006688              0.036974   \n",
              "\n",
              "       est_co2_packaging  est_co2_processing  est_co2_transportation  \\\n",
              "0               0.400866            0.123400                0.344651   \n",
              "1               0.288156            5.215055                0.171567   \n",
              "2               0.281596            0.770511                0.252874   \n",
              "3               0.185784            0.458632                0.217118   \n",
              "4               0.478390            0.445327                0.334988   \n",
              "...                  ...                 ...                     ...   \n",
              "20830           0.100104            0.116079                0.145580   \n",
              "20831           0.100104            6.998544                0.456216   \n",
              "20832           0.104294           15.259235                0.265547   \n",
              "20833           0.180553            0.056470                0.233556   \n",
              "20834           0.275642            0.824163                0.233039   \n",
              "\n",
              "       en:cardboard  en:elopak  en:fsc-paper  ...  \\\n",
              "0                 0          0             0  ...   \n",
              "1                 1          0             0  ...   \n",
              "2                 0          0             0  ...   \n",
              "3                 0          0             0  ...   \n",
              "4                 0          0             0  ...   \n",
              "...             ...        ...           ...  ...   \n",
              "20830             0          0             0  ...   \n",
              "20831             0          0             0  ...   \n",
              "20832             0          0             0  ...   \n",
              "20833             0          0             0  ...   \n",
              "20834             0          0             0  ...   \n",
              "\n",
              "       en:pet-polyethylene-terephthalate  en:plastic  en:pp-polypropylene  \\\n",
              "0                                      0           1                    0   \n",
              "1                                      0           1                    0   \n",
              "2                                      0           1                    0   \n",
              "3                                      0           1                    0   \n",
              "4                                      0           1                    0   \n",
              "...                                  ...         ...                  ...   \n",
              "20830                                  0           0                    0   \n",
              "20831                                  0           0                    0   \n",
              "20832                                  0           0                    0   \n",
              "20833                                  0           1                    0   \n",
              "20834                                  0           0                    0   \n",
              "\n",
              "       en:ps-6-polystyrene  en:ps-polystyrene  en:tetra-brik  en:tetra-pak  \\\n",
              "0                        0                  0              0             0   \n",
              "1                        0                  0              0             0   \n",
              "2                        0                  0              0             0   \n",
              "3                        0                  0              0             0   \n",
              "4                        0                  0              0             0   \n",
              "...                    ...                ...            ...           ...   \n",
              "20830                    0                  0              0             0   \n",
              "20831                    0                  0              0             0   \n",
              "20832                    0                  0              0             0   \n",
              "20833                    0                  0              0             0   \n",
              "20834                    0                  0              0             0   \n",
              "\n",
              "       en:unknown  is_beverage  additives_count  \n",
              "0               0            0                1  \n",
              "1               0            0               10  \n",
              "2               0            0                3  \n",
              "3               0            0                2  \n",
              "4               1            0                0  \n",
              "...           ...          ...              ...  \n",
              "20830           1            1                0  \n",
              "20831           1            1                0  \n",
              "20832           1            0                0  \n",
              "20833           0            0                0  \n",
              "20834           1            0                0  \n",
              "\n",
              "[20835 rows x 33 columns]"
            ],
            "text/html": [
              "\n",
              "  <div id=\"df-da8b522e-fa6f-4ccb-bd90-0bd16c28a6bf\">\n",
              "    <div class=\"colab-df-container\">\n",
              "      <div>\n",
              "<style scoped>\n",
              "    .dataframe tbody tr th:only-of-type {\n",
              "        vertical-align: middle;\n",
              "    }\n",
              "\n",
              "    .dataframe tbody tr th {\n",
              "        vertical-align: top;\n",
              "    }\n",
              "\n",
              "    .dataframe thead th {\n",
              "        text-align: right;\n",
              "    }\n",
              "</style>\n",
              "<table border=\"1\" class=\"dataframe\">\n",
              "  <thead>\n",
              "    <tr style=\"text-align: right;\">\n",
              "      <th></th>\n",
              "      <th>non_recyclable_and_non_biodegradable_materials_count</th>\n",
              "      <th>est_co2_agriculture</th>\n",
              "      <th>est_co2_consumption</th>\n",
              "      <th>est_co2_distribution</th>\n",
              "      <th>est_co2_packaging</th>\n",
              "      <th>est_co2_processing</th>\n",
              "      <th>est_co2_transportation</th>\n",
              "      <th>en:cardboard</th>\n",
              "      <th>en:elopak</th>\n",
              "      <th>en:fsc-paper</th>\n",
              "      <th>...</th>\n",
              "      <th>en:pet-polyethylene-terephthalate</th>\n",
              "      <th>en:plastic</th>\n",
              "      <th>en:pp-polypropylene</th>\n",
              "      <th>en:ps-6-polystyrene</th>\n",
              "      <th>en:ps-polystyrene</th>\n",
              "      <th>en:tetra-brik</th>\n",
              "      <th>en:tetra-pak</th>\n",
              "      <th>en:unknown</th>\n",
              "      <th>is_beverage</th>\n",
              "      <th>additives_count</th>\n",
              "    </tr>\n",
              "  </thead>\n",
              "  <tbody>\n",
              "    <tr>\n",
              "      <th>0</th>\n",
              "      <td>1.0</td>\n",
              "      <td>1.405794</td>\n",
              "      <td>0.122097</td>\n",
              "      <td>0.151978</td>\n",
              "      <td>0.400866</td>\n",
              "      <td>0.123400</td>\n",
              "      <td>0.344651</td>\n",
              "      <td>0</td>\n",
              "      <td>0</td>\n",
              "      <td>0</td>\n",
              "      <td>...</td>\n",
              "      <td>0</td>\n",
              "      <td>1</td>\n",
              "      <td>0</td>\n",
              "      <td>0</td>\n",
              "      <td>0</td>\n",
              "      <td>0</td>\n",
              "      <td>0</td>\n",
              "      <td>0</td>\n",
              "      <td>0</td>\n",
              "      <td>1</td>\n",
              "    </tr>\n",
              "    <tr>\n",
              "      <th>1</th>\n",
              "      <td>1.0</td>\n",
              "      <td>1.772009</td>\n",
              "      <td>0.000000</td>\n",
              "      <td>0.019531</td>\n",
              "      <td>0.288156</td>\n",
              "      <td>5.215055</td>\n",
              "      <td>0.171567</td>\n",
              "      <td>1</td>\n",
              "      <td>0</td>\n",
              "      <td>0</td>\n",
              "      <td>...</td>\n",
              "      <td>0</td>\n",
              "      <td>1</td>\n",
              "      <td>0</td>\n",
              "      <td>0</td>\n",
              "      <td>0</td>\n",
              "      <td>0</td>\n",
              "      <td>0</td>\n",
              "      <td>0</td>\n",
              "      <td>0</td>\n",
              "      <td>10</td>\n",
              "    </tr>\n",
              "    <tr>\n",
              "      <th>2</th>\n",
              "      <td>1.0</td>\n",
              "      <td>2.239600</td>\n",
              "      <td>0.000000</td>\n",
              "      <td>0.019531</td>\n",
              "      <td>0.281596</td>\n",
              "      <td>0.770511</td>\n",
              "      <td>0.252874</td>\n",
              "      <td>0</td>\n",
              "      <td>0</td>\n",
              "      <td>0</td>\n",
              "      <td>...</td>\n",
              "      <td>0</td>\n",
              "      <td>1</td>\n",
              "      <td>0</td>\n",
              "      <td>0</td>\n",
              "      <td>0</td>\n",
              "      <td>0</td>\n",
              "      <td>0</td>\n",
              "      <td>0</td>\n",
              "      <td>0</td>\n",
              "      <td>3</td>\n",
              "    </tr>\n",
              "    <tr>\n",
              "      <th>3</th>\n",
              "      <td>1.0</td>\n",
              "      <td>4.536405</td>\n",
              "      <td>0.006688</td>\n",
              "      <td>0.037393</td>\n",
              "      <td>0.185784</td>\n",
              "      <td>0.458632</td>\n",
              "      <td>0.217118</td>\n",
              "      <td>0</td>\n",
              "      <td>0</td>\n",
              "      <td>0</td>\n",
              "      <td>...</td>\n",
              "      <td>0</td>\n",
              "      <td>1</td>\n",
              "      <td>0</td>\n",
              "      <td>0</td>\n",
              "      <td>0</td>\n",
              "      <td>0</td>\n",
              "      <td>0</td>\n",
              "      <td>0</td>\n",
              "      <td>0</td>\n",
              "      <td>2</td>\n",
              "    </tr>\n",
              "    <tr>\n",
              "      <th>4</th>\n",
              "      <td>0.0</td>\n",
              "      <td>7.918371</td>\n",
              "      <td>0.000000</td>\n",
              "      <td>0.015709</td>\n",
              "      <td>0.478390</td>\n",
              "      <td>0.445327</td>\n",
              "      <td>0.334988</td>\n",
              "      <td>0</td>\n",
              "      <td>0</td>\n",
              "      <td>0</td>\n",
              "      <td>...</td>\n",
              "      <td>0</td>\n",
              "      <td>1</td>\n",
              "      <td>0</td>\n",
              "      <td>0</td>\n",
              "      <td>0</td>\n",
              "      <td>0</td>\n",
              "      <td>0</td>\n",
              "      <td>1</td>\n",
              "      <td>0</td>\n",
              "      <td>0</td>\n",
              "    </tr>\n",
              "    <tr>\n",
              "      <th>...</th>\n",
              "      <td>...</td>\n",
              "      <td>...</td>\n",
              "      <td>...</td>\n",
              "      <td>...</td>\n",
              "      <td>...</td>\n",
              "      <td>...</td>\n",
              "      <td>...</td>\n",
              "      <td>...</td>\n",
              "      <td>...</td>\n",
              "      <td>...</td>\n",
              "      <td>...</td>\n",
              "      <td>...</td>\n",
              "      <td>...</td>\n",
              "      <td>...</td>\n",
              "      <td>...</td>\n",
              "      <td>...</td>\n",
              "      <td>...</td>\n",
              "      <td>...</td>\n",
              "      <td>...</td>\n",
              "      <td>...</td>\n",
              "      <td>...</td>\n",
              "    </tr>\n",
              "    <tr>\n",
              "      <th>20830</th>\n",
              "      <td>1.0</td>\n",
              "      <td>0.124785</td>\n",
              "      <td>0.000000</td>\n",
              "      <td>0.015377</td>\n",
              "      <td>0.100104</td>\n",
              "      <td>0.116079</td>\n",
              "      <td>0.145580</td>\n",
              "      <td>0</td>\n",
              "      <td>0</td>\n",
              "      <td>0</td>\n",
              "      <td>...</td>\n",
              "      <td>0</td>\n",
              "      <td>0</td>\n",
              "      <td>0</td>\n",
              "      <td>0</td>\n",
              "      <td>0</td>\n",
              "      <td>0</td>\n",
              "      <td>0</td>\n",
              "      <td>1</td>\n",
              "      <td>1</td>\n",
              "      <td>0</td>\n",
              "    </tr>\n",
              "    <tr>\n",
              "      <th>20831</th>\n",
              "      <td>1.0</td>\n",
              "      <td>19.495674</td>\n",
              "      <td>0.000000</td>\n",
              "      <td>0.015709</td>\n",
              "      <td>0.100104</td>\n",
              "      <td>6.998544</td>\n",
              "      <td>0.456216</td>\n",
              "      <td>0</td>\n",
              "      <td>0</td>\n",
              "      <td>0</td>\n",
              "      <td>...</td>\n",
              "      <td>0</td>\n",
              "      <td>0</td>\n",
              "      <td>0</td>\n",
              "      <td>0</td>\n",
              "      <td>0</td>\n",
              "      <td>0</td>\n",
              "      <td>0</td>\n",
              "      <td>1</td>\n",
              "      <td>1</td>\n",
              "      <td>0</td>\n",
              "    </tr>\n",
              "    <tr>\n",
              "      <th>20832</th>\n",
              "      <td>1.0</td>\n",
              "      <td>1.463891</td>\n",
              "      <td>0.000000</td>\n",
              "      <td>0.017321</td>\n",
              "      <td>0.104294</td>\n",
              "      <td>15.259235</td>\n",
              "      <td>0.265547</td>\n",
              "      <td>0</td>\n",
              "      <td>0</td>\n",
              "      <td>0</td>\n",
              "      <td>...</td>\n",
              "      <td>0</td>\n",
              "      <td>0</td>\n",
              "      <td>0</td>\n",
              "      <td>0</td>\n",
              "      <td>0</td>\n",
              "      <td>0</td>\n",
              "      <td>0</td>\n",
              "      <td>1</td>\n",
              "      <td>0</td>\n",
              "      <td>0</td>\n",
              "    </tr>\n",
              "    <tr>\n",
              "      <th>20833</th>\n",
              "      <td>1.0</td>\n",
              "      <td>7.304731</td>\n",
              "      <td>0.006688</td>\n",
              "      <td>0.039033</td>\n",
              "      <td>0.180553</td>\n",
              "      <td>0.056470</td>\n",
              "      <td>0.233556</td>\n",
              "      <td>0</td>\n",
              "      <td>0</td>\n",
              "      <td>0</td>\n",
              "      <td>...</td>\n",
              "      <td>0</td>\n",
              "      <td>1</td>\n",
              "      <td>0</td>\n",
              "      <td>0</td>\n",
              "      <td>0</td>\n",
              "      <td>0</td>\n",
              "      <td>0</td>\n",
              "      <td>0</td>\n",
              "      <td>0</td>\n",
              "      <td>0</td>\n",
              "    </tr>\n",
              "    <tr>\n",
              "      <th>20834</th>\n",
              "      <td>1.0</td>\n",
              "      <td>4.142584</td>\n",
              "      <td>0.006688</td>\n",
              "      <td>0.036974</td>\n",
              "      <td>0.275642</td>\n",
              "      <td>0.824163</td>\n",
              "      <td>0.233039</td>\n",
              "      <td>0</td>\n",
              "      <td>0</td>\n",
              "      <td>0</td>\n",
              "      <td>...</td>\n",
              "      <td>0</td>\n",
              "      <td>0</td>\n",
              "      <td>0</td>\n",
              "      <td>0</td>\n",
              "      <td>0</td>\n",
              "      <td>0</td>\n",
              "      <td>0</td>\n",
              "      <td>1</td>\n",
              "      <td>0</td>\n",
              "      <td>0</td>\n",
              "    </tr>\n",
              "  </tbody>\n",
              "</table>\n",
              "<p>20835 rows × 33 columns</p>\n",
              "</div>\n",
              "      <button class=\"colab-df-convert\" onclick=\"convertToInteractive('df-da8b522e-fa6f-4ccb-bd90-0bd16c28a6bf')\"\n",
              "              title=\"Convert this dataframe to an interactive table.\"\n",
              "              style=\"display:none;\">\n",
              "        \n",
              "  <svg xmlns=\"http://www.w3.org/2000/svg\" height=\"24px\"viewBox=\"0 0 24 24\"\n",
              "       width=\"24px\">\n",
              "    <path d=\"M0 0h24v24H0V0z\" fill=\"none\"/>\n",
              "    <path d=\"M18.56 5.44l.94 2.06.94-2.06 2.06-.94-2.06-.94-.94-2.06-.94 2.06-2.06.94zm-11 1L8.5 8.5l.94-2.06 2.06-.94-2.06-.94L8.5 2.5l-.94 2.06-2.06.94zm10 10l.94 2.06.94-2.06 2.06-.94-2.06-.94-.94-2.06-.94 2.06-2.06.94z\"/><path d=\"M17.41 7.96l-1.37-1.37c-.4-.4-.92-.59-1.43-.59-.52 0-1.04.2-1.43.59L10.3 9.45l-7.72 7.72c-.78.78-.78 2.05 0 2.83L4 21.41c.39.39.9.59 1.41.59.51 0 1.02-.2 1.41-.59l7.78-7.78 2.81-2.81c.8-.78.8-2.07 0-2.86zM5.41 20L4 18.59l7.72-7.72 1.47 1.35L5.41 20z\"/>\n",
              "  </svg>\n",
              "      </button>\n",
              "      \n",
              "  <style>\n",
              "    .colab-df-container {\n",
              "      display:flex;\n",
              "      flex-wrap:wrap;\n",
              "      gap: 12px;\n",
              "    }\n",
              "\n",
              "    .colab-df-convert {\n",
              "      background-color: #E8F0FE;\n",
              "      border: none;\n",
              "      border-radius: 50%;\n",
              "      cursor: pointer;\n",
              "      display: none;\n",
              "      fill: #1967D2;\n",
              "      height: 32px;\n",
              "      padding: 0 0 0 0;\n",
              "      width: 32px;\n",
              "    }\n",
              "\n",
              "    .colab-df-convert:hover {\n",
              "      background-color: #E2EBFA;\n",
              "      box-shadow: 0px 1px 2px rgba(60, 64, 67, 0.3), 0px 1px 3px 1px rgba(60, 64, 67, 0.15);\n",
              "      fill: #174EA6;\n",
              "    }\n",
              "\n",
              "    [theme=dark] .colab-df-convert {\n",
              "      background-color: #3B4455;\n",
              "      fill: #D2E3FC;\n",
              "    }\n",
              "\n",
              "    [theme=dark] .colab-df-convert:hover {\n",
              "      background-color: #434B5C;\n",
              "      box-shadow: 0px 1px 3px 1px rgba(0, 0, 0, 0.15);\n",
              "      filter: drop-shadow(0px 1px 2px rgba(0, 0, 0, 0.3));\n",
              "      fill: #FFFFFF;\n",
              "    }\n",
              "  </style>\n",
              "\n",
              "      <script>\n",
              "        const buttonEl =\n",
              "          document.querySelector('#df-da8b522e-fa6f-4ccb-bd90-0bd16c28a6bf button.colab-df-convert');\n",
              "        buttonEl.style.display =\n",
              "          google.colab.kernel.accessAllowed ? 'block' : 'none';\n",
              "\n",
              "        async function convertToInteractive(key) {\n",
              "          const element = document.querySelector('#df-da8b522e-fa6f-4ccb-bd90-0bd16c28a6bf');\n",
              "          const dataTable =\n",
              "            await google.colab.kernel.invokeFunction('convertToInteractive',\n",
              "                                                     [key], {});\n",
              "          if (!dataTable) return;\n",
              "\n",
              "          const docLinkHtml = 'Like what you see? Visit the ' +\n",
              "            '<a target=\"_blank\" href=https://colab.research.google.com/notebooks/data_table.ipynb>data table notebook</a>'\n",
              "            + ' to learn more about interactive tables.';\n",
              "          element.innerHTML = '';\n",
              "          dataTable['output_type'] = 'display_data';\n",
              "          await google.colab.output.renderOutput(dataTable, element);\n",
              "          const docLink = document.createElement('div');\n",
              "          docLink.innerHTML = docLinkHtml;\n",
              "          element.appendChild(docLink);\n",
              "        }\n",
              "      </script>\n",
              "    </div>\n",
              "  </div>\n",
              "  "
            ]
          },
          "metadata": {},
          "execution_count": 71
        }
      ]
    },
    {
      "cell_type": "code",
      "source": [
        "encoded_features = pd.get_dummies(data_train['nutrition_grade'])"
      ],
      "metadata": {
        "id": "RbRceMsFSlFr"
      },
      "execution_count": null,
      "outputs": []
    },
    {
      "cell_type": "code",
      "source": [
        "features1 = pd.concat([features, encoded_features], axis=1)"
      ],
      "metadata": {
        "id": "5MG3ULmaTerT"
      },
      "execution_count": null,
      "outputs": []
    },
    {
      "cell_type": "code",
      "source": [
        "features1.head(5)\n",
        "features1.columns = features1.columns.astype(str)"
      ],
      "metadata": {
        "id": "Qt-rEQ5aUECb"
      },
      "execution_count": null,
      "outputs": []
    },
    {
      "cell_type": "code",
      "source": [
        "features1.drop('nutrition_grade',axis=1)"
      ],
      "metadata": {
        "colab": {
          "base_uri": "https://localhost:8080/",
          "height": 505
        },
        "id": "ltUgJDyHaB4e",
        "outputId": "49083d0d-3a59-4413-a7d2-51b6e61b041c"
      },
      "execution_count": null,
      "outputs": [
        {
          "output_type": "execute_result",
          "data": {
            "text/plain": [
              "       non_recyclable_and_non_biodegradable_materials_count  \\\n",
              "0                                                    1.0      \n",
              "1                                                    1.0      \n",
              "2                                                    1.0      \n",
              "3                                                    1.0      \n",
              "4                                                    0.0      \n",
              "...                                                  ...      \n",
              "20830                                                1.0      \n",
              "20831                                                1.0      \n",
              "20832                                                1.0      \n",
              "20833                                                1.0      \n",
              "20834                                                1.0      \n",
              "\n",
              "       est_co2_agriculture  est_co2_consumption  est_co2_distribution  \\\n",
              "0                 1.405794             0.122097              0.151978   \n",
              "1                 1.772009             0.000000              0.019531   \n",
              "2                 2.239600             0.000000              0.019531   \n",
              "3                 4.536405             0.006688              0.037393   \n",
              "4                 7.918371             0.000000              0.015709   \n",
              "...                    ...                  ...                   ...   \n",
              "20830             0.124785             0.000000              0.015377   \n",
              "20831            19.495674             0.000000              0.015709   \n",
              "20832             1.463891             0.000000              0.017321   \n",
              "20833             7.304731             0.006688              0.039033   \n",
              "20834             4.142584             0.006688              0.036974   \n",
              "\n",
              "       est_co2_packaging  est_co2_processing  est_co2_transportation  \\\n",
              "0               0.400866            0.123400                0.344651   \n",
              "1               0.288156            5.215055                0.171567   \n",
              "2               0.281596            0.770511                0.252874   \n",
              "3               0.185784            0.458632                0.217118   \n",
              "4               0.478390            0.445327                0.334988   \n",
              "...                  ...                 ...                     ...   \n",
              "20830           0.100104            0.116079                0.145580   \n",
              "20831           0.100104            6.998544                0.456216   \n",
              "20832           0.104294           15.259235                0.265547   \n",
              "20833           0.180553            0.056470                0.233556   \n",
              "20834           0.275642            0.824163                0.233039   \n",
              "\n",
              "       en:cardboard  en:elopak  en:fsc-paper  ...  en:tetra-brik  \\\n",
              "0                 0          0             0  ...              0   \n",
              "1                 1          0             0  ...              0   \n",
              "2                 0          0             0  ...              0   \n",
              "3                 0          0             0  ...              0   \n",
              "4                 0          0             0  ...              0   \n",
              "...             ...        ...           ...  ...            ...   \n",
              "20830             0          0             0  ...              0   \n",
              "20831             0          0             0  ...              0   \n",
              "20832             0          0             0  ...              0   \n",
              "20833             0          0             0  ...              0   \n",
              "20834             0          0             0  ...              0   \n",
              "\n",
              "       en:tetra-pak  en:unknown  is_beverage  additives_count  0  1  2  3  4  \n",
              "0                 0           0            0                1  0  1  0  0  0  \n",
              "1                 0           0            0               10  0  0  0  0  1  \n",
              "2                 0           0            0                3  0  0  0  1  0  \n",
              "3                 0           0            0                2  0  0  0  0  1  \n",
              "4                 0           1            0                0  0  0  0  1  0  \n",
              "...             ...         ...          ...              ... .. .. .. .. ..  \n",
              "20830             0           1            1                0  0  0  0  1  0  \n",
              "20831             0           1            1                0  0  0  0  1  0  \n",
              "20832             0           1            0                0  0  0  0  1  0  \n",
              "20833             0           0            0                0  0  0  0  0  1  \n",
              "20834             0           1            0                0  0  0  0  1  0  \n",
              "\n",
              "[20835 rows x 38 columns]"
            ],
            "text/html": [
              "\n",
              "  <div id=\"df-1b6c44b9-f5be-4a4c-a068-b294c1ad77fa\">\n",
              "    <div class=\"colab-df-container\">\n",
              "      <div>\n",
              "<style scoped>\n",
              "    .dataframe tbody tr th:only-of-type {\n",
              "        vertical-align: middle;\n",
              "    }\n",
              "\n",
              "    .dataframe tbody tr th {\n",
              "        vertical-align: top;\n",
              "    }\n",
              "\n",
              "    .dataframe thead th {\n",
              "        text-align: right;\n",
              "    }\n",
              "</style>\n",
              "<table border=\"1\" class=\"dataframe\">\n",
              "  <thead>\n",
              "    <tr style=\"text-align: right;\">\n",
              "      <th></th>\n",
              "      <th>non_recyclable_and_non_biodegradable_materials_count</th>\n",
              "      <th>est_co2_agriculture</th>\n",
              "      <th>est_co2_consumption</th>\n",
              "      <th>est_co2_distribution</th>\n",
              "      <th>est_co2_packaging</th>\n",
              "      <th>est_co2_processing</th>\n",
              "      <th>est_co2_transportation</th>\n",
              "      <th>en:cardboard</th>\n",
              "      <th>en:elopak</th>\n",
              "      <th>en:fsc-paper</th>\n",
              "      <th>...</th>\n",
              "      <th>en:tetra-brik</th>\n",
              "      <th>en:tetra-pak</th>\n",
              "      <th>en:unknown</th>\n",
              "      <th>is_beverage</th>\n",
              "      <th>additives_count</th>\n",
              "      <th>0</th>\n",
              "      <th>1</th>\n",
              "      <th>2</th>\n",
              "      <th>3</th>\n",
              "      <th>4</th>\n",
              "    </tr>\n",
              "  </thead>\n",
              "  <tbody>\n",
              "    <tr>\n",
              "      <th>0</th>\n",
              "      <td>1.0</td>\n",
              "      <td>1.405794</td>\n",
              "      <td>0.122097</td>\n",
              "      <td>0.151978</td>\n",
              "      <td>0.400866</td>\n",
              "      <td>0.123400</td>\n",
              "      <td>0.344651</td>\n",
              "      <td>0</td>\n",
              "      <td>0</td>\n",
              "      <td>0</td>\n",
              "      <td>...</td>\n",
              "      <td>0</td>\n",
              "      <td>0</td>\n",
              "      <td>0</td>\n",
              "      <td>0</td>\n",
              "      <td>1</td>\n",
              "      <td>0</td>\n",
              "      <td>1</td>\n",
              "      <td>0</td>\n",
              "      <td>0</td>\n",
              "      <td>0</td>\n",
              "    </tr>\n",
              "    <tr>\n",
              "      <th>1</th>\n",
              "      <td>1.0</td>\n",
              "      <td>1.772009</td>\n",
              "      <td>0.000000</td>\n",
              "      <td>0.019531</td>\n",
              "      <td>0.288156</td>\n",
              "      <td>5.215055</td>\n",
              "      <td>0.171567</td>\n",
              "      <td>1</td>\n",
              "      <td>0</td>\n",
              "      <td>0</td>\n",
              "      <td>...</td>\n",
              "      <td>0</td>\n",
              "      <td>0</td>\n",
              "      <td>0</td>\n",
              "      <td>0</td>\n",
              "      <td>10</td>\n",
              "      <td>0</td>\n",
              "      <td>0</td>\n",
              "      <td>0</td>\n",
              "      <td>0</td>\n",
              "      <td>1</td>\n",
              "    </tr>\n",
              "    <tr>\n",
              "      <th>2</th>\n",
              "      <td>1.0</td>\n",
              "      <td>2.239600</td>\n",
              "      <td>0.000000</td>\n",
              "      <td>0.019531</td>\n",
              "      <td>0.281596</td>\n",
              "      <td>0.770511</td>\n",
              "      <td>0.252874</td>\n",
              "      <td>0</td>\n",
              "      <td>0</td>\n",
              "      <td>0</td>\n",
              "      <td>...</td>\n",
              "      <td>0</td>\n",
              "      <td>0</td>\n",
              "      <td>0</td>\n",
              "      <td>0</td>\n",
              "      <td>3</td>\n",
              "      <td>0</td>\n",
              "      <td>0</td>\n",
              "      <td>0</td>\n",
              "      <td>1</td>\n",
              "      <td>0</td>\n",
              "    </tr>\n",
              "    <tr>\n",
              "      <th>3</th>\n",
              "      <td>1.0</td>\n",
              "      <td>4.536405</td>\n",
              "      <td>0.006688</td>\n",
              "      <td>0.037393</td>\n",
              "      <td>0.185784</td>\n",
              "      <td>0.458632</td>\n",
              "      <td>0.217118</td>\n",
              "      <td>0</td>\n",
              "      <td>0</td>\n",
              "      <td>0</td>\n",
              "      <td>...</td>\n",
              "      <td>0</td>\n",
              "      <td>0</td>\n",
              "      <td>0</td>\n",
              "      <td>0</td>\n",
              "      <td>2</td>\n",
              "      <td>0</td>\n",
              "      <td>0</td>\n",
              "      <td>0</td>\n",
              "      <td>0</td>\n",
              "      <td>1</td>\n",
              "    </tr>\n",
              "    <tr>\n",
              "      <th>4</th>\n",
              "      <td>0.0</td>\n",
              "      <td>7.918371</td>\n",
              "      <td>0.000000</td>\n",
              "      <td>0.015709</td>\n",
              "      <td>0.478390</td>\n",
              "      <td>0.445327</td>\n",
              "      <td>0.334988</td>\n",
              "      <td>0</td>\n",
              "      <td>0</td>\n",
              "      <td>0</td>\n",
              "      <td>...</td>\n",
              "      <td>0</td>\n",
              "      <td>0</td>\n",
              "      <td>1</td>\n",
              "      <td>0</td>\n",
              "      <td>0</td>\n",
              "      <td>0</td>\n",
              "      <td>0</td>\n",
              "      <td>0</td>\n",
              "      <td>1</td>\n",
              "      <td>0</td>\n",
              "    </tr>\n",
              "    <tr>\n",
              "      <th>...</th>\n",
              "      <td>...</td>\n",
              "      <td>...</td>\n",
              "      <td>...</td>\n",
              "      <td>...</td>\n",
              "      <td>...</td>\n",
              "      <td>...</td>\n",
              "      <td>...</td>\n",
              "      <td>...</td>\n",
              "      <td>...</td>\n",
              "      <td>...</td>\n",
              "      <td>...</td>\n",
              "      <td>...</td>\n",
              "      <td>...</td>\n",
              "      <td>...</td>\n",
              "      <td>...</td>\n",
              "      <td>...</td>\n",
              "      <td>...</td>\n",
              "      <td>...</td>\n",
              "      <td>...</td>\n",
              "      <td>...</td>\n",
              "      <td>...</td>\n",
              "    </tr>\n",
              "    <tr>\n",
              "      <th>20830</th>\n",
              "      <td>1.0</td>\n",
              "      <td>0.124785</td>\n",
              "      <td>0.000000</td>\n",
              "      <td>0.015377</td>\n",
              "      <td>0.100104</td>\n",
              "      <td>0.116079</td>\n",
              "      <td>0.145580</td>\n",
              "      <td>0</td>\n",
              "      <td>0</td>\n",
              "      <td>0</td>\n",
              "      <td>...</td>\n",
              "      <td>0</td>\n",
              "      <td>0</td>\n",
              "      <td>1</td>\n",
              "      <td>1</td>\n",
              "      <td>0</td>\n",
              "      <td>0</td>\n",
              "      <td>0</td>\n",
              "      <td>0</td>\n",
              "      <td>1</td>\n",
              "      <td>0</td>\n",
              "    </tr>\n",
              "    <tr>\n",
              "      <th>20831</th>\n",
              "      <td>1.0</td>\n",
              "      <td>19.495674</td>\n",
              "      <td>0.000000</td>\n",
              "      <td>0.015709</td>\n",
              "      <td>0.100104</td>\n",
              "      <td>6.998544</td>\n",
              "      <td>0.456216</td>\n",
              "      <td>0</td>\n",
              "      <td>0</td>\n",
              "      <td>0</td>\n",
              "      <td>...</td>\n",
              "      <td>0</td>\n",
              "      <td>0</td>\n",
              "      <td>1</td>\n",
              "      <td>1</td>\n",
              "      <td>0</td>\n",
              "      <td>0</td>\n",
              "      <td>0</td>\n",
              "      <td>0</td>\n",
              "      <td>1</td>\n",
              "      <td>0</td>\n",
              "    </tr>\n",
              "    <tr>\n",
              "      <th>20832</th>\n",
              "      <td>1.0</td>\n",
              "      <td>1.463891</td>\n",
              "      <td>0.000000</td>\n",
              "      <td>0.017321</td>\n",
              "      <td>0.104294</td>\n",
              "      <td>15.259235</td>\n",
              "      <td>0.265547</td>\n",
              "      <td>0</td>\n",
              "      <td>0</td>\n",
              "      <td>0</td>\n",
              "      <td>...</td>\n",
              "      <td>0</td>\n",
              "      <td>0</td>\n",
              "      <td>1</td>\n",
              "      <td>0</td>\n",
              "      <td>0</td>\n",
              "      <td>0</td>\n",
              "      <td>0</td>\n",
              "      <td>0</td>\n",
              "      <td>1</td>\n",
              "      <td>0</td>\n",
              "    </tr>\n",
              "    <tr>\n",
              "      <th>20833</th>\n",
              "      <td>1.0</td>\n",
              "      <td>7.304731</td>\n",
              "      <td>0.006688</td>\n",
              "      <td>0.039033</td>\n",
              "      <td>0.180553</td>\n",
              "      <td>0.056470</td>\n",
              "      <td>0.233556</td>\n",
              "      <td>0</td>\n",
              "      <td>0</td>\n",
              "      <td>0</td>\n",
              "      <td>...</td>\n",
              "      <td>0</td>\n",
              "      <td>0</td>\n",
              "      <td>0</td>\n",
              "      <td>0</td>\n",
              "      <td>0</td>\n",
              "      <td>0</td>\n",
              "      <td>0</td>\n",
              "      <td>0</td>\n",
              "      <td>0</td>\n",
              "      <td>1</td>\n",
              "    </tr>\n",
              "    <tr>\n",
              "      <th>20834</th>\n",
              "      <td>1.0</td>\n",
              "      <td>4.142584</td>\n",
              "      <td>0.006688</td>\n",
              "      <td>0.036974</td>\n",
              "      <td>0.275642</td>\n",
              "      <td>0.824163</td>\n",
              "      <td>0.233039</td>\n",
              "      <td>0</td>\n",
              "      <td>0</td>\n",
              "      <td>0</td>\n",
              "      <td>...</td>\n",
              "      <td>0</td>\n",
              "      <td>0</td>\n",
              "      <td>1</td>\n",
              "      <td>0</td>\n",
              "      <td>0</td>\n",
              "      <td>0</td>\n",
              "      <td>0</td>\n",
              "      <td>0</td>\n",
              "      <td>1</td>\n",
              "      <td>0</td>\n",
              "    </tr>\n",
              "  </tbody>\n",
              "</table>\n",
              "<p>20835 rows × 38 columns</p>\n",
              "</div>\n",
              "      <button class=\"colab-df-convert\" onclick=\"convertToInteractive('df-1b6c44b9-f5be-4a4c-a068-b294c1ad77fa')\"\n",
              "              title=\"Convert this dataframe to an interactive table.\"\n",
              "              style=\"display:none;\">\n",
              "        \n",
              "  <svg xmlns=\"http://www.w3.org/2000/svg\" height=\"24px\"viewBox=\"0 0 24 24\"\n",
              "       width=\"24px\">\n",
              "    <path d=\"M0 0h24v24H0V0z\" fill=\"none\"/>\n",
              "    <path d=\"M18.56 5.44l.94 2.06.94-2.06 2.06-.94-2.06-.94-.94-2.06-.94 2.06-2.06.94zm-11 1L8.5 8.5l.94-2.06 2.06-.94-2.06-.94L8.5 2.5l-.94 2.06-2.06.94zm10 10l.94 2.06.94-2.06 2.06-.94-2.06-.94-.94-2.06-.94 2.06-2.06.94z\"/><path d=\"M17.41 7.96l-1.37-1.37c-.4-.4-.92-.59-1.43-.59-.52 0-1.04.2-1.43.59L10.3 9.45l-7.72 7.72c-.78.78-.78 2.05 0 2.83L4 21.41c.39.39.9.59 1.41.59.51 0 1.02-.2 1.41-.59l7.78-7.78 2.81-2.81c.8-.78.8-2.07 0-2.86zM5.41 20L4 18.59l7.72-7.72 1.47 1.35L5.41 20z\"/>\n",
              "  </svg>\n",
              "      </button>\n",
              "      \n",
              "  <style>\n",
              "    .colab-df-container {\n",
              "      display:flex;\n",
              "      flex-wrap:wrap;\n",
              "      gap: 12px;\n",
              "    }\n",
              "\n",
              "    .colab-df-convert {\n",
              "      background-color: #E8F0FE;\n",
              "      border: none;\n",
              "      border-radius: 50%;\n",
              "      cursor: pointer;\n",
              "      display: none;\n",
              "      fill: #1967D2;\n",
              "      height: 32px;\n",
              "      padding: 0 0 0 0;\n",
              "      width: 32px;\n",
              "    }\n",
              "\n",
              "    .colab-df-convert:hover {\n",
              "      background-color: #E2EBFA;\n",
              "      box-shadow: 0px 1px 2px rgba(60, 64, 67, 0.3), 0px 1px 3px 1px rgba(60, 64, 67, 0.15);\n",
              "      fill: #174EA6;\n",
              "    }\n",
              "\n",
              "    [theme=dark] .colab-df-convert {\n",
              "      background-color: #3B4455;\n",
              "      fill: #D2E3FC;\n",
              "    }\n",
              "\n",
              "    [theme=dark] .colab-df-convert:hover {\n",
              "      background-color: #434B5C;\n",
              "      box-shadow: 0px 1px 3px 1px rgba(0, 0, 0, 0.15);\n",
              "      filter: drop-shadow(0px 1px 2px rgba(0, 0, 0, 0.3));\n",
              "      fill: #FFFFFF;\n",
              "    }\n",
              "  </style>\n",
              "\n",
              "      <script>\n",
              "        const buttonEl =\n",
              "          document.querySelector('#df-1b6c44b9-f5be-4a4c-a068-b294c1ad77fa button.colab-df-convert');\n",
              "        buttonEl.style.display =\n",
              "          google.colab.kernel.accessAllowed ? 'block' : 'none';\n",
              "\n",
              "        async function convertToInteractive(key) {\n",
              "          const element = document.querySelector('#df-1b6c44b9-f5be-4a4c-a068-b294c1ad77fa');\n",
              "          const dataTable =\n",
              "            await google.colab.kernel.invokeFunction('convertToInteractive',\n",
              "                                                     [key], {});\n",
              "          if (!dataTable) return;\n",
              "\n",
              "          const docLinkHtml = 'Like what you see? Visit the ' +\n",
              "            '<a target=\"_blank\" href=https://colab.research.google.com/notebooks/data_table.ipynb>data table notebook</a>'\n",
              "            + ' to learn more about interactive tables.';\n",
              "          element.innerHTML = '';\n",
              "          dataTable['output_type'] = 'display_data';\n",
              "          await google.colab.output.renderOutput(dataTable, element);\n",
              "          const docLink = document.createElement('div');\n",
              "          docLink.innerHTML = docLinkHtml;\n",
              "          element.appendChild(docLink);\n",
              "        }\n",
              "      </script>\n",
              "    </div>\n",
              "  </div>\n",
              "  "
            ]
          },
          "metadata": {},
          "execution_count": 116
        }
      ]
    },
    {
      "cell_type": "code",
      "source": [
        "from sklearn.ensemble import RandomForestClassifier\n",
        "train_features, test_features, train_targets, test_targets = train_test_split(features1, targets,\n",
        "                                                    stratify=targets,\n",
        "                                                    test_size=0.20,random_state=49)\n",
        "classifier = RandomForestClassifier()\n",
        "\n",
        "# Train the classifier\n",
        "classifier.fit(train_features, train_targets)\n",
        "\n",
        "# Make predictions on the test set\n",
        "test_predicted = classifier.predict(test_features)\n",
        "res = classification_report(test_targets, test_predicted)\n",
        "print(res)\n",
        "importances = classifier.feature_importances_\n",
        "\n",
        "# Create a DataFrame with feature names and their corresponding importances\n",
        "feature_importances = pd.DataFrame({'Feature': features1.columns, 'Importance': importances})\n",
        "\n",
        "# Sort the features by importance in descending order\n",
        "feature_importances = feature_importances.sort_values('Importance', ascending=False)\n",
        "\n",
        "# Plot the feature importances\n",
        "plt.figure(figsize=(10, 6))\n",
        "plt.barh(feature_importances['Feature'], feature_importances['Importance'])\n",
        "plt.xlabel('Importance')\n",
        "plt.ylabel('Feature')\n",
        "plt.title('Feature Importances')\n",
        "plt.show()"
      ],
      "metadata": {
        "colab": {
          "base_uri": "https://localhost:8080/",
          "height": 834
        },
        "id": "4VfLU4tSf7fY",
        "outputId": "21fdf941-86f9-4f03-d176-e9db0c32b6a5"
      },
      "execution_count": null,
      "outputs": [
        {
          "output_type": "stream",
          "name": "stderr",
          "text": [
            "<ipython-input-121-88cb85eacf28>:8: DataConversionWarning: A column-vector y was passed when a 1d array was expected. Please change the shape of y to (n_samples,), for example using ravel().\n",
            "  classifier.fit(train_features, train_targets)\n"
          ]
        },
        {
          "output_type": "stream",
          "name": "stdout",
          "text": [
            "              precision    recall  f1-score   support\n",
            "\n",
            "           0       0.87      0.86      0.86       304\n",
            "           1       0.91      0.92      0.91      1284\n",
            "           2       0.78      0.73      0.75       714\n",
            "           3       0.83      0.87      0.85      1218\n",
            "           4       0.88      0.86      0.87       647\n",
            "\n",
            "    accuracy                           0.86      4167\n",
            "   macro avg       0.85      0.85      0.85      4167\n",
            "weighted avg       0.86      0.86      0.86      4167\n",
            "\n"
          ]
        },
        {
          "output_type": "display_data",
          "data": {
            "text/plain": [
              "<Figure size 1000x600 with 1 Axes>"
            ],
            "image/png": "[encoded data removed]"
          },
          "metadata": {}
        }
      ]
    },
    {
      "cell_type": "code",
      "source": [
        "k = 13  # Specify the desired number of top features\n",
        "\n",
        "# Select the top-k most important features\n",
        "top_k_features = feature_importances.head(k)['Feature'].tolist()\n",
        "\n",
        "# Print the top-k features\n",
        "print(f\"Top-{k} Features:\")\n",
        "print(top_k_features)"
      ],
      "metadata": {
        "colab": {
          "base_uri": "https://localhost:8080/"
        },
        "id": "jVgYkvK_cZar",
        "outputId": "ff9479ec-b5d8-41c2-a8b2-d7907e0e2413"
      },
      "execution_count": null,
      "outputs": [
        {
          "output_type": "stream",
          "name": "stdout",
          "text": [
            "Top-13 Features:\n",
            "['est_co2_agriculture', 'est_co2_processing', 'est_co2_transportation', 'est_co2_packaging', 'est_co2_distribution', 'non_recyclable_and_non_biodegradable_materials_count', 'additives_count', 'est_co2_consumption', 'is_beverage', 'en:unknown', 'en:plastic', 'nutrition_grade', 'en:cardboard']\n"
          ]
        }
      ]
    },
    {
      "cell_type": "code",
      "source": [
        "features1_r = features1[top_k_features]\n",
        "train_features, test_features, train_targets, test_targets = train_test_split(features1_r, targets,\n",
        "                                                    stratify=targets,\n",
        "                                                    test_size=0.20,random_state=49)\n",
        "classifier.fit(train_features, train_targets)\n",
        "\n",
        "# Make predictions on the test set\n",
        "test_predicted = classifier.predict(test_features)\n",
        "res = classification_report(test_targets, test_predicted)\n",
        "print(res)"
      ],
      "metadata": {
        "colab": {
          "base_uri": "https://localhost:8080/"
        },
        "id": "oaXsnl6vczyb",
        "outputId": "225939a4-8969-4ef4-8868-1f4e8b805bfc"
      },
      "execution_count": null,
      "outputs": [
        {
          "output_type": "stream",
          "name": "stderr",
          "text": [
            "<ipython-input-141-f476c4322e06>:5: DataConversionWarning: A column-vector y was passed when a 1d array was expected. Please change the shape of y to (n_samples,), for example using ravel().\n",
            "  classifier.fit(train_features, train_targets)\n"
          ]
        },
        {
          "output_type": "stream",
          "name": "stdout",
          "text": [
            "              precision    recall  f1-score   support\n",
            "\n",
            "           0       0.86      0.86      0.86       304\n",
            "           1       0.91      0.91      0.91      1284\n",
            "           2       0.79      0.73      0.76       714\n",
            "           3       0.84      0.88      0.86      1218\n",
            "           4       0.88      0.87      0.87       647\n",
            "\n",
            "    accuracy                           0.86      4167\n",
            "   macro avg       0.86      0.85      0.85      4167\n",
            "weighted avg       0.86      0.86      0.86      4167\n",
            "\n"
          ]
        }
      ]
    },
    {
      "cell_type": "code",
      "source": [
        "fat = pd.to_numeric(data_train['fat_100g'], errors='coerce').astype(float)\n",
        "protein = pd.to_numeric(data_train['proteins_100g'], errors='coerce').astype(float)\n",
        "kcal = pd.to_numeric(data_train['energy_kcal_100g'], errors='coerce').astype(float)\n",
        "fat = fat.fillna(fat.mean())\n",
        "protein = protein.fillna(protein.mean())\n",
        "kcal = kcal.fillna(kcal.mean())"
      ],
      "metadata": {
        "id": "TejrWDjAhulB"
      },
      "execution_count": null,
      "outputs": []
    },
    {
      "cell_type": "code",
      "source": [
        "features1_r['fat_100g'] = fat\n",
        "features1_r['proteins_100g'] = protein\n",
        "features1_r['energy_kcal_100g'] = kcal"
      ],
      "metadata": {
        "colab": {
          "base_uri": "https://localhost:8080/"
        },
        "id": "aGDzFSd_jUkI",
        "outputId": "c604fdc0-65f7-486c-b997-51d2f29fc078"
      },
      "execution_count": null,
      "outputs": [
        {
          "output_type": "stream",
          "name": "stderr",
          "text": [
            "<ipython-input-178-a7060f49e3f5>:1: SettingWithCopyWarning: \n",
            "A value is trying to be set on a copy of a slice from a DataFrame.\n",
            "Try using .loc[row_indexer,col_indexer] = value instead\n",
            "\n",
            "See the caveats in the documentation: https://pandas.pydata.org/pandas-docs/stable/user_guide/indexing.html#returning-a-view-versus-a-copy\n",
            "  features1_r['fat_100g'] = fat\n",
            "<ipython-input-178-a7060f49e3f5>:2: SettingWithCopyWarning: \n",
            "A value is trying to be set on a copy of a slice from a DataFrame.\n",
            "Try using .loc[row_indexer,col_indexer] = value instead\n",
            "\n",
            "See the caveats in the documentation: https://pandas.pydata.org/pandas-docs/stable/user_guide/indexing.html#returning-a-view-versus-a-copy\n",
            "  features1_r['proteins_100g'] = protein\n",
            "<ipython-input-178-a7060f49e3f5>:3: SettingWithCopyWarning: \n",
            "A value is trying to be set on a copy of a slice from a DataFrame.\n",
            "Try using .loc[row_indexer,col_indexer] = value instead\n",
            "\n",
            "See the caveats in the documentation: https://pandas.pydata.org/pandas-docs/stable/user_guide/indexing.html#returning-a-view-versus-a-copy\n",
            "  features1_r['energy_kcal_100g'] = kcal\n"
          ]
        }
      ]
    },
    {
      "cell_type": "code",
      "source": [
        "features1_r"
      ],
      "metadata": {
        "colab": {
          "base_uri": "https://localhost:8080/",
          "height": 488
        },
        "id": "JTMv428ylBxS",
        "outputId": "aa15ff8e-465b-4115-e0ab-5aeec1709219"
      },
      "execution_count": null,
      "outputs": [
        {
          "output_type": "execute_result",
          "data": {
            "text/plain": [
              "       est_co2_agriculture  est_co2_processing  est_co2_transportation  \\\n",
              "0                 1.405794            0.123400                0.344651   \n",
              "1                 1.772009            5.215055                0.171567   \n",
              "2                 2.239600            0.770511                0.252874   \n",
              "3                 4.536405            0.458632                0.217118   \n",
              "4                 7.918371            0.445327                0.334988   \n",
              "...                    ...                 ...                     ...   \n",
              "20830             0.124785            0.116079                0.145580   \n",
              "20831            19.495674            6.998544                0.456216   \n",
              "20832             1.463891           15.259235                0.265547   \n",
              "20833             7.304731            0.056470                0.233556   \n",
              "20834             4.142584            0.824163                0.233039   \n",
              "\n",
              "       est_co2_packaging  est_co2_distribution  \\\n",
              "0               0.400866              0.151978   \n",
              "1               0.288156              0.019531   \n",
              "2               0.281596              0.019531   \n",
              "3               0.185784              0.037393   \n",
              "4               0.478390              0.015709   \n",
              "...                  ...                   ...   \n",
              "20830           0.100104              0.015377   \n",
              "20831           0.100104              0.015709   \n",
              "20832           0.104294              0.017321   \n",
              "20833           0.180553              0.039033   \n",
              "20834           0.275642              0.036974   \n",
              "\n",
              "       non_recyclable_and_non_biodegradable_materials_count  additives_count  \\\n",
              "0                                                    1.0                   1   \n",
              "1                                                    1.0                  10   \n",
              "2                                                    1.0                   3   \n",
              "3                                                    1.0                   2   \n",
              "4                                                    0.0                   0   \n",
              "...                                                  ...                 ...   \n",
              "20830                                                1.0                   0   \n",
              "20831                                                1.0                   0   \n",
              "20832                                                1.0                   0   \n",
              "20833                                                1.0                   0   \n",
              "20834                                                1.0                   0   \n",
              "\n",
              "       est_co2_consumption  is_beverage  en:unknown  en:plastic  \\\n",
              "0                 0.122097            0           0           1   \n",
              "1                 0.000000            0           0           1   \n",
              "2                 0.000000            0           0           1   \n",
              "3                 0.006688            0           0           1   \n",
              "4                 0.000000            0           1           1   \n",
              "...                    ...          ...         ...         ...   \n",
              "20830             0.000000            1           1           0   \n",
              "20831             0.000000            1           1           0   \n",
              "20832             0.000000            0           1           0   \n",
              "20833             0.006688            0           0           1   \n",
              "20834             0.006688            0           1           0   \n",
              "\n",
              "       nutrition_grade  en:cardboard   fat_100g  proteins_100g  \\\n",
              "0                    1             0   7.100000       2.200000   \n",
              "1                    4             1  14.000000       2.900000   \n",
              "2                    3             0  10.300000       6.200000   \n",
              "3                    4             0  19.000000      15.000000   \n",
              "4                    3             0   0.000000       0.000000   \n",
              "...                ...           ...        ...            ...   \n",
              "20830                3             0  13.947479       7.916524   \n",
              "20831                3             0  13.947479       7.916524   \n",
              "20832                3             0  45.000000       8.500000   \n",
              "20833                4             0  80.000000       0.700000   \n",
              "20834                3             0   1.400000      20.000000   \n",
              "\n",
              "       energy_kcal_100g  \n",
              "0             270.01574  \n",
              "1             366.00000  \n",
              "2             423.00000  \n",
              "3             270.01574  \n",
              "4               0.00000  \n",
              "...                 ...  \n",
              "20830          40.00000  \n",
              "20831         270.01574  \n",
              "20832         592.00000  \n",
              "20833         725.00000  \n",
              "20834         426.00000  \n",
              "\n",
              "[20835 rows x 16 columns]"
            ],
            "text/html": [
              "\n",
              "  <div id=\"df-3383f930-f50d-472e-aaec-8f891c106e94\">\n",
              "    <div class=\"colab-df-container\">\n",
              "      <div>\n",
              "<style scoped>\n",
              "    .dataframe tbody tr th:only-of-type {\n",
              "        vertical-align: middle;\n",
              "    }\n",
              "\n",
              "    .dataframe tbody tr th {\n",
              "        vertical-align: top;\n",
              "    }\n",
              "\n",
              "    .dataframe thead th {\n",
              "        text-align: right;\n",
              "    }\n",
              "</style>\n",
              "<table border=\"1\" class=\"dataframe\">\n",
              "  <thead>\n",
              "    <tr style=\"text-align: right;\">\n",
              "      <th></th>\n",
              "      <th>est_co2_agriculture</th>\n",
              "      <th>est_co2_processing</th>\n",
              "      <th>est_co2_transportation</th>\n",
              "      <th>est_co2_packaging</th>\n",
              "      <th>est_co2_distribution</th>\n",
              "      <th>non_recyclable_and_non_biodegradable_materials_count</th>\n",
              "      <th>additives_count</th>\n",
              "      <th>est_co2_consumption</th>\n",
              "      <th>is_beverage</th>\n",
              "      <th>en:unknown</th>\n",
              "      <th>en:plastic</th>\n",
              "      <th>nutrition_grade</th>\n",
              "      <th>en:cardboard</th>\n",
              "      <th>fat_100g</th>\n",
              "      <th>proteins_100g</th>\n",
              "      <th>energy_kcal_100g</th>\n",
              "    </tr>\n",
              "  </thead>\n",
              "  <tbody>\n",
              "    <tr>\n",
              "      <th>0</th>\n",
              "      <td>1.405794</td>\n",
              "      <td>0.123400</td>\n",
              "      <td>0.344651</td>\n",
              "      <td>0.400866</td>\n",
              "      <td>0.151978</td>\n",
              "      <td>1.0</td>\n",
              "      <td>1</td>\n",
              "      <td>0.122097</td>\n",
              "      <td>0</td>\n",
              "      <td>0</td>\n",
              "      <td>1</td>\n",
              "      <td>1</td>\n",
              "      <td>0</td>\n",
              "      <td>7.100000</td>\n",
              "      <td>2.200000</td>\n",
              "      <td>270.01574</td>\n",
              "    </tr>\n",
              "    <tr>\n",
              "      <th>1</th>\n",
              "      <td>1.772009</td>\n",
              "      <td>5.215055</td>\n",
              "      <td>0.171567</td>\n",
              "      <td>0.288156</td>\n",
              "      <td>0.019531</td>\n",
              "      <td>1.0</td>\n",
              "      <td>10</td>\n",
              "      <td>0.000000</td>\n",
              "      <td>0</td>\n",
              "      <td>0</td>\n",
              "      <td>1</td>\n",
              "      <td>4</td>\n",
              "      <td>1</td>\n",
              "      <td>14.000000</td>\n",
              "      <td>2.900000</td>\n",
              "      <td>366.00000</td>\n",
              "    </tr>\n",
              "    <tr>\n",
              "      <th>2</th>\n",
              "      <td>2.239600</td>\n",
              "      <td>0.770511</td>\n",
              "      <td>0.252874</td>\n",
              "      <td>0.281596</td>\n",
              "      <td>0.019531</td>\n",
              "      <td>1.0</td>\n",
              "      <td>3</td>\n",
              "      <td>0.000000</td>\n",
              "      <td>0</td>\n",
              "      <td>0</td>\n",
              "      <td>1</td>\n",
              "      <td>3</td>\n",
              "      <td>0</td>\n",
              "      <td>10.300000</td>\n",
              "      <td>6.200000</td>\n",
              "      <td>423.00000</td>\n",
              "    </tr>\n",
              "    <tr>\n",
              "      <th>3</th>\n",
              "      <td>4.536405</td>\n",
              "      <td>0.458632</td>\n",
              "      <td>0.217118</td>\n",
              "      <td>0.185784</td>\n",
              "      <td>0.037393</td>\n",
              "      <td>1.0</td>\n",
              "      <td>2</td>\n",
              "      <td>0.006688</td>\n",
              "      <td>0</td>\n",
              "      <td>0</td>\n",
              "      <td>1</td>\n",
              "      <td>4</td>\n",
              "      <td>0</td>\n",
              "      <td>19.000000</td>\n",
              "      <td>15.000000</td>\n",
              "      <td>270.01574</td>\n",
              "    </tr>\n",
              "    <tr>\n",
              "      <th>4</th>\n",
              "      <td>7.918371</td>\n",
              "      <td>0.445327</td>\n",
              "      <td>0.334988</td>\n",
              "      <td>0.478390</td>\n",
              "      <td>0.015709</td>\n",
              "      <td>0.0</td>\n",
              "      <td>0</td>\n",
              "      <td>0.000000</td>\n",
              "      <td>0</td>\n",
              "      <td>1</td>\n",
              "      <td>1</td>\n",
              "      <td>3</td>\n",
              "      <td>0</td>\n",
              "      <td>0.000000</td>\n",
              "      <td>0.000000</td>\n",
              "      <td>0.00000</td>\n",
              "    </tr>\n",
              "    <tr>\n",
              "      <th>...</th>\n",
              "      <td>...</td>\n",
              "      <td>...</td>\n",
              "      <td>...</td>\n",
              "      <td>...</td>\n",
              "      <td>...</td>\n",
              "      <td>...</td>\n",
              "      <td>...</td>\n",
              "      <td>...</td>\n",
              "      <td>...</td>\n",
              "      <td>...</td>\n",
              "      <td>...</td>\n",
              "      <td>...</td>\n",
              "      <td>...</td>\n",
              "      <td>...</td>\n",
              "      <td>...</td>\n",
              "      <td>...</td>\n",
              "    </tr>\n",
              "    <tr>\n",
              "      <th>20830</th>\n",
              "      <td>0.124785</td>\n",
              "      <td>0.116079</td>\n",
              "      <td>0.145580</td>\n",
              "      <td>0.100104</td>\n",
              "      <td>0.015377</td>\n",
              "      <td>1.0</td>\n",
              "      <td>0</td>\n",
              "      <td>0.000000</td>\n",
              "      <td>1</td>\n",
              "      <td>1</td>\n",
              "      <td>0</td>\n",
              "      <td>3</td>\n",
              "      <td>0</td>\n",
              "      <td>13.947479</td>\n",
              "      <td>7.916524</td>\n",
              "      <td>40.00000</td>\n",
              "    </tr>\n",
              "    <tr>\n",
              "      <th>20831</th>\n",
              "      <td>19.495674</td>\n",
              "      <td>6.998544</td>\n",
              "      <td>0.456216</td>\n",
              "      <td>0.100104</td>\n",
              "      <td>0.015709</td>\n",
              "      <td>1.0</td>\n",
              "      <td>0</td>\n",
              "      <td>0.000000</td>\n",
              "      <td>1</td>\n",
              "      <td>1</td>\n",
              "      <td>0</td>\n",
              "      <td>3</td>\n",
              "      <td>0</td>\n",
              "      <td>13.947479</td>\n",
              "      <td>7.916524</td>\n",
              "      <td>270.01574</td>\n",
              "    </tr>\n",
              "    <tr>\n",
              "      <th>20832</th>\n",
              "      <td>1.463891</td>\n",
              "      <td>15.259235</td>\n",
              "      <td>0.265547</td>\n",
              "      <td>0.104294</td>\n",
              "      <td>0.017321</td>\n",
              "      <td>1.0</td>\n",
              "      <td>0</td>\n",
              "      <td>0.000000</td>\n",
              "      <td>0</td>\n",
              "      <td>1</td>\n",
              "      <td>0</td>\n",
              "      <td>3</td>\n",
              "      <td>0</td>\n",
              "      <td>45.000000</td>\n",
              "      <td>8.500000</td>\n",
              "      <td>592.00000</td>\n",
              "    </tr>\n",
              "    <tr>\n",
              "      <th>20833</th>\n",
              "      <td>7.304731</td>\n",
              "      <td>0.056470</td>\n",
              "      <td>0.233556</td>\n",
              "      <td>0.180553</td>\n",
              "      <td>0.039033</td>\n",
              "      <td>1.0</td>\n",
              "      <td>0</td>\n",
              "      <td>0.006688</td>\n",
              "      <td>0</td>\n",
              "      <td>0</td>\n",
              "      <td>1</td>\n",
              "      <td>4</td>\n",
              "      <td>0</td>\n",
              "      <td>80.000000</td>\n",
              "      <td>0.700000</td>\n",
              "      <td>725.00000</td>\n",
              "    </tr>\n",
              "    <tr>\n",
              "      <th>20834</th>\n",
              "      <td>4.142584</td>\n",
              "      <td>0.824163</td>\n",
              "      <td>0.233039</td>\n",
              "      <td>0.275642</td>\n",
              "      <td>0.036974</td>\n",
              "      <td>1.0</td>\n",
              "      <td>0</td>\n",
              "      <td>0.006688</td>\n",
              "      <td>0</td>\n",
              "      <td>1</td>\n",
              "      <td>0</td>\n",
              "      <td>3</td>\n",
              "      <td>0</td>\n",
              "      <td>1.400000</td>\n",
              "      <td>20.000000</td>\n",
              "      <td>426.00000</td>\n",
              "    </tr>\n",
              "  </tbody>\n",
              "</table>\n",
              "<p>20835 rows × 16 columns</p>\n",
              "</div>\n",
              "      <button class=\"colab-df-convert\" onclick=\"convertToInteractive('df-3383f930-f50d-472e-aaec-8f891c106e94')\"\n",
              "              title=\"Convert this dataframe to an interactive table.\"\n",
              "              style=\"display:none;\">\n",
              "        \n",
              "  <svg xmlns=\"http://www.w3.org/2000/svg\" height=\"24px\"viewBox=\"0 0 24 24\"\n",
              "       width=\"24px\">\n",
              "    <path d=\"M0 0h24v24H0V0z\" fill=\"none\"/>\n",
              "    <path d=\"M18.56 5.44l.94 2.06.94-2.06 2.06-.94-2.06-.94-.94-2.06-.94 2.06-2.06.94zm-11 1L8.5 8.5l.94-2.06 2.06-.94-2.06-.94L8.5 2.5l-.94 2.06-2.06.94zm10 10l.94 2.06.94-2.06 2.06-.94-2.06-.94-.94-2.06-.94 2.06-2.06.94z\"/><path d=\"M17.41 7.96l-1.37-1.37c-.4-.4-.92-.59-1.43-.59-.52 0-1.04.2-1.43.59L10.3 9.45l-7.72 7.72c-.78.78-.78 2.05 0 2.83L4 21.41c.39.39.9.59 1.41.59.51 0 1.02-.2 1.41-.59l7.78-7.78 2.81-2.81c.8-.78.8-2.07 0-2.86zM5.41 20L4 18.59l7.72-7.72 1.47 1.35L5.41 20z\"/>\n",
              "  </svg>\n",
              "      </button>\n",
              "      \n",
              "  <style>\n",
              "    .colab-df-container {\n",
              "      display:flex;\n",
              "      flex-wrap:wrap;\n",
              "      gap: 12px;\n",
              "    }\n",
              "\n",
              "    .colab-df-convert {\n",
              "      background-color: #E8F0FE;\n",
              "      border: none;\n",
              "      border-radius: 50%;\n",
              "      cursor: pointer;\n",
              "      display: none;\n",
              "      fill: #1967D2;\n",
              "      height: 32px;\n",
              "      padding: 0 0 0 0;\n",
              "      width: 32px;\n",
              "    }\n",
              "\n",
              "    .colab-df-convert:hover {\n",
              "      background-color: #E2EBFA;\n",
              "      box-shadow: 0px 1px 2px rgba(60, 64, 67, 0.3), 0px 1px 3px 1px rgba(60, 64, 67, 0.15);\n",
              "      fill: #174EA6;\n",
              "    }\n",
              "\n",
              "    [theme=dark] .colab-df-convert {\n",
              "      background-color: #3B4455;\n",
              "      fill: #D2E3FC;\n",
              "    }\n",
              "\n",
              "    [theme=dark] .colab-df-convert:hover {\n",
              "      background-color: #434B5C;\n",
              "      box-shadow: 0px 1px 3px 1px rgba(0, 0, 0, 0.15);\n",
              "      filter: drop-shadow(0px 1px 2px rgba(0, 0, 0, 0.3));\n",
              "      fill: #FFFFFF;\n",
              "    }\n",
              "  </style>\n",
              "\n",
              "      <script>\n",
              "        const buttonEl =\n",
              "          document.querySelector('#df-3383f930-f50d-472e-aaec-8f891c106e94 button.colab-df-convert');\n",
              "        buttonEl.style.display =\n",
              "          google.colab.kernel.accessAllowed ? 'block' : 'none';\n",
              "\n",
              "        async function convertToInteractive(key) {\n",
              "          const element = document.querySelector('#df-3383f930-f50d-472e-aaec-8f891c106e94');\n",
              "          const dataTable =\n",
              "            await google.colab.kernel.invokeFunction('convertToInteractive',\n",
              "                                                     [key], {});\n",
              "          if (!dataTable) return;\n",
              "\n",
              "          const docLinkHtml = 'Like what you see? Visit the ' +\n",
              "            '<a target=\"_blank\" href=https://colab.research.google.com/notebooks/data_table.ipynb>data table notebook</a>'\n",
              "            + ' to learn more about interactive tables.';\n",
              "          element.innerHTML = '';\n",
              "          dataTable['output_type'] = 'display_data';\n",
              "          await google.colab.output.renderOutput(dataTable, element);\n",
              "          const docLink = document.createElement('div');\n",
              "          docLink.innerHTML = docLinkHtml;\n",
              "          element.appendChild(docLink);\n",
              "        }\n",
              "      </script>\n",
              "    </div>\n",
              "  </div>\n",
              "  "
            ]
          },
          "metadata": {},
          "execution_count": 185
        }
      ]
    },
    {
      "cell_type": "code",
      "source": [
        "train_features, test_features, train_targets, test_targets = train_test_split(features1_r, targets,\n",
        "                                                    stratify=targets,\n",
        "                                                    test_size=0.20,random_state=49)\n",
        "classifier.fit(train_features, train_targets)\n",
        "\n",
        "# Make predictions on the test set\n",
        "test_predicted = classifier.predict(test_features)\n",
        "res = classification_report(test_targets, test_predicted)\n",
        "print(res)"
      ],
      "metadata": {
        "colab": {
          "base_uri": "https://localhost:8080/"
        },
        "id": "c_gRWNK8krZz",
        "outputId": "324eea1f-bc37-498c-f6f5-c0f0d8fc7910"
      },
      "execution_count": 252,
      "outputs": [
        {
          "output_type": "stream",
          "name": "stderr",
          "text": [
            "<ipython-input-252-22e136234168>:4: DataConversionWarning: A column-vector y was passed when a 1d array was expected. Please change the shape of y to (n_samples,), for example using ravel().\n",
            "  classifier.fit(train_features, train_targets)\n"
          ]
        },
        {
          "output_type": "stream",
          "name": "stdout",
          "text": [
            "              precision    recall  f1-score   support\n",
            "\n",
            "           0       0.88      0.88      0.88       304\n",
            "           1       0.92      0.91      0.92      1284\n",
            "           2       0.79      0.75      0.77       714\n",
            "           3       0.84      0.88      0.86      1218\n",
            "           4       0.88      0.87      0.88       647\n",
            "\n",
            "    accuracy                           0.86      4167\n",
            "   macro avg       0.86      0.86      0.86      4167\n",
            "weighted avg       0.86      0.86      0.86      4167\n",
            "\n"
          ]
        }
      ]
    },
    {
      "cell_type": "code",
      "source": [
        "test_features.replace('unknown', pd.NA, inplace=True)"
      ],
      "metadata": {
        "id": "xfInbhLrqJQd"
      },
      "execution_count": null,
      "outputs": []
    },
    {
      "cell_type": "code",
      "source": [
        "features1_r.columns"
      ],
      "metadata": {
        "colab": {
          "base_uri": "https://localhost:8080/"
        },
        "id": "IoKnwX4VlSWM",
        "outputId": "ed070e0b-f02d-4996-fb17-cc00dc365d6b"
      },
      "execution_count": null,
      "outputs": [
        {
          "output_type": "execute_result",
          "data": {
            "text/plain": [
              "Index(['est_co2_agriculture', 'est_co2_processing', 'est_co2_transportation',\n",
              "       'est_co2_packaging', 'est_co2_distribution',\n",
              "       'non_recyclable_and_non_biodegradable_materials_count',\n",
              "       'additives_count', 'est_co2_consumption', 'is_beverage', 'en:unknown',\n",
              "       'en:plastic', 'nutrition_grade', 'en:cardboard', 'fat_100g',\n",
              "       'proteins_100g', 'energy_kcal_100g'],\n",
              "      dtype='object')"
            ]
          },
          "metadata": {},
          "execution_count": 189
        }
      ]
    },
    {
      "cell_type": "code",
      "source": [
        "y_train = df_encoded2[columns]"
      ],
      "metadata": {
        "id": "jiR3PNuZgOMy"
      },
      "execution_count": null,
      "outputs": []
    },
    {
      "cell_type": "code",
      "source": [
        "y_train.replace('unknown', pd.NA, inplace=True)"
      ],
      "metadata": {
        "id": "0g09yUmgmCMH"
      },
      "execution_count": null,
      "outputs": []
    },
    {
      "cell_type": "code",
      "source": [
        "y_train.columns"
      ],
      "metadata": {
        "colab": {
          "base_uri": "https://localhost:8080/"
        },
        "id": "R6AE86frnuR9",
        "outputId": "89ceb041-c5ce-4a2e-d811-66b2e02f1416"
      },
      "execution_count": null,
      "outputs": [
        {
          "output_type": "execute_result",
          "data": {
            "text/plain": [
              "Index(['non_recyclable_and_non_biodegradable_materials_count',\n",
              "       'est_co2_agriculture', 'est_co2_consumption', 'est_co2_distribution',\n",
              "       'est_co2_packaging', 'est_co2_processing', 'est_co2_transportation',\n",
              "       'en:cardboard', 'en:elopak', 'en:fsc-paper', 'en:glass',\n",
              "       'en:hdpe-2-high-density-polyethylene',\n",
              "       'en:hdpe-high-density-polyethylene', 'en:heavy-aluminium',\n",
              "       'en:ldpe-low-density-polyethylene', 'en:light-aluminium', 'en:metal',\n",
              "       'en:multilayer-composite', 'en:non-corrugated-cardboard', 'en:paper',\n",
              "       'en:paper-and-plastic', 'en:paperboard',\n",
              "       'en:pet-1-polyethylene-terephthalate',\n",
              "       'en:pet-polyethylene-terephthalate', 'en:plastic',\n",
              "       'en:pp-polypropylene', 'en:ps-6-polystyrene', 'en:ps-polystyrene',\n",
              "       'en:tetra-brik', 'en:tetra-pak', 'en:unknown'],\n",
              "      dtype='object')"
            ]
          },
          "metadata": {},
          "execution_count": 210
        }
      ]
    },
    {
      "cell_type": "code",
      "source": [
        "y_train['is_beverage'] = test_features['is_beverage']\n",
        "y_train['additives_count'] = test_features['additives_count']\n",
        "y_train['additives_count'].fillna(y_train['additives_count'].mode().iloc[0], inplace=True)"
      ],
      "metadata": {
        "id": "YwyZ78qppLnJ"
      },
      "execution_count": null,
      "outputs": []
    },
    {
      "cell_type": "code",
      "source": [
        "test_features['nutrition_grade'].isna().sum()\n",
        "test_features['nutrition_grade'].fillna(test_features['nutrition_grade'].mode().iloc[0], inplace=True)"
      ],
      "metadata": {
        "id": "iZv8KKD3p55G"
      },
      "execution_count": 222,
      "outputs": []
    },
    {
      "cell_type": "code",
      "source": [
        "label_encoder = LabelEncoder()\n",
        "\n",
        "# Apply label encoding to the 'nutrition grade' column\n",
        "test_features['nutrition_grade'] = label_encoder.fit_transform(test_features['nutrition_grade'])"
      ],
      "metadata": {
        "id": "Mk0S4U_YrEsR"
      },
      "execution_count": 223,
      "outputs": []
    },
    {
      "cell_type": "code",
      "source": [
        "y_train1['nutrition_grade'] = test_features['nutrition_grade']"
      ],
      "metadata": {
        "id": "NkTE4hjjrJ-U"
      },
      "execution_count": 241,
      "outputs": []
    },
    {
      "cell_type": "code",
      "source": [
        "y_train = y_train.drop(['nutrition_grade'],axis=1)"
      ],
      "metadata": {
        "id": "nwopWgtqrOA6"
      },
      "execution_count": 230,
      "outputs": []
    },
    {
      "cell_type": "code",
      "source": [
        "encoded_features1 = pd.get_dummies(test_features['nutrition_grade'])\n",
        "y_train1 = pd.concat([y_train, encoded_features1], axis=1)"
      ],
      "metadata": {
        "id": "Nika77wGrhpa"
      },
      "execution_count": 231,
      "outputs": []
    },
    {
      "cell_type": "code",
      "source": [
        "y_train1\n",
        "y_train1.columns = y_train1.columns.astype(str)"
      ],
      "metadata": {
        "id": "WDCVt_hTrsRF"
      },
      "execution_count": 233,
      "outputs": []
    },
    {
      "cell_type": "code",
      "source": [
        "fat = pd.to_numeric(test_features['fat_100g'], errors='coerce').astype(float)\n",
        "protein = pd.to_numeric(test_features['proteins_100g'], errors='coerce').astype(float)\n",
        "kca = pd.to_numeric(test_features['energy_kcal_100g'], errors='coerce').astype(float)\n",
        "fat1 = fat.fillna(fat.mean())\n",
        "protein1 = protein.fillna(protein.mean())\n",
        "kca1 = kcal.fillna(kcal.mean())\n",
        "y_train1['fat_100g'] = fat1\n",
        "y_train1['proteins_100g'] = protein1\n",
        "y_train1['energy_kcal_100g'] = kcal"
      ],
      "metadata": {
        "id": "KBKSzNrYr2BS"
      },
      "execution_count": 235,
      "outputs": []
    },
    {
      "cell_type": "code",
      "source": [
        "columns2 = ['est_co2_agriculture', 'est_co2_processing', 'est_co2_transportation',\n",
        "       'est_co2_packaging', 'est_co2_distribution',\n",
        "       'non_recyclable_and_non_biodegradable_materials_count',\n",
        "       'additives_count', 'est_co2_consumption', 'is_beverage', 'en:unknown',\n",
        "       'en:plastic', 'nutrition_grade', 'en:cardboard', 'fat_100g',\n",
        "       'proteins_100g', 'energy_kcal_100g']"
      ],
      "metadata": {
        "id": "7bZ5bH8-sR4W"
      },
      "execution_count": 237,
      "outputs": []
    },
    {
      "cell_type": "code",
      "source": [
        "y_features = y_train1[columns2]"
      ],
      "metadata": {
        "id": "Xc-gdlPJskw6"
      },
      "execution_count": 243,
      "outputs": []
    },
    {
      "cell_type": "code",
      "source": [
        "classifier = RandomForestClassifier(n_estimators=100)\n",
        "# Train the classifier\n",
        "classifier.fit(features1_r, targets)\n",
        "\n",
        "# Make predictions on the test set\n",
        "test_predicted2 = classifier.predict(y_features)\n"
      ],
      "metadata": {
        "colab": {
          "base_uri": "https://localhost:8080/"
        },
        "id": "8zVIQxeJ1caK",
        "outputId": "9aaf0a8c-d294-4caa-9700-4af494c061e6"
      },
      "execution_count": 255,
      "outputs": [
        {
          "output_type": "stream",
          "name": "stderr",
          "text": [
            "<ipython-input-255-77010be9b685>:3: DataConversionWarning: A column-vector y was passed when a 1d array was expected. Please change the shape of y to (n_samples,), for example using ravel().\n",
            "  classifier.fit(features1_r, targets)\n"
          ]
        }
      ]
    },
    {
      "cell_type": "code",
      "source": [
        "test_predicted2.shape"
      ],
      "metadata": {
        "colab": {
          "base_uri": "https://localhost:8080/"
        },
        "id": "auJj-JsB14wd",
        "outputId": "04db1dd3-1dfa-4e09-c34a-0d4cb7903492"
      },
      "execution_count": 256,
      "outputs": [
        {
          "output_type": "execute_result",
          "data": {
            "text/plain": [
              "(1272,)"
            ]
          },
          "metadata": {},
          "execution_count": 256
        }
      ]
    },
    {
      "cell_type": "code",
      "source": [
        "predictions = test_predicted\n",
        "# Convert int64 values to int\n",
        "predictions = [int(label) for label in predictions]\n",
        "\n",
        "# Create a dictionary with the desired structure\n",
        "data = {\n",
        "    \"target\": {str(index): label for index, label in enumerate(predictions)}\n",
        "}\n",
        "\n",
        "# Convert the dictionary to JSON format\n",
        "json_data = json.dumps(data, default=int)\n",
        "\n",
        "# Print the JSON data\n",
        "print(json_data)"
      ],
      "metadata": {
        "colab": {
          "base_uri": "https://localhost:8080/"
        },
        "id": "TCph4eHU22nV",
        "outputId": "30e95aea-b5cc-4078-c672-65aff476da39"
      },
      "execution_count": 254,
      "outputs": [
        {
          "output_type": "stream",
          "name": "stdout",
          "text": [
            "{\"target\": {\"0\": 1, \"1\": 4, \"2\": 3, \"3\": 2, \"4\": 1, \"5\": 2, \"6\": 0, \"7\": 2, \"8\": 1, \"9\": 3, \"10\": 4, \"11\": 1, \"12\": 3, \"13\": 2, \"14\": 2, \"15\": 4, \"16\": 3, \"17\": 4, \"18\": 3, \"19\": 0, \"20\": 1, \"21\": 3, \"22\": 1, \"23\": 0, \"24\": 3, \"25\": 3, \"26\": 4, \"27\": 1, \"28\": 4, \"29\": 1, \"30\": 3, \"31\": 3, \"32\": 1, \"33\": 1, \"34\": 4, \"35\": 1, \"36\": 1, \"37\": 4, \"38\": 1, \"39\": 0, \"40\": 4, \"41\": 4, \"42\": 2, \"43\": 4, \"44\": 3, \"45\": 4, \"46\": 4, \"47\": 4, \"48\": 2, \"49\": 4, \"50\": 1, \"51\": 3, \"52\": 3, \"53\": 1, \"54\": 1, \"55\": 3, \"56\": 2, \"57\": 0, \"58\": 4, \"59\": 3, \"60\": 1, \"61\": 2, \"62\": 2, \"63\": 1, \"64\": 2, \"65\": 2, \"66\": 3, \"67\": 4, \"68\": 2, \"69\": 2, \"70\": 3, \"71\": 2, \"72\": 0, \"73\": 4, \"74\": 3, \"75\": 3, \"76\": 2, \"77\": 3, \"78\": 2, \"79\": 0, \"80\": 2, \"81\": 4, \"82\": 1, \"83\": 3, \"84\": 1, \"85\": 1, \"86\": 3, \"87\": 3, \"88\": 2, \"89\": 3, \"90\": 4, \"91\": 2, \"92\": 0, \"93\": 3, \"94\": 1, \"95\": 1, \"96\": 3, \"97\": 3, \"98\": 3, \"99\": 2, \"100\": 2, \"101\": 0, \"102\": 2, \"103\": 3, \"104\": 3, \"105\": 1, \"106\": 1, \"107\": 3, \"108\": 3, \"109\": 2, \"110\": 3, \"111\": 2, \"112\": 1, \"113\": 0, \"114\": 0, \"115\": 1, \"116\": 3, \"117\": 3, \"118\": 3, \"119\": 1, \"120\": 0, \"121\": 4, \"122\": 2, \"123\": 4, \"124\": 3, \"125\": 1, \"126\": 3, \"127\": 3, \"128\": 2, \"129\": 3, \"130\": 2, \"131\": 0, \"132\": 3, \"133\": 4, \"134\": 2, \"135\": 1, \"136\": 1, \"137\": 1, \"138\": 1, \"139\": 3, \"140\": 2, \"141\": 1, \"142\": 3, \"143\": 3, \"144\": 1, \"145\": 3, \"146\": 4, \"147\": 4, \"148\": 2, \"149\": 3, \"150\": 1, \"151\": 3, \"152\": 0, \"153\": 1, \"154\": 1, \"155\": 2, \"156\": 1, \"157\": 3, \"158\": 1, \"159\": 2, \"160\": 2, \"161\": 1, \"162\": 4, \"163\": 3, \"164\": 2, \"165\": 1, \"166\": 0, \"167\": 2, \"168\": 3, \"169\": 3, \"170\": 3, \"171\": 3, \"172\": 3, \"173\": 3, \"174\": 1, \"175\": 1, \"176\": 3, \"177\": 3, \"178\": 4, \"179\": 3, \"180\": 3, \"181\": 2, \"182\": 3, \"183\": 3, \"184\": 3, \"185\": 1, \"186\": 0, \"187\": 0, \"188\": 2, \"189\": 1, \"190\": 1, \"191\": 1, \"192\": 1, \"193\": 3, \"194\": 3, \"195\": 4, \"196\": 3, \"197\": 4, \"198\": 1, \"199\": 3, \"200\": 1, \"201\": 3, \"202\": 2, \"203\": 4, \"204\": 3, \"205\": 3, \"206\": 3, \"207\": 3, \"208\": 0, \"209\": 1, \"210\": 1, \"211\": 3, \"212\": 3, \"213\": 1, \"214\": 1, \"215\": 3, \"216\": 4, \"217\": 1, \"218\": 3, \"219\": 1, \"220\": 3, \"221\": 3, \"222\": 2, \"223\": 3, \"224\": 2, \"225\": 3, \"226\": 3, \"227\": 1, \"228\": 4, \"229\": 1, \"230\": 1, \"231\": 4, \"232\": 4, \"233\": 1, \"234\": 0, \"235\": 0, \"236\": 2, \"237\": 2, \"238\": 2, \"239\": 2, \"240\": 1, \"241\": 1, \"242\": 1, \"243\": 1, \"244\": 3, \"245\": 4, \"246\": 3, \"247\": 3, \"248\": 1, \"249\": 3, \"250\": 2, \"251\": 3, \"252\": 3, \"253\": 1, \"254\": 2, \"255\": 1, \"256\": 1, \"257\": 2, \"258\": 1, \"259\": 2, \"260\": 2, \"261\": 1, \"262\": 1, \"263\": 2, \"264\": 4, \"265\": 3, \"266\": 1, \"267\": 1, \"268\": 4, \"269\": 3, \"270\": 3, \"271\": 1, \"272\": 3, \"273\": 1, \"274\": 1, \"275\": 1, \"276\": 2, \"277\": 0, \"278\": 3, \"279\": 3, \"280\": 3, \"281\": 4, \"282\": 3, \"283\": 3, \"284\": 4, \"285\": 1, \"286\": 2, \"287\": 3, \"288\": 3, \"289\": 1, \"290\": 2, \"291\": 3, \"292\": 3, \"293\": 4, \"294\": 4, \"295\": 2, \"296\": 3, \"297\": 1, \"298\": 1, \"299\": 3, \"300\": 1, \"301\": 1, \"302\": 2, \"303\": 2, \"304\": 4, \"305\": 3, \"306\": 1, \"307\": 3, \"308\": 1, \"309\": 1, \"310\": 3, \"311\": 1, \"312\": 3, \"313\": 4, \"314\": 4, \"315\": 2, \"316\": 1, \"317\": 0, \"318\": 2, \"319\": 3, \"320\": 0, \"321\": 3, \"322\": 1, \"323\": 1, \"324\": 3, \"325\": 3, \"326\": 3, \"327\": 1, \"328\": 4, \"329\": 3, \"330\": 1, \"331\": 3, \"332\": 4, \"333\": 3, \"334\": 3, \"335\": 1, \"336\": 3, \"337\": 1, \"338\": 4, \"339\": 1, \"340\": 2, \"341\": 1, \"342\": 2, \"343\": 1, \"344\": 3, \"345\": 3, \"346\": 3, \"347\": 1, \"348\": 0, \"349\": 3, \"350\": 3, \"351\": 3, \"352\": 2, \"353\": 0, \"354\": 1, \"355\": 2, \"356\": 4, \"357\": 3, \"358\": 4, \"359\": 3, \"360\": 4, \"361\": 1, \"362\": 1, \"363\": 2, \"364\": 2, \"365\": 2, \"366\": 3, \"367\": 4, \"368\": 1, \"369\": 3, \"370\": 1, \"371\": 1, \"372\": 3, \"373\": 2, \"374\": 4, \"375\": 1, \"376\": 3, \"377\": 1, \"378\": 2, \"379\": 3, \"380\": 1, \"381\": 1, \"382\": 3, \"383\": 0, \"384\": 3, \"385\": 2, \"386\": 1, \"387\": 3, \"388\": 1, \"389\": 1, \"390\": 1, \"391\": 1, \"392\": 1, \"393\": 1, \"394\": 0, \"395\": 4, \"396\": 2, \"397\": 3, \"398\": 2, \"399\": 2, \"400\": 1, \"401\": 3, \"402\": 1, \"403\": 1, \"404\": 4, \"405\": 4, \"406\": 4, \"407\": 3, \"408\": 1, \"409\": 1, \"410\": 2, \"411\": 2, \"412\": 4, \"413\": 1, \"414\": 3, \"415\": 2, \"416\": 3, \"417\": 3, \"418\": 3, \"419\": 2, \"420\": 1, \"421\": 4, \"422\": 1, \"423\": 1, \"424\": 1, \"425\": 3, \"426\": 3, \"427\": 3, \"428\": 4, \"429\": 4, \"430\": 3, \"431\": 1, \"432\": 4, \"433\": 1, \"434\": 4, \"435\": 1, \"436\": 0, \"437\": 1, \"438\": 1, \"439\": 1, \"440\": 3, \"441\": 1, \"442\": 3, \"443\": 1, \"444\": 3, \"445\": 3, \"446\": 2, \"447\": 3, \"448\": 4, \"449\": 2, \"450\": 4, \"451\": 1, \"452\": 1, \"453\": 1, \"454\": 1, \"455\": 2, \"456\": 1, \"457\": 2, \"458\": 4, \"459\": 1, \"460\": 3, \"461\": 3, \"462\": 4, \"463\": 1, \"464\": 2, \"465\": 1, \"466\": 4, \"467\": 3, \"468\": 4, \"469\": 1, \"470\": 3, \"471\": 4, \"472\": 1, \"473\": 4, \"474\": 1, \"475\": 3, \"476\": 1, \"477\": 1, \"478\": 1, \"479\": 2, \"480\": 1, \"481\": 1, \"482\": 2, \"483\": 1, \"484\": 4, \"485\": 1, \"486\": 1, \"487\": 2, \"488\": 3, \"489\": 2, \"490\": 1, \"491\": 1, \"492\": 3, \"493\": 0, \"494\": 1, \"495\": 3, \"496\": 2, \"497\": 2, \"498\": 3, \"499\": 1, \"500\": 2, \"501\": 3, \"502\": 3, \"503\": 1, \"504\": 4, \"505\": 1, \"506\": 3, \"507\": 1, \"508\": 4, \"509\": 3, \"510\": 1, \"511\": 3, \"512\": 4, \"513\": 3, \"514\": 2, \"515\": 3, \"516\": 3, \"517\": 3, \"518\": 3, \"519\": 1, \"520\": 1, \"521\": 1, \"522\": 1, \"523\": 4, \"524\": 2, \"525\": 3, \"526\": 4, \"527\": 3, \"528\": 3, \"529\": 1, \"530\": 3, \"531\": 1, \"532\": 2, \"533\": 1, \"534\": 2, \"535\": 3, \"536\": 2, \"537\": 1, \"538\": 3, \"539\": 1, \"540\": 3, \"541\": 3, \"542\": 1, \"543\": 1, \"544\": 3, \"545\": 0, \"546\": 2, \"547\": 3, \"548\": 0, \"549\": 1, \"550\": 1, \"551\": 1, \"552\": 3, \"553\": 0, \"554\": 0, \"555\": 2, \"556\": 2, \"557\": 1, \"558\": 2, \"559\": 4, \"560\": 1, \"561\": 1, \"562\": 0, \"563\": 3, \"564\": 4, \"565\": 1, \"566\": 2, \"567\": 1, \"568\": 2, \"569\": 4, \"570\": 3, \"571\": 3, \"572\": 2, \"573\": 0, \"574\": 1, \"575\": 2, \"576\": 3, \"577\": 1, \"578\": 2, \"579\": 3, \"580\": 2, \"581\": 4, \"582\": 3, \"583\": 1, \"584\": 1, \"585\": 3, \"586\": 1, \"587\": 4, \"588\": 3, \"589\": 4, \"590\": 1, \"591\": 4, \"592\": 1, \"593\": 3, \"594\": 3, \"595\": 2, \"596\": 1, \"597\": 1, \"598\": 4, \"599\": 3, \"600\": 1, \"601\": 1, \"602\": 1, \"603\": 3, \"604\": 1, \"605\": 1, \"606\": 3, \"607\": 4, \"608\": 1, \"609\": 1, \"610\": 3, \"611\": 1, \"612\": 2, \"613\": 4, \"614\": 3, \"615\": 1, \"616\": 1, \"617\": 2, \"618\": 1, \"619\": 1, \"620\": 2, \"621\": 3, \"622\": 1, \"623\": 1, \"624\": 1, \"625\": 4, \"626\": 4, \"627\": 4, \"628\": 4, \"629\": 0, \"630\": 3, \"631\": 4, \"632\": 1, \"633\": 3, \"634\": 1, \"635\": 4, \"636\": 3, \"637\": 0, \"638\": 1, \"639\": 4, \"640\": 3, \"641\": 1, \"642\": 0, \"643\": 3, \"644\": 4, \"645\": 1, \"646\": 2, \"647\": 4, \"648\": 2, \"649\": 2, \"650\": 3, \"651\": 1, \"652\": 1, \"653\": 2, \"654\": 3, \"655\": 3, \"656\": 0, \"657\": 1, \"658\": 3, \"659\": 0, \"660\": 1, \"661\": 1, \"662\": 0, \"663\": 0, \"664\": 4, \"665\": 3, \"666\": 1, \"667\": 1, \"668\": 3, \"669\": 0, \"670\": 3, \"671\": 1, \"672\": 1, \"673\": 3, \"674\": 4, \"675\": 2, \"676\": 3, \"677\": 4, \"678\": 2, \"679\": 3, \"680\": 1, \"681\": 3, \"682\": 3, \"683\": 1, \"684\": 3, \"685\": 2, \"686\": 1, \"687\": 1, \"688\": 2, \"689\": 4, \"690\": 1, \"691\": 4, \"692\": 3, \"693\": 2, \"694\": 1, \"695\": 1, \"696\": 1, \"697\": 3, \"698\": 2, \"699\": 1, \"700\": 2, \"701\": 3, \"702\": 3, \"703\": 3, \"704\": 3, \"705\": 3, \"706\": 4, \"707\": 1, \"708\": 3, \"709\": 0, \"710\": 4, \"711\": 3, \"712\": 3, \"713\": 1, \"714\": 0, \"715\": 2, \"716\": 1, \"717\": 4, \"718\": 1, \"719\": 3, \"720\": 1, \"721\": 1, \"722\": 1, \"723\": 2, \"724\": 2, \"725\": 0, \"726\": 1, \"727\": 1, \"728\": 4, \"729\": 0, \"730\": 3, \"731\": 1, \"732\": 1, \"733\": 0, \"734\": 1, \"735\": 2, \"736\": 1, \"737\": 3, \"738\": 4, \"739\": 3, \"740\": 2, \"741\": 3, \"742\": 3, \"743\": 3, \"744\": 4, \"745\": 4, \"746\": 4, \"747\": 3, \"748\": 1, \"749\": 1, \"750\": 1, \"751\": 2, \"752\": 3, \"753\": 1, \"754\": 4, \"755\": 1, \"756\": 4, \"757\": 3, \"758\": 3, \"759\": 4, \"760\": 3, \"761\": 1, \"762\": 0, \"763\": 3, \"764\": 4, \"765\": 4, \"766\": 1, \"767\": 2, \"768\": 2, \"769\": 1, \"770\": 1, \"771\": 3, \"772\": 4, \"773\": 3, \"774\": 3, \"775\": 0, \"776\": 4, \"777\": 2, \"778\": 3, \"779\": 2, \"780\": 3, \"781\": 3, \"782\": 3, \"783\": 2, \"784\": 4, \"785\": 2, \"786\": 2, \"787\": 1, \"788\": 1, \"789\": 3, \"790\": 4, \"791\": 4, \"792\": 2, \"793\": 3, \"794\": 2, \"795\": 2, \"796\": 1, \"797\": 1, \"798\": 3, \"799\": 1, \"800\": 1, \"801\": 1, \"802\": 2, \"803\": 3, \"804\": 2, \"805\": 3, \"806\": 3, \"807\": 4, \"808\": 4, \"809\": 0, \"810\": 0, \"811\": 0, \"812\": 3, \"813\": 3, \"814\": 4, \"815\": 3, \"816\": 2, \"817\": 1, \"818\": 3, \"819\": 4, \"820\": 3, \"821\": 1, \"822\": 2, \"823\": 1, \"824\": 1, \"825\": 3, \"826\": 3, \"827\": 2, \"828\": 3, \"829\": 2, \"830\": 3, \"831\": 2, \"832\": 3, \"833\": 1, \"834\": 0, \"835\": 2, \"836\": 3, \"837\": 2, \"838\": 3, \"839\": 3, \"840\": 3, \"841\": 2, \"842\": 3, \"843\": 3, \"844\": 1, \"845\": 1, \"846\": 1, \"847\": 3, \"848\": 3, \"849\": 4, \"850\": 2, \"851\": 1, \"852\": 1, \"853\": 3, \"854\": 3, \"855\": 4, \"856\": 0, \"857\": 3, \"858\": 1, \"859\": 1, \"860\": 1, \"861\": 4, \"862\": 4, \"863\": 2, \"864\": 1, \"865\": 1, \"866\": 4, \"867\": 1, \"868\": 3, \"869\": 0, \"870\": 1, \"871\": 2, \"872\": 3, \"873\": 2, \"874\": 4, \"875\": 1, \"876\": 3, \"877\": 0, \"878\": 2, \"879\": 1, \"880\": 3, \"881\": 1, \"882\": 0, \"883\": 2, \"884\": 2, \"885\": 4, \"886\": 0, \"887\": 1, \"888\": 1, \"889\": 2, \"890\": 1, \"891\": 3, \"892\": 1, \"893\": 0, \"894\": 1, \"895\": 3, \"896\": 1, \"897\": 3, \"898\": 1, \"899\": 3, \"900\": 1, \"901\": 2, \"902\": 1, \"903\": 1, \"904\": 1, \"905\": 3, \"906\": 1, \"907\": 4, \"908\": 2, \"909\": 1, \"910\": 2, \"911\": 1, \"912\": 1, \"913\": 3, \"914\": 2, \"915\": 3, \"916\": 1, \"917\": 3, \"918\": 3, \"919\": 1, \"920\": 3, \"921\": 1, \"922\": 4, \"923\": 2, \"924\": 2, \"925\": 0, \"926\": 1, \"927\": 4, \"928\": 3, \"929\": 3, \"930\": 2, \"931\": 1, \"932\": 0, \"933\": 3, \"934\": 4, \"935\": 1, \"936\": 3, \"937\": 3, \"938\": 1, \"939\": 3, \"940\": 1, \"941\": 1, \"942\": 1, \"943\": 1, \"944\": 0, \"945\": 1, \"946\": 4, \"947\": 1, \"948\": 3, \"949\": 3, \"950\": 1, \"951\": 2, \"952\": 3, \"953\": 1, \"954\": 3, \"955\": 3, \"956\": 1, \"957\": 3, \"958\": 3, \"959\": 3, \"960\": 0, \"961\": 1, \"962\": 3, \"963\": 4, \"964\": 3, \"965\": 1, \"966\": 1, \"967\": 2, \"968\": 4, \"969\": 2, \"970\": 3, \"971\": 1, \"972\": 3, \"973\": 3, \"974\": 1, \"975\": 1, \"976\": 1, \"977\": 0, \"978\": 1, \"979\": 4, \"980\": 3, \"981\": 1, \"982\": 1, \"983\": 2, \"984\": 1, \"985\": 4, \"986\": 1, \"987\": 2, \"988\": 3, \"989\": 4, \"990\": 1, \"991\": 3, \"992\": 1, \"993\": 4, \"994\": 1, \"995\": 3, \"996\": 2, \"997\": 2, \"998\": 3, \"999\": 2, \"1000\": 1, \"1001\": 2, \"1002\": 3, \"1003\": 3, \"1004\": 1, \"1005\": 3, \"1006\": 2, \"1007\": 1, \"1008\": 3, \"1009\": 4, \"1010\": 1, \"1011\": 1, \"1012\": 1, \"1013\": 2, \"1014\": 2, \"1015\": 3, \"1016\": 2, \"1017\": 3, \"1018\": 1, \"1019\": 4, \"1020\": 1, \"1021\": 4, \"1022\": 4, \"1023\": 4, \"1024\": 4, \"1025\": 1, \"1026\": 3, \"1027\": 2, \"1028\": 1, \"1029\": 3, \"1030\": 4, \"1031\": 3, \"1032\": 4, \"1033\": 3, \"1034\": 2, \"1035\": 3, \"1036\": 3, \"1037\": 2, \"1038\": 2, \"1039\": 2, \"1040\": 1, \"1041\": 2, \"1042\": 2, \"1043\": 4, \"1044\": 1, \"1045\": 1, \"1046\": 4, \"1047\": 1, \"1048\": 2, \"1049\": 2, \"1050\": 1, \"1051\": 3, \"1052\": 4, \"1053\": 3, \"1054\": 4, \"1055\": 1, \"1056\": 2, \"1057\": 1, \"1058\": 4, \"1059\": 4, \"1060\": 4, \"1061\": 1, \"1062\": 1, \"1063\": 1, \"1064\": 1, \"1065\": 0, \"1066\": 2, \"1067\": 1, \"1068\": 2, \"1069\": 3, \"1070\": 3, \"1071\": 4, \"1072\": 1, \"1073\": 1, \"1074\": 4, \"1075\": 1, \"1076\": 4, \"1077\": 0, \"1078\": 0, \"1079\": 3, \"1080\": 3, \"1081\": 3, \"1082\": 3, \"1083\": 3, \"1084\": 3, \"1085\": 3, \"1086\": 2, \"1087\": 3, \"1088\": 2, \"1089\": 1, \"1090\": 0, \"1091\": 3, \"1092\": 2, \"1093\": 4, \"1094\": 1, \"1095\": 3, \"1096\": 4, \"1097\": 1, \"1098\": 0, \"1099\": 1, \"1100\": 3, \"1101\": 1, \"1102\": 1, \"1103\": 2, \"1104\": 3, \"1105\": 4, \"1106\": 3, \"1107\": 2, \"1108\": 4, \"1109\": 0, \"1110\": 0, \"1111\": 4, \"1112\": 2, \"1113\": 0, \"1114\": 3, \"1115\": 2, \"1116\": 4, \"1117\": 3, \"1118\": 4, \"1119\": 4, \"1120\": 1, \"1121\": 3, \"1122\": 1, \"1123\": 0, \"1124\": 1, \"1125\": 1, \"1126\": 4, \"1127\": 4, \"1128\": 2, \"1129\": 3, \"1130\": 1, \"1131\": 1, \"1132\": 2, \"1133\": 2, \"1134\": 1, \"1135\": 1, \"1136\": 4, \"1137\": 4, \"1138\": 3, \"1139\": 1, \"1140\": 4, \"1141\": 1, \"1142\": 0, \"1143\": 1, \"1144\": 0, \"1145\": 1, \"1146\": 1, \"1147\": 1, \"1148\": 2, \"1149\": 1, \"1150\": 2, \"1151\": 2, \"1152\": 1, \"1153\": 3, \"1154\": 3, \"1155\": 3, \"1156\": 3, \"1157\": 1, \"1158\": 2, \"1159\": 1, \"1160\": 1, \"1161\": 3, \"1162\": 3, \"1163\": 3, \"1164\": 1, \"1165\": 1, \"1166\": 4, \"1167\": 1, \"1168\": 0, \"1169\": 1, \"1170\": 1, \"1171\": 0, \"1172\": 4, \"1173\": 1, \"1174\": 3, \"1175\": 3, \"1176\": 3, \"1177\": 3, \"1178\": 3, \"1179\": 3, \"1180\": 0, \"1181\": 2, \"1182\": 1, \"1183\": 0, \"1184\": 3, \"1185\": 4, \"1186\": 0, \"1187\": 3, \"1188\": 3, \"1189\": 1, \"1190\": 0, \"1191\": 2, \"1192\": 1, \"1193\": 3, \"1194\": 1, \"1195\": 1, \"1196\": 1, \"1197\": 2, \"1198\": 1, \"1199\": 3, \"1200\": 3, \"1201\": 1, \"1202\": 1, \"1203\": 0, \"1204\": 3, \"1205\": 3, \"1206\": 3, \"1207\": 1, \"1208\": 3, \"1209\": 1, \"1210\": 4, \"1211\": 0, \"1212\": 3, \"1213\": 0, \"1214\": 4, \"1215\": 0, \"1216\": 4, \"1217\": 1, \"1218\": 0, \"1219\": 1, \"1220\": 1, \"1221\": 4, \"1222\": 1, \"1223\": 1, \"1224\": 1, \"1225\": 4, \"1226\": 4, \"1227\": 1, \"1228\": 4, \"1229\": 2, \"1230\": 4, \"1231\": 1, \"1232\": 3, \"1233\": 2, \"1234\": 3, \"1235\": 4, \"1236\": 1, \"1237\": 4, \"1238\": 3, \"1239\": 1, \"1240\": 2, \"1241\": 1, \"1242\": 2, \"1243\": 1, \"1244\": 1, \"1245\": 3, \"1246\": 1, \"1247\": 1, \"1248\": 3, \"1249\": 1, \"1250\": 2, \"1251\": 3, \"1252\": 1, \"1253\": 3, \"1254\": 3, \"1255\": 2, \"1256\": 0, \"1257\": 3, \"1258\": 4, \"1259\": 1, \"1260\": 1, \"1261\": 3, \"1262\": 1, \"1263\": 2, \"1264\": 3, \"1265\": 1, \"1266\": 1, \"1267\": 3, \"1268\": 0, \"1269\": 4, \"1270\": 3, \"1271\": 1, \"1272\": 3, \"1273\": 2, \"1274\": 3, \"1275\": 3, \"1276\": 3, \"1277\": 1, \"1278\": 1, \"1279\": 1, \"1280\": 4, \"1281\": 3, \"1282\": 3, \"1283\": 3, \"1284\": 1, \"1285\": 3, \"1286\": 0, \"1287\": 2, \"1288\": 1, \"1289\": 3, \"1290\": 2, \"1291\": 3, \"1292\": 0, \"1293\": 1, \"1294\": 1, \"1295\": 3, \"1296\": 1, \"1297\": 4, \"1298\": 1, \"1299\": 4, \"1300\": 3, \"1301\": 3, \"1302\": 2, \"1303\": 4, \"1304\": 3, \"1305\": 2, \"1306\": 1, \"1307\": 3, \"1308\": 3, \"1309\": 0, \"1310\": 1, \"1311\": 3, \"1312\": 4, \"1313\": 1, \"1314\": 4, \"1315\": 1, \"1316\": 2, \"1317\": 3, \"1318\": 1, \"1319\": 0, \"1320\": 2, \"1321\": 3, \"1322\": 2, \"1323\": 3, \"1324\": 3, \"1325\": 1, \"1326\": 2, \"1327\": 3, \"1328\": 1, \"1329\": 1, \"1330\": 3, \"1331\": 1, \"1332\": 4, \"1333\": 3, \"1334\": 0, \"1335\": 1, \"1336\": 4, \"1337\": 3, \"1338\": 4, \"1339\": 1, \"1340\": 3, \"1341\": 4, \"1342\": 3, \"1343\": 1, \"1344\": 3, \"1345\": 1, \"1346\": 1, \"1347\": 4, \"1348\": 4, \"1349\": 1, \"1350\": 1, \"1351\": 3, \"1352\": 1, \"1353\": 2, \"1354\": 2, \"1355\": 1, \"1356\": 2, \"1357\": 3, \"1358\": 3, \"1359\": 1, \"1360\": 3, \"1361\": 1, \"1362\": 0, \"1363\": 1, \"1364\": 2, \"1365\": 4, \"1366\": 1, \"1367\": 1, \"1368\": 4, \"1369\": 4, \"1370\": 3, \"1371\": 1, \"1372\": 4, \"1373\": 4, \"1374\": 1, \"1375\": 3, \"1376\": 3, \"1377\": 3, \"1378\": 1, \"1379\": 2, \"1380\": 2, \"1381\": 1, \"1382\": 0, \"1383\": 0, \"1384\": 1, \"1385\": 1, \"1386\": 1, \"1387\": 4, \"1388\": 1, \"1389\": 4, \"1390\": 4, \"1391\": 1, \"1392\": 1, \"1393\": 4, \"1394\": 3, \"1395\": 1, \"1396\": 0, \"1397\": 1, \"1398\": 3, \"1399\": 2, \"1400\": 4, \"1401\": 2, \"1402\": 1, \"1403\": 3, \"1404\": 4, \"1405\": 1, \"1406\": 4, \"1407\": 3, \"1408\": 3, \"1409\": 1, \"1410\": 3, \"1411\": 2, \"1412\": 2, \"1413\": 3, \"1414\": 2, \"1415\": 0, \"1416\": 3, \"1417\": 2, \"1418\": 3, \"1419\": 0, \"1420\": 0, \"1421\": 3, \"1422\": 1, \"1423\": 2, \"1424\": 1, \"1425\": 3, \"1426\": 1, \"1427\": 2, \"1428\": 0, \"1429\": 1, \"1430\": 2, \"1431\": 3, \"1432\": 3, \"1433\": 3, \"1434\": 1, \"1435\": 1, \"1436\": 3, \"1437\": 3, \"1438\": 3, \"1439\": 3, \"1440\": 3, \"1441\": 0, \"1442\": 1, \"1443\": 4, \"1444\": 1, \"1445\": 3, \"1446\": 1, \"1447\": 3, \"1448\": 3, \"1449\": 2, \"1450\": 4, \"1451\": 3, \"1452\": 0, \"1453\": 4, \"1454\": 1, \"1455\": 1, \"1456\": 0, \"1457\": 1, \"1458\": 3, \"1459\": 1, \"1460\": 2, \"1461\": 2, \"1462\": 0, \"1463\": 3, \"1464\": 0, \"1465\": 3, \"1466\": 4, \"1467\": 0, \"1468\": 2, \"1469\": 1, \"1470\": 2, \"1471\": 4, \"1472\": 2, \"1473\": 2, \"1474\": 3, \"1475\": 1, \"1476\": 1, \"1477\": 3, \"1478\": 0, \"1479\": 4, \"1480\": 0, \"1481\": 2, \"1482\": 2, \"1483\": 1, \"1484\": 1, \"1485\": 0, \"1486\": 3, \"1487\": 2, \"1488\": 2, \"1489\": 1, \"1490\": 0, \"1491\": 3, \"1492\": 1, \"1493\": 1, \"1494\": 4, \"1495\": 1, \"1496\": 0, \"1497\": 3, \"1498\": 3, \"1499\": 1, \"1500\": 0, \"1501\": 1, \"1502\": 3, \"1503\": 3, \"1504\": 3, \"1505\": 2, \"1506\": 1, \"1507\": 3, \"1508\": 2, \"1509\": 3, \"1510\": 2, \"1511\": 4, \"1512\": 3, \"1513\": 1, \"1514\": 3, \"1515\": 1, \"1516\": 3, \"1517\": 1, \"1518\": 2, \"1519\": 1, \"1520\": 4, \"1521\": 3, \"1522\": 2, \"1523\": 3, \"1524\": 2, \"1525\": 4, \"1526\": 1, \"1527\": 2, \"1528\": 3, \"1529\": 2, \"1530\": 1, \"1531\": 1, \"1532\": 0, \"1533\": 1, \"1534\": 1, \"1535\": 1, \"1536\": 4, \"1537\": 1, \"1538\": 1, \"1539\": 3, \"1540\": 2, \"1541\": 2, \"1542\": 3, \"1543\": 1, \"1544\": 3, \"1545\": 4, \"1546\": 3, \"1547\": 4, \"1548\": 4, \"1549\": 1, \"1550\": 4, \"1551\": 4, \"1552\": 2, \"1553\": 1, \"1554\": 3, \"1555\": 3, \"1556\": 2, \"1557\": 4, \"1558\": 3, \"1559\": 1, \"1560\": 1, \"1561\": 2, \"1562\": 3, \"1563\": 4, \"1564\": 0, \"1565\": 1, \"1566\": 1, \"1567\": 2, \"1568\": 2, \"1569\": 3, \"1570\": 3, \"1571\": 1, \"1572\": 3, \"1573\": 1, \"1574\": 4, \"1575\": 1, \"1576\": 4, \"1577\": 1, \"1578\": 2, \"1579\": 3, \"1580\": 1, \"1581\": 4, \"1582\": 1, \"1583\": 3, \"1584\": 1, \"1585\": 4, \"1586\": 3, \"1587\": 1, \"1588\": 0, \"1589\": 3, \"1590\": 4, \"1591\": 1, \"1592\": 1, \"1593\": 1, \"1594\": 2, \"1595\": 3, \"1596\": 0, \"1597\": 1, \"1598\": 2, \"1599\": 1, \"1600\": 2, \"1601\": 1, \"1602\": 3, \"1603\": 3, \"1604\": 3, \"1605\": 1, \"1606\": 3, \"1607\": 1, \"1608\": 4, \"1609\": 2, \"1610\": 2, \"1611\": 1, \"1612\": 0, \"1613\": 4, \"1614\": 3, \"1615\": 3, \"1616\": 4, \"1617\": 2, \"1618\": 2, \"1619\": 1, \"1620\": 1, \"1621\": 1, \"1622\": 1, \"1623\": 4, \"1624\": 0, \"1625\": 1, \"1626\": 3, \"1627\": 3, \"1628\": 1, \"1629\": 1, \"1630\": 0, \"1631\": 3, \"1632\": 1, \"1633\": 2, \"1634\": 1, \"1635\": 4, \"1636\": 1, \"1637\": 2, \"1638\": 3, \"1639\": 3, \"1640\": 4, \"1641\": 3, \"1642\": 3, \"1643\": 1, \"1644\": 0, \"1645\": 4, \"1646\": 3, \"1647\": 3, \"1648\": 3, \"1649\": 1, \"1650\": 2, \"1651\": 2, \"1652\": 3, \"1653\": 1, \"1654\": 3, \"1655\": 2, \"1656\": 0, \"1657\": 1, \"1658\": 3, \"1659\": 2, \"1660\": 4, \"1661\": 4, \"1662\": 3, \"1663\": 3, \"1664\": 3, \"1665\": 2, \"1666\": 4, \"1667\": 1, \"1668\": 1, \"1669\": 3, \"1670\": 2, \"1671\": 4, \"1672\": 1, \"1673\": 1, \"1674\": 4, \"1675\": 2, \"1676\": 3, \"1677\": 3, \"1678\": 3, \"1679\": 4, \"1680\": 2, \"1681\": 3, \"1682\": 2, \"1683\": 3, \"1684\": 2, \"1685\": 0, \"1686\": 2, \"1687\": 3, \"1688\": 0, \"1689\": 2, \"1690\": 2, \"1691\": 4, \"1692\": 1, \"1693\": 1, \"1694\": 3, \"1695\": 1, \"1696\": 1, \"1697\": 1, \"1698\": 4, \"1699\": 1, \"1700\": 1, \"1701\": 1, \"1702\": 0, \"1703\": 2, \"1704\": 4, \"1705\": 3, \"1706\": 1, \"1707\": 1, \"1708\": 4, \"1709\": 3, \"1710\": 2, \"1711\": 1, \"1712\": 3, \"1713\": 2, \"1714\": 3, \"1715\": 4, \"1716\": 3, \"1717\": 1, \"1718\": 3, \"1719\": 1, \"1720\": 0, \"1721\": 1, \"1722\": 3, \"1723\": 1, \"1724\": 3, \"1725\": 3, \"1726\": 2, \"1727\": 1, \"1728\": 1, \"1729\": 3, \"1730\": 3, \"1731\": 3, \"1732\": 1, \"1733\": 1, \"1734\": 4, \"1735\": 3, \"1736\": 4, \"1737\": 3, \"1738\": 2, \"1739\": 3, \"1740\": 2, \"1741\": 1, \"1742\": 0, \"1743\": 1, \"1744\": 1, \"1745\": 1, \"1746\": 3, \"1747\": 3, \"1748\": 3, \"1749\": 0, \"1750\": 0, \"1751\": 3, \"1752\": 1, \"1753\": 2, \"1754\": 3, \"1755\": 0, \"1756\": 4, \"1757\": 1, \"1758\": 1, \"1759\": 4, \"1760\": 4, \"1761\": 2, \"1762\": 2, \"1763\": 3, \"1764\": 1, \"1765\": 2, \"1766\": 2, \"1767\": 3, \"1768\": 3, \"1769\": 3, \"1770\": 1, \"1771\": 3, \"1772\": 0, \"1773\": 3, \"1774\": 4, \"1775\": 1, \"1776\": 3, \"1777\": 3, \"1778\": 2, \"1779\": 3, \"1780\": 2, \"1781\": 4, \"1782\": 4, \"1783\": 3, \"1784\": 1, \"1785\": 3, \"1786\": 3, \"1787\": 3, \"1788\": 3, \"1789\": 3, \"1790\": 3, \"1791\": 4, \"1792\": 3, \"1793\": 4, \"1794\": 1, \"1795\": 3, \"1796\": 3, \"1797\": 4, \"1798\": 2, \"1799\": 3, \"1800\": 2, \"1801\": 4, \"1802\": 4, \"1803\": 3, \"1804\": 3, \"1805\": 1, \"1806\": 2, \"1807\": 3, \"1808\": 1, \"1809\": 1, \"1810\": 4, \"1811\": 1, \"1812\": 1, \"1813\": 4, \"1814\": 4, \"1815\": 1, \"1816\": 3, \"1817\": 0, \"1818\": 1, \"1819\": 2, \"1820\": 4, \"1821\": 1, \"1822\": 3, \"1823\": 1, \"1824\": 2, \"1825\": 3, \"1826\": 1, \"1827\": 0, \"1828\": 3, \"1829\": 3, \"1830\": 3, \"1831\": 3, \"1832\": 1, \"1833\": 1, \"1834\": 1, \"1835\": 2, \"1836\": 4, \"1837\": 1, \"1838\": 3, \"1839\": 1, \"1840\": 3, \"1841\": 3, \"1842\": 4, \"1843\": 2, \"1844\": 1, \"1845\": 4, \"1846\": 1, \"1847\": 1, \"1848\": 3, \"1849\": 3, \"1850\": 4, \"1851\": 3, \"1852\": 1, \"1853\": 4, \"1854\": 3, \"1855\": 4, \"1856\": 1, \"1857\": 2, \"1858\": 3, \"1859\": 3, \"1860\": 4, \"1861\": 0, \"1862\": 2, \"1863\": 3, \"1864\": 2, \"1865\": 3, \"1866\": 1, \"1867\": 4, \"1868\": 1, \"1869\": 3, \"1870\": 3, \"1871\": 1, \"1872\": 1, \"1873\": 0, \"1874\": 3, \"1875\": 2, \"1876\": 1, \"1877\": 0, \"1878\": 0, \"1879\": 3, \"1880\": 2, \"1881\": 0, \"1882\": 4, \"1883\": 3, \"1884\": 2, \"1885\": 1, \"1886\": 3, \"1887\": 2, \"1888\": 1, \"1889\": 1, \"1890\": 2, \"1891\": 1, \"1892\": 4, \"1893\": 1, \"1894\": 3, \"1895\": 4, \"1896\": 2, \"1897\": 0, \"1898\": 2, \"1899\": 0, \"1900\": 1, \"1901\": 1, \"1902\": 3, \"1903\": 1, \"1904\": 1, \"1905\": 4, \"1906\": 3, \"1907\": 1, \"1908\": 0, \"1909\": 2, \"1910\": 3, \"1911\": 4, \"1912\": 4, \"1913\": 3, \"1914\": 4, \"1915\": 3, \"1916\": 4, \"1917\": 1, \"1918\": 3, \"1919\": 3, \"1920\": 2, \"1921\": 4, \"1922\": 4, \"1923\": 3, \"1924\": 3, \"1925\": 1, \"1926\": 0, \"1927\": 1, \"1928\": 1, \"1929\": 1, \"1930\": 1, \"1931\": 1, \"1932\": 1, \"1933\": 1, \"1934\": 3, \"1935\": 2, \"1936\": 4, \"1937\": 0, \"1938\": 2, \"1939\": 1, \"1940\": 2, \"1941\": 3, \"1942\": 3, \"1943\": 3, \"1944\": 1, \"1945\": 3, \"1946\": 3, \"1947\": 3, \"1948\": 1, \"1949\": 2, \"1950\": 1, \"1951\": 3, \"1952\": 3, \"1953\": 3, \"1954\": 2, \"1955\": 3, \"1956\": 1, \"1957\": 1, \"1958\": 2, \"1959\": 2, \"1960\": 1, \"1961\": 1, \"1962\": 1, \"1963\": 1, \"1964\": 0, \"1965\": 1, \"1966\": 1, \"1967\": 1, \"1968\": 3, \"1969\": 3, \"1970\": 0, \"1971\": 1, \"1972\": 3, \"1973\": 2, \"1974\": 1, \"1975\": 1, \"1976\": 2, \"1977\": 4, \"1978\": 3, \"1979\": 3, \"1980\": 3, \"1981\": 4, \"1982\": 4, \"1983\": 4, \"1984\": 4, \"1985\": 4, \"1986\": 3, \"1987\": 4, \"1988\": 0, \"1989\": 3, \"1990\": 3, \"1991\": 4, \"1992\": 3, \"1993\": 3, \"1994\": 3, \"1995\": 2, \"1996\": 0, \"1997\": 1, \"1998\": 1, \"1999\": 1, \"2000\": 4, \"2001\": 4, \"2002\": 3, \"2003\": 3, \"2004\": 0, \"2005\": 2, \"2006\": 4, \"2007\": 1, \"2008\": 2, \"2009\": 1, \"2010\": 1, \"2011\": 3, \"2012\": 4, \"2013\": 0, \"2014\": 0, \"2015\": 3, \"2016\": 2, \"2017\": 3, \"2018\": 4, \"2019\": 3, \"2020\": 2, \"2021\": 3, \"2022\": 1, \"2023\": 2, \"2024\": 3, \"2025\": 3, \"2026\": 3, \"2027\": 3, \"2028\": 1, \"2029\": 1, \"2030\": 3, \"2031\": 1, \"2032\": 2, \"2033\": 3, \"2034\": 3, \"2035\": 4, \"2036\": 0, \"2037\": 1, \"2038\": 3, \"2039\": 1, \"2040\": 0, \"2041\": 1, \"2042\": 0, \"2043\": 2, \"2044\": 4, \"2045\": 3, \"2046\": 0, \"2047\": 2, \"2048\": 1, \"2049\": 1, \"2050\": 4, \"2051\": 3, \"2052\": 3, \"2053\": 4, \"2054\": 3, \"2055\": 2, \"2056\": 4, \"2057\": 2, \"2058\": 3, \"2059\": 1, \"2060\": 2, \"2061\": 3, \"2062\": 1, \"2063\": 1, \"2064\": 1, \"2065\": 0, \"2066\": 1, \"2067\": 2, \"2068\": 3, \"2069\": 1, \"2070\": 2, \"2071\": 3, \"2072\": 3, \"2073\": 1, \"2074\": 3, \"2075\": 3, \"2076\": 2, \"2077\": 3, \"2078\": 3, \"2079\": 1, \"2080\": 3, \"2081\": 1, \"2082\": 4, \"2083\": 2, \"2084\": 0, \"2085\": 2, \"2086\": 3, \"2087\": 2, \"2088\": 4, \"2089\": 3, \"2090\": 3, \"2091\": 3, \"2092\": 0, \"2093\": 2, \"2094\": 4, \"2095\": 3, \"2096\": 2, \"2097\": 1, \"2098\": 3, \"2099\": 3, \"2100\": 3, \"2101\": 1, \"2102\": 2, \"2103\": 3, \"2104\": 3, \"2105\": 1, \"2106\": 3, \"2107\": 0, \"2108\": 1, \"2109\": 4, \"2110\": 1, \"2111\": 3, \"2112\": 1, \"2113\": 3, \"2114\": 2, \"2115\": 1, \"2116\": 2, \"2117\": 2, \"2118\": 0, \"2119\": 3, \"2120\": 3, \"2121\": 4, \"2122\": 3, \"2123\": 4, \"2124\": 3, \"2125\": 4, \"2126\": 3, \"2127\": 1, \"2128\": 3, \"2129\": 2, \"2130\": 3, \"2131\": 2, \"2132\": 0, \"2133\": 3, \"2134\": 1, \"2135\": 0, \"2136\": 2, \"2137\": 3, \"2138\": 0, \"2139\": 3, \"2140\": 1, \"2141\": 2, \"2142\": 4, \"2143\": 3, \"2144\": 2, \"2145\": 3, \"2146\": 2, \"2147\": 1, \"2148\": 1, \"2149\": 4, \"2150\": 1, \"2151\": 4, \"2152\": 2, \"2153\": 1, \"2154\": 1, \"2155\": 2, \"2156\": 2, \"2157\": 2, \"2158\": 1, \"2159\": 0, \"2160\": 3, \"2161\": 2, \"2162\": 3, \"2163\": 2, \"2164\": 2, \"2165\": 3, \"2166\": 3, \"2167\": 3, \"2168\": 3, \"2169\": 3, \"2170\": 1, \"2171\": 3, \"2172\": 4, \"2173\": 1, \"2174\": 3, \"2175\": 1, \"2176\": 2, \"2177\": 3, \"2178\": 1, \"2179\": 3, \"2180\": 4, \"2181\": 1, \"2182\": 1, \"2183\": 2, \"2184\": 1, \"2185\": 2, \"2186\": 2, \"2187\": 4, \"2188\": 3, \"2189\": 2, \"2190\": 3, \"2191\": 1, \"2192\": 3, \"2193\": 2, \"2194\": 3, \"2195\": 1, \"2196\": 2, \"2197\": 1, \"2198\": 2, \"2199\": 2, \"2200\": 2, \"2201\": 1, \"2202\": 3, \"2203\": 2, \"2204\": 1, \"2205\": 3, \"2206\": 4, \"2207\": 3, \"2208\": 4, \"2209\": 3, \"2210\": 2, \"2211\": 3, \"2212\": 1, \"2213\": 2, \"2214\": 4, \"2215\": 0, \"2216\": 1, \"2217\": 4, \"2218\": 3, \"2219\": 3, \"2220\": 3, \"2221\": 3, \"2222\": 1, \"2223\": 1, \"2224\": 3, \"2225\": 0, \"2226\": 1, \"2227\": 0, \"2228\": 2, \"2229\": 1, \"2230\": 1, \"2231\": 3, \"2232\": 2, \"2233\": 4, \"2234\": 1, \"2235\": 4, \"2236\": 4, \"2237\": 3, \"2238\": 3, \"2239\": 0, \"2240\": 1, \"2241\": 3, \"2242\": 4, \"2243\": 1, \"2244\": 1, \"2245\": 3, \"2246\": 3, \"2247\": 3, \"2248\": 3, \"2249\": 3, \"2250\": 1, \"2251\": 2, \"2252\": 3, \"2253\": 4, \"2254\": 0, \"2255\": 4, \"2256\": 0, \"2257\": 3, \"2258\": 1, \"2259\": 3, \"2260\": 3, \"2261\": 3, \"2262\": 3, \"2263\": 1, \"2264\": 4, \"2265\": 1, \"2266\": 3, \"2267\": 1, \"2268\": 1, \"2269\": 2, \"2270\": 1, \"2271\": 2, \"2272\": 4, \"2273\": 1, \"2274\": 1, \"2275\": 3, \"2276\": 2, \"2277\": 3, \"2278\": 1, \"2279\": 3, \"2280\": 3, \"2281\": 3, \"2282\": 1, \"2283\": 1, \"2284\": 0, \"2285\": 1, \"2286\": 0, \"2287\": 3, \"2288\": 4, \"2289\": 3, \"2290\": 2, \"2291\": 1, \"2292\": 1, \"2293\": 4, \"2294\": 2, \"2295\": 1, \"2296\": 1, \"2297\": 2, \"2298\": 3, \"2299\": 2, \"2300\": 4, \"2301\": 2, \"2302\": 1, \"2303\": 3, \"2304\": 1, \"2305\": 2, \"2306\": 1, \"2307\": 2, \"2308\": 3, \"2309\": 1, \"2310\": 2, \"2311\": 4, \"2312\": 2, \"2313\": 2, \"2314\": 0, \"2315\": 4, \"2316\": 3, \"2317\": 1, \"2318\": 1, \"2319\": 0, \"2320\": 3, \"2321\": 3, \"2322\": 4, \"2323\": 2, \"2324\": 3, \"2325\": 3, \"2326\": 1, \"2327\": 3, \"2328\": 1, \"2329\": 2, \"2330\": 4, \"2331\": 2, \"2332\": 1, \"2333\": 2, \"2334\": 1, \"2335\": 3, \"2336\": 2, \"2337\": 3, \"2338\": 1, \"2339\": 2, \"2340\": 2, \"2341\": 3, \"2342\": 1, \"2343\": 1, \"2344\": 1, \"2345\": 3, \"2346\": 1, \"2347\": 0, \"2348\": 1, \"2349\": 3, \"2350\": 1, \"2351\": 3, \"2352\": 3, \"2353\": 1, \"2354\": 2, \"2355\": 1, \"2356\": 1, \"2357\": 1, \"2358\": 3, \"2359\": 4, \"2360\": 4, \"2361\": 1, \"2362\": 2, \"2363\": 3, \"2364\": 3, \"2365\": 2, \"2366\": 1, \"2367\": 3, \"2368\": 3, \"2369\": 3, \"2370\": 1, \"2371\": 2, \"2372\": 3, \"2373\": 1, \"2374\": 4, \"2375\": 3, \"2376\": 3, \"2377\": 3, \"2378\": 2, \"2379\": 1, \"2380\": 3, \"2381\": 4, \"2382\": 3, \"2383\": 1, \"2384\": 3, \"2385\": 1, \"2386\": 2, \"2387\": 1, \"2388\": 4, \"2389\": 4, \"2390\": 2, \"2391\": 3, \"2392\": 0, \"2393\": 3, \"2394\": 3, \"2395\": 1, \"2396\": 1, \"2397\": 3, \"2398\": 3, \"2399\": 1, \"2400\": 1, \"2401\": 1, \"2402\": 0, \"2403\": 0, \"2404\": 0, \"2405\": 4, \"2406\": 1, \"2407\": 1, \"2408\": 0, \"2409\": 1, \"2410\": 0, \"2411\": 3, \"2412\": 4, \"2413\": 1, \"2414\": 3, \"2415\": 1, \"2416\": 1, \"2417\": 0, \"2418\": 1, \"2419\": 4, \"2420\": 4, \"2421\": 3, \"2422\": 1, \"2423\": 2, \"2424\": 3, \"2425\": 1, \"2426\": 4, \"2427\": 1, \"2428\": 4, \"2429\": 3, \"2430\": 4, \"2431\": 1, \"2432\": 3, \"2433\": 3, \"2434\": 4, \"2435\": 4, \"2436\": 4, \"2437\": 4, \"2438\": 1, \"2439\": 3, \"2440\": 3, \"2441\": 2, \"2442\": 1, \"2443\": 3, \"2444\": 0, \"2445\": 4, \"2446\": 2, \"2447\": 2, \"2448\": 2, \"2449\": 1, \"2450\": 4, \"2451\": 3, \"2452\": 3, \"2453\": 3, \"2454\": 3, \"2455\": 1, \"2456\": 1, \"2457\": 2, \"2458\": 2, \"2459\": 4, \"2460\": 3, \"2461\": 2, \"2462\": 4, \"2463\": 4, \"2464\": 0, \"2465\": 0, \"2466\": 1, \"2467\": 4, \"2468\": 3, \"2469\": 1, \"2470\": 2, \"2471\": 1, \"2472\": 3, \"2473\": 2, \"2474\": 1, \"2475\": 4, \"2476\": 1, \"2477\": 3, \"2478\": 1, \"2479\": 4, \"2480\": 1, \"2481\": 1, \"2482\": 3, \"2483\": 3, \"2484\": 4, \"2485\": 4, \"2486\": 2, \"2487\": 0, \"2488\": 1, \"2489\": 1, \"2490\": 1, \"2491\": 3, \"2492\": 3, \"2493\": 1, \"2494\": 1, \"2495\": 4, \"2496\": 4, \"2497\": 0, \"2498\": 2, \"2499\": 1, \"2500\": 3, \"2501\": 1, \"2502\": 4, \"2503\": 3, \"2504\": 1, \"2505\": 4, \"2506\": 4, \"2507\": 2, \"2508\": 1, \"2509\": 2, \"2510\": 1, \"2511\": 2, \"2512\": 2, \"2513\": 4, \"2514\": 1, \"2515\": 4, \"2516\": 1, \"2517\": 2, \"2518\": 1, \"2519\": 3, \"2520\": 4, \"2521\": 4, \"2522\": 3, \"2523\": 3, \"2524\": 1, \"2525\": 1, \"2526\": 1, \"2527\": 2, \"2528\": 2, \"2529\": 2, \"2530\": 1, \"2531\": 0, \"2532\": 4, \"2533\": 1, \"2534\": 0, \"2535\": 0, \"2536\": 1, \"2537\": 1, \"2538\": 4, \"2539\": 3, \"2540\": 3, \"2541\": 1, \"2542\": 4, \"2543\": 1, \"2544\": 1, \"2545\": 2, \"2546\": 4, \"2547\": 1, \"2548\": 2, \"2549\": 0, \"2550\": 1, \"2551\": 1, \"2552\": 1, \"2553\": 4, \"2554\": 3, \"2555\": 2, \"2556\": 4, \"2557\": 1, \"2558\": 4, \"2559\": 3, \"2560\": 2, \"2561\": 3, \"2562\": 4, \"2563\": 4, \"2564\": 2, \"2565\": 1, \"2566\": 2, \"2567\": 3, \"2568\": 3, \"2569\": 1, \"2570\": 4, \"2571\": 1, \"2572\": 2, \"2573\": 3, \"2574\": 2, \"2575\": 4, \"2576\": 2, \"2577\": 1, \"2578\": 3, \"2579\": 1, \"2580\": 2, \"2581\": 2, \"2582\": 1, \"2583\": 3, \"2584\": 4, \"2585\": 3, \"2586\": 2, \"2587\": 2, \"2588\": 2, \"2589\": 1, \"2590\": 1, \"2591\": 1, \"2592\": 3, \"2593\": 3, \"2594\": 1, \"2595\": 2, \"2596\": 3, \"2597\": 2, \"2598\": 3, \"2599\": 3, \"2600\": 0, \"2601\": 2, \"2602\": 2, \"2603\": 1, \"2604\": 4, \"2605\": 4, \"2606\": 3, \"2607\": 3, \"2608\": 3, \"2609\": 4, \"2610\": 3, \"2611\": 4, \"2612\": 4, \"2613\": 3, \"2614\": 1, \"2615\": 4, \"2616\": 1, \"2617\": 3, \"2618\": 3, \"2619\": 4, \"2620\": 3, \"2621\": 4, \"2622\": 4, \"2623\": 3, \"2624\": 3, \"2625\": 3, \"2626\": 2, \"2627\": 4, \"2628\": 4, \"2629\": 3, \"2630\": 2, \"2631\": 3, \"2632\": 2, \"2633\": 1, \"2634\": 1, \"2635\": 0, \"2636\": 0, \"2637\": 3, \"2638\": 1, \"2639\": 3, \"2640\": 4, \"2641\": 3, \"2642\": 4, \"2643\": 3, \"2644\": 3, \"2645\": 2, \"2646\": 2, \"2647\": 3, \"2648\": 1, \"2649\": 4, \"2650\": 3, \"2651\": 1, \"2652\": 3, \"2653\": 1, \"2654\": 0, \"2655\": 3, \"2656\": 3, \"2657\": 4, \"2658\": 4, \"2659\": 3, \"2660\": 2, \"2661\": 1, \"2662\": 1, \"2663\": 1, \"2664\": 3, \"2665\": 1, \"2666\": 2, \"2667\": 2, \"2668\": 0, \"2669\": 1, \"2670\": 1, \"2671\": 1, \"2672\": 1, \"2673\": 1, \"2674\": 3, \"2675\": 1, \"2676\": 4, \"2677\": 3, \"2678\": 1, \"2679\": 3, \"2680\": 1, \"2681\": 0, \"2682\": 3, \"2683\": 0, \"2684\": 1, \"2685\": 0, \"2686\": 2, \"2687\": 1, \"2688\": 3, \"2689\": 2, \"2690\": 3, \"2691\": 3, \"2692\": 4, \"2693\": 3, \"2694\": 1, \"2695\": 1, \"2696\": 2, \"2697\": 0, \"2698\": 1, \"2699\": 1, \"2700\": 3, \"2701\": 4, \"2702\": 3, \"2703\": 1, \"2704\": 1, \"2705\": 2, \"2706\": 3, \"2707\": 3, \"2708\": 3, \"2709\": 1, \"2710\": 3, \"2711\": 3, \"2712\": 1, \"2713\": 2, \"2714\": 1, \"2715\": 2, \"2716\": 3, \"2717\": 3, \"2718\": 4, \"2719\": 1, \"2720\": 2, \"2721\": 4, \"2722\": 1, \"2723\": 2, \"2724\": 3, \"2725\": 2, \"2726\": 3, \"2727\": 3, \"2728\": 1, \"2729\": 4, \"2730\": 3, \"2731\": 3, \"2732\": 0, \"2733\": 1, \"2734\": 3, \"2735\": 3, \"2736\": 1, \"2737\": 3, \"2738\": 2, \"2739\": 4, \"2740\": 3, \"2741\": 1, \"2742\": 4, \"2743\": 4, \"2744\": 1, \"2745\": 4, \"2746\": 2, \"2747\": 1, \"2748\": 4, \"2749\": 1, \"2750\": 1, \"2751\": 2, \"2752\": 1, \"2753\": 3, \"2754\": 1, \"2755\": 0, \"2756\": 3, \"2757\": 1, \"2758\": 1, \"2759\": 3, \"2760\": 2, \"2761\": 1, \"2762\": 2, \"2763\": 2, \"2764\": 2, \"2765\": 3, \"2766\": 1, \"2767\": 3, \"2768\": 3, \"2769\": 2, \"2770\": 0, \"2771\": 2, \"2772\": 1, \"2773\": 3, \"2774\": 3, \"2775\": 1, \"2776\": 1, \"2777\": 2, \"2778\": 1, \"2779\": 1, \"2780\": 3, \"2781\": 2, \"2782\": 3, \"2783\": 3, \"2784\": 1, \"2785\": 1, \"2786\": 1, \"2787\": 3, \"2788\": 3, \"2789\": 1, \"2790\": 1, \"2791\": 3, \"2792\": 1, \"2793\": 4, \"2794\": 3, \"2795\": 4, \"2796\": 4, \"2797\": 3, \"2798\": 1, \"2799\": 0, \"2800\": 0, \"2801\": 1, \"2802\": 1, \"2803\": 0, \"2804\": 2, \"2805\": 2, \"2806\": 4, \"2807\": 1, \"2808\": 4, \"2809\": 0, \"2810\": 3, \"2811\": 0, \"2812\": 1, \"2813\": 3, \"2814\": 3, \"2815\": 3, \"2816\": 2, \"2817\": 3, \"2818\": 1, \"2819\": 2, \"2820\": 3, \"2821\": 4, \"2822\": 4, \"2823\": 4, \"2824\": 1, \"2825\": 1, \"2826\": 3, \"2827\": 4, \"2828\": 4, \"2829\": 0, \"2830\": 3, \"2831\": 3, \"2832\": 2, \"2833\": 1, \"2834\": 3, \"2835\": 0, \"2836\": 3, \"2837\": 1, \"2838\": 1, \"2839\": 2, \"2840\": 2, \"2841\": 1, \"2842\": 3, \"2843\": 1, \"2844\": 1, \"2845\": 2, \"2846\": 1, \"2847\": 2, \"2848\": 0, \"2849\": 3, \"2850\": 1, \"2851\": 4, \"2852\": 1, \"2853\": 1, \"2854\": 1, \"2855\": 3, \"2856\": 2, \"2857\": 1, \"2858\": 3, \"2859\": 1, \"2860\": 2, \"2861\": 1, \"2862\": 1, \"2863\": 1, \"2864\": 3, \"2865\": 4, \"2866\": 1, \"2867\": 4, \"2868\": 1, \"2869\": 3, \"2870\": 0, \"2871\": 0, \"2872\": 1, \"2873\": 2, \"2874\": 1, \"2875\": 3, \"2876\": 3, \"2877\": 1, \"2878\": 3, \"2879\": 2, \"2880\": 1, \"2881\": 4, \"2882\": 2, \"2883\": 3, \"2884\": 1, \"2885\": 4, \"2886\": 1, \"2887\": 1, \"2888\": 3, \"2889\": 3, \"2890\": 2, \"2891\": 4, \"2892\": 2, \"2893\": 3, \"2894\": 2, \"2895\": 1, \"2896\": 2, \"2897\": 2, \"2898\": 1, \"2899\": 2, \"2900\": 3, \"2901\": 2, \"2902\": 1, \"2903\": 3, \"2904\": 1, \"2905\": 2, \"2906\": 0, \"2907\": 0, \"2908\": 3, \"2909\": 4, \"2910\": 3, \"2911\": 3, \"2912\": 1, \"2913\": 3, \"2914\": 3, \"2915\": 3, \"2916\": 4, \"2917\": 0, \"2918\": 3, \"2919\": 1, \"2920\": 3, \"2921\": 4, \"2922\": 2, \"2923\": 1, \"2924\": 3, \"2925\": 4, \"2926\": 3, \"2927\": 0, \"2928\": 1, \"2929\": 1, \"2930\": 1, \"2931\": 1, \"2932\": 2, \"2933\": 1, \"2934\": 0, \"2935\": 0, \"2936\": 2, \"2937\": 2, \"2938\": 4, \"2939\": 1, \"2940\": 3, \"2941\": 3, \"2942\": 4, \"2943\": 0, \"2944\": 1, \"2945\": 0, \"2946\": 3, \"2947\": 1, \"2948\": 3, \"2949\": 3, \"2950\": 4, \"2951\": 1, \"2952\": 4, \"2953\": 0, \"2954\": 1, \"2955\": 1, \"2956\": 4, \"2957\": 1, \"2958\": 3, \"2959\": 3, \"2960\": 3, \"2961\": 2, \"2962\": 2, \"2963\": 2, \"2964\": 2, \"2965\": 1, \"2966\": 1, \"2967\": 3, \"2968\": 2, \"2969\": 3, \"2970\": 3, \"2971\": 2, \"2972\": 1, \"2973\": 2, \"2974\": 4, \"2975\": 1, \"2976\": 0, \"2977\": 4, \"2978\": 0, \"2979\": 1, \"2980\": 4, \"2981\": 3, \"2982\": 4, \"2983\": 1, \"2984\": 4, \"2985\": 2, \"2986\": 4, \"2987\": 0, \"2988\": 4, \"2989\": 2, \"2990\": 3, \"2991\": 2, \"2992\": 3, \"2993\": 4, \"2994\": 1, \"2995\": 2, \"2996\": 0, \"2997\": 1, \"2998\": 1, \"2999\": 3, \"3000\": 2, \"3001\": 1, \"3002\": 1, \"3003\": 2, \"3004\": 3, \"3005\": 1, \"3006\": 4, \"3007\": 1, \"3008\": 4, \"3009\": 3, \"3010\": 4, \"3011\": 2, \"3012\": 4, \"3013\": 3, \"3014\": 3, \"3015\": 2, \"3016\": 2, \"3017\": 1, \"3018\": 1, \"3019\": 2, \"3020\": 3, \"3021\": 4, \"3022\": 3, \"3023\": 4, \"3024\": 3, \"3025\": 3, \"3026\": 3, \"3027\": 1, \"3028\": 3, \"3029\": 2, \"3030\": 3, \"3031\": 2, \"3032\": 1, \"3033\": 4, \"3034\": 4, \"3035\": 3, \"3036\": 1, \"3037\": 3, \"3038\": 2, \"3039\": 1, \"3040\": 1, \"3041\": 1, \"3042\": 1, \"3043\": 3, \"3044\": 3, \"3045\": 3, \"3046\": 3, \"3047\": 0, \"3048\": 1, \"3049\": 3, \"3050\": 2, \"3051\": 1, \"3052\": 1, \"3053\": 3, \"3054\": 4, \"3055\": 3, \"3056\": 1, \"3057\": 3, \"3058\": 3, \"3059\": 3, \"3060\": 2, \"3061\": 4, \"3062\": 2, \"3063\": 2, \"3064\": 3, \"3065\": 2, \"3066\": 4, \"3067\": 4, \"3068\": 3, \"3069\": 3, \"3070\": 4, \"3071\": 3, \"3072\": 3, \"3073\": 1, \"3074\": 3, \"3075\": 0, \"3076\": 4, \"3077\": 2, \"3078\": 3, \"3079\": 1, \"3080\": 2, \"3081\": 3, \"3082\": 3, \"3083\": 4, \"3084\": 1, \"3085\": 1, \"3086\": 4, \"3087\": 3, \"3088\": 2, \"3089\": 3, \"3090\": 3, \"3091\": 3, \"3092\": 3, \"3093\": 3, \"3094\": 2, \"3095\": 3, \"3096\": 4, \"3097\": 2, \"3098\": 4, \"3099\": 3, \"3100\": 0, \"3101\": 1, \"3102\": 2, \"3103\": 0, \"3104\": 2, \"3105\": 4, \"3106\": 1, \"3107\": 1, \"3108\": 3, \"3109\": 2, \"3110\": 3, \"3111\": 3, \"3112\": 3, \"3113\": 1, \"3114\": 1, \"3115\": 2, \"3116\": 2, \"3117\": 3, \"3118\": 1, \"3119\": 1, \"3120\": 3, \"3121\": 3, \"3122\": 1, \"3123\": 1, \"3124\": 1, \"3125\": 4, \"3126\": 1, \"3127\": 2, \"3128\": 1, \"3129\": 3, \"3130\": 3, \"3131\": 3, \"3132\": 2, \"3133\": 3, \"3134\": 1, \"3135\": 1, \"3136\": 1, \"3137\": 4, \"3138\": 3, \"3139\": 1, \"3140\": 4, \"3141\": 1, \"3142\": 3, \"3143\": 4, \"3144\": 3, \"3145\": 2, \"3146\": 3, \"3147\": 3, \"3148\": 4, \"3149\": 3, \"3150\": 4, \"3151\": 3, \"3152\": 4, \"3153\": 2, \"3154\": 4, \"3155\": 3, \"3156\": 4, \"3157\": 2, \"3158\": 3, \"3159\": 3, \"3160\": 3, \"3161\": 0, \"3162\": 3, \"3163\": 2, \"3164\": 2, \"3165\": 4, \"3166\": 1, \"3167\": 0, \"3168\": 3, \"3169\": 1, \"3170\": 3, \"3171\": 1, \"3172\": 2, \"3173\": 4, \"3174\": 1, \"3175\": 3, \"3176\": 4, \"3177\": 3, \"3178\": 4, \"3179\": 3, \"3180\": 3, \"3181\": 3, \"3182\": 3, \"3183\": 1, \"3184\": 2, \"3185\": 1, \"3186\": 4, \"3187\": 1, \"3188\": 1, \"3189\": 3, \"3190\": 3, \"3191\": 4, \"3192\": 1, \"3193\": 1, \"3194\": 3, \"3195\": 4, \"3196\": 4, \"3197\": 2, \"3198\": 2, \"3199\": 2, \"3200\": 2, \"3201\": 4, \"3202\": 1, \"3203\": 2, \"3204\": 3, \"3205\": 4, \"3206\": 2, \"3207\": 1, \"3208\": 3, \"3209\": 0, \"3210\": 3, \"3211\": 0, \"3212\": 1, \"3213\": 3, \"3214\": 0, \"3215\": 3, \"3216\": 3, \"3217\": 3, \"3218\": 1, \"3219\": 3, \"3220\": 3, \"3221\": 3, \"3222\": 2, \"3223\": 2, \"3224\": 3, \"3225\": 1, \"3226\": 1, \"3227\": 4, \"3228\": 3, \"3229\": 3, \"3230\": 0, \"3231\": 2, \"3232\": 3, \"3233\": 0, \"3234\": 4, \"3235\": 4, \"3236\": 1, \"3237\": 4, \"3238\": 1, \"3239\": 1, \"3240\": 2, \"3241\": 1, \"3242\": 0, \"3243\": 2, \"3244\": 3, \"3245\": 1, \"3246\": 1, \"3247\": 4, \"3248\": 3, \"3249\": 0, \"3250\": 3, \"3251\": 4, \"3252\": 2, \"3253\": 1, \"3254\": 3, \"3255\": 1, \"3256\": 1, \"3257\": 1, \"3258\": 4, \"3259\": 3, \"3260\": 4, \"3261\": 3, \"3262\": 2, \"3263\": 1, \"3264\": 3, \"3265\": 4, \"3266\": 1, \"3267\": 3, \"3268\": 1, \"3269\": 3, \"3270\": 1, \"3271\": 1, \"3272\": 1, \"3273\": 0, \"3274\": 1, \"3275\": 3, \"3276\": 3, \"3277\": 4, \"3278\": 2, \"3279\": 1, \"3280\": 4, \"3281\": 4, \"3282\": 2, \"3283\": 4, \"3284\": 1, \"3285\": 1, \"3286\": 1, \"3287\": 0, \"3288\": 1, \"3289\": 3, \"3290\": 2, \"3291\": 2, \"3292\": 3, \"3293\": 3, \"3294\": 4, \"3295\": 1, \"3296\": 0, \"3297\": 4, \"3298\": 3, \"3299\": 1, \"3300\": 1, \"3301\": 1, \"3302\": 1, \"3303\": 1, \"3304\": 3, \"3305\": 2, \"3306\": 2, \"3307\": 0, \"3308\": 4, \"3309\": 3, \"3310\": 1, \"3311\": 3, \"3312\": 0, \"3313\": 3, \"3314\": 3, \"3315\": 3, \"3316\": 1, \"3317\": 1, \"3318\": 0, \"3319\": 3, \"3320\": 3, \"3321\": 3, \"3322\": 1, \"3323\": 3, \"3324\": 1, \"3325\": 3, \"3326\": 1, \"3327\": 2, \"3328\": 3, \"3329\": 2, \"3330\": 2, \"3331\": 4, \"3332\": 4, \"3333\": 2, \"3334\": 0, \"3335\": 1, \"3336\": 2, \"3337\": 4, \"3338\": 2, \"3339\": 1, \"3340\": 1, \"3341\": 3, \"3342\": 1, \"3343\": 1, \"3344\": 1, \"3345\": 3, \"3346\": 3, \"3347\": 3, \"3348\": 3, \"3349\": 2, \"3350\": 4, \"3351\": 3, \"3352\": 3, \"3353\": 2, \"3354\": 1, \"3355\": 3, \"3356\": 2, \"3357\": 1, \"3358\": 4, \"3359\": 1, \"3360\": 1, \"3361\": 1, \"3362\": 2, \"3363\": 1, \"3364\": 1, \"3365\": 3, \"3366\": 3, \"3367\": 4, \"3368\": 1, \"3369\": 2, \"3370\": 4, \"3371\": 1, \"3372\": 1, \"3373\": 3, \"3374\": 4, \"3375\": 3, \"3376\": 1, \"3377\": 2, \"3378\": 1, \"3379\": 4, \"3380\": 4, \"3381\": 1, \"3382\": 1, \"3383\": 1, \"3384\": 1, \"3385\": 1, \"3386\": 1, \"3387\": 3, \"3388\": 1, \"3389\": 0, \"3390\": 2, \"3391\": 1, \"3392\": 1, \"3393\": 1, \"3394\": 1, \"3395\": 4, \"3396\": 0, \"3397\": 4, \"3398\": 0, \"3399\": 2, \"3400\": 3, \"3401\": 1, \"3402\": 3, \"3403\": 4, \"3404\": 3, \"3405\": 1, \"3406\": 3, \"3407\": 4, \"3408\": 4, \"3409\": 1, \"3410\": 4, \"3411\": 2, \"3412\": 1, \"3413\": 3, \"3414\": 4, \"3415\": 2, \"3416\": 0, \"3417\": 2, \"3418\": 1, \"3419\": 3, \"3420\": 2, \"3421\": 0, \"3422\": 3, \"3423\": 3, \"3424\": 3, \"3425\": 2, \"3426\": 2, \"3427\": 2, \"3428\": 1, \"3429\": 4, \"3430\": 3, \"3431\": 2, \"3432\": 4, \"3433\": 3, \"3434\": 3, \"3435\": 1, \"3436\": 3, \"3437\": 2, \"3438\": 3, \"3439\": 1, \"3440\": 4, \"3441\": 4, \"3442\": 3, \"3443\": 3, \"3444\": 4, \"3445\": 0, \"3446\": 2, \"3447\": 1, \"3448\": 1, \"3449\": 3, \"3450\": 2, \"3451\": 1, \"3452\": 3, \"3453\": 1, \"3454\": 4, \"3455\": 4, \"3456\": 3, \"3457\": 0, \"3458\": 1, \"3459\": 0, \"3460\": 3, \"3461\": 3, \"3462\": 4, \"3463\": 2, \"3464\": 1, \"3465\": 3, \"3466\": 3, \"3467\": 2, \"3468\": 1, \"3469\": 3, \"3470\": 3, \"3471\": 0, \"3472\": 4, \"3473\": 1, \"3474\": 2, \"3475\": 0, \"3476\": 3, \"3477\": 2, \"3478\": 4, \"3479\": 4, \"3480\": 2, \"3481\": 1, \"3482\": 1, \"3483\": 1, \"3484\": 0, \"3485\": 1, \"3486\": 1, \"3487\": 3, \"3488\": 1, \"3489\": 3, \"3490\": 1, \"3491\": 1, \"3492\": 3, \"3493\": 0, \"3494\": 1, \"3495\": 3, \"3496\": 1, \"3497\": 1, \"3498\": 2, \"3499\": 4, \"3500\": 3, \"3501\": 3, \"3502\": 3, \"3503\": 1, \"3504\": 1, \"3505\": 0, \"3506\": 3, \"3507\": 1, \"3508\": 4, \"3509\": 0, \"3510\": 4, \"3511\": 1, \"3512\": 1, \"3513\": 3, \"3514\": 1, \"3515\": 3, \"3516\": 1, \"3517\": 1, \"3518\": 3, \"3519\": 4, \"3520\": 3, \"3521\": 3, \"3522\": 4, \"3523\": 0, \"3524\": 3, \"3525\": 4, \"3526\": 1, \"3527\": 3, \"3528\": 2, \"3529\": 4, \"3530\": 2, \"3531\": 3, \"3532\": 3, \"3533\": 1, \"3534\": 3, \"3535\": 4, \"3536\": 0, \"3537\": 0, \"3538\": 3, \"3539\": 1, \"3540\": 3, \"3541\": 3, \"3542\": 4, \"3543\": 1, \"3544\": 4, \"3545\": 4, \"3546\": 3, \"3547\": 0, \"3548\": 1, \"3549\": 1, \"3550\": 4, \"3551\": 4, \"3552\": 1, \"3553\": 3, \"3554\": 4, \"3555\": 1, \"3556\": 3, \"3557\": 0, \"3558\": 1, \"3559\": 3, \"3560\": 3, \"3561\": 4, \"3562\": 1, \"3563\": 2, \"3564\": 4, \"3565\": 4, \"3566\": 3, \"3567\": 1, \"3568\": 1, \"3569\": 2, \"3570\": 3, \"3571\": 3, \"3572\": 1, \"3573\": 3, \"3574\": 3, \"3575\": 3, \"3576\": 1, \"3577\": 3, \"3578\": 4, \"3579\": 1, \"3580\": 1, \"3581\": 3, \"3582\": 1, \"3583\": 1, \"3584\": 4, \"3585\": 3, \"3586\": 2, \"3587\": 3, \"3588\": 3, \"3589\": 2, \"3590\": 3, \"3591\": 3, \"3592\": 3, \"3593\": 1, \"3594\": 1, \"3595\": 1, \"3596\": 4, \"3597\": 3, \"3598\": 3, \"3599\": 2, \"3600\": 4, \"3601\": 1, \"3602\": 2, \"3603\": 1, \"3604\": 3, \"3605\": 4, \"3606\": 3, \"3607\": 2, \"3608\": 3, \"3609\": 2, \"3610\": 2, \"3611\": 2, \"3612\": 0, \"3613\": 3, \"3614\": 3, \"3615\": 3, \"3616\": 1, \"3617\": 1, \"3618\": 3, \"3619\": 2, \"3620\": 1, \"3621\": 3, \"3622\": 2, \"3623\": 3, \"3624\": 2, \"3625\": 3, \"3626\": 2, \"3627\": 4, \"3628\": 2, \"3629\": 1, \"3630\": 2, \"3631\": 4, \"3632\": 3, \"3633\": 3, \"3634\": 1, \"3635\": 3, \"3636\": 0, \"3637\": 3, \"3638\": 3, \"3639\": 1, \"3640\": 1, \"3641\": 4, \"3642\": 3, \"3643\": 0, \"3644\": 4, \"3645\": 3, \"3646\": 0, \"3647\": 3, \"3648\": 3, \"3649\": 1, \"3650\": 1, \"3651\": 3, \"3652\": 0, \"3653\": 2, \"3654\": 1, \"3655\": 3, \"3656\": 2, \"3657\": 1, \"3658\": 4, \"3659\": 3, \"3660\": 1, \"3661\": 1, \"3662\": 3, \"3663\": 4, \"3664\": 3, \"3665\": 1, \"3666\": 4, \"3667\": 4, \"3668\": 2, \"3669\": 4, \"3670\": 3, \"3671\": 4, \"3672\": 1, \"3673\": 3, \"3674\": 3, \"3675\": 1, \"3676\": 4, \"3677\": 1, \"3678\": 1, \"3679\": 1, \"3680\": 1, \"3681\": 2, \"3682\": 2, \"3683\": 1, \"3684\": 3, \"3685\": 3, \"3686\": 3, \"3687\": 3, \"3688\": 0, \"3689\": 1, \"3690\": 3, \"3691\": 2, \"3692\": 2, \"3693\": 3, \"3694\": 3, \"3695\": 3, \"3696\": 2, \"3697\": 3, \"3698\": 2, \"3699\": 3, \"3700\": 3, \"3701\": 1, \"3702\": 3, \"3703\": 3, \"3704\": 1, \"3705\": 1, \"3706\": 1, \"3707\": 1, \"3708\": 2, \"3709\": 3, \"3710\": 4, \"3711\": 2, \"3712\": 1, \"3713\": 2, \"3714\": 1, \"3715\": 0, \"3716\": 1, \"3717\": 4, \"3718\": 2, \"3719\": 1, \"3720\": 4, \"3721\": 1, \"3722\": 4, \"3723\": 1, \"3724\": 3, \"3725\": 3, \"3726\": 1, \"3727\": 0, \"3728\": 4, \"3729\": 1, \"3730\": 2, \"3731\": 0, \"3732\": 3, \"3733\": 2, \"3734\": 1, \"3735\": 4, \"3736\": 1, \"3737\": 3, \"3738\": 0, \"3739\": 1, \"3740\": 0, \"3741\": 3, \"3742\": 4, \"3743\": 0, \"3744\": 0, \"3745\": 1, \"3746\": 3, \"3747\": 3, \"3748\": 3, \"3749\": 3, \"3750\": 1, \"3751\": 3, \"3752\": 2, \"3753\": 1, \"3754\": 3, \"3755\": 1, \"3756\": 1, \"3757\": 1, \"3758\": 3, \"3759\": 1, \"3760\": 2, \"3761\": 3, \"3762\": 3, \"3763\": 3, \"3764\": 1, \"3765\": 4, \"3766\": 4, \"3767\": 3, \"3768\": 4, \"3769\": 4, \"3770\": 2, \"3771\": 4, \"3772\": 3, \"3773\": 4, \"3774\": 1, \"3775\": 3, \"3776\": 4, \"3777\": 2, \"3778\": 1, \"3779\": 3, \"3780\": 1, \"3781\": 2, \"3782\": 3, \"3783\": 1, \"3784\": 1, \"3785\": 4, \"3786\": 4, \"3787\": 3, \"3788\": 3, \"3789\": 0, \"3790\": 3, \"3791\": 2, \"3792\": 1, \"3793\": 1, \"3794\": 2, \"3795\": 1, \"3796\": 4, \"3797\": 2, \"3798\": 3, \"3799\": 4, \"3800\": 3, \"3801\": 3, \"3802\": 1, \"3803\": 4, \"3804\": 4, \"3805\": 2, \"3806\": 3, \"3807\": 2, \"3808\": 2, \"3809\": 3, \"3810\": 0, \"3811\": 4, \"3812\": 1, \"3813\": 3, \"3814\": 2, \"3815\": 3, \"3816\": 2, \"3817\": 2, \"3818\": 2, \"3819\": 1, \"3820\": 3, \"3821\": 1, \"3822\": 3, \"3823\": 1, \"3824\": 2, \"3825\": 3, \"3826\": 4, \"3827\": 4, \"3828\": 1, \"3829\": 0, \"3830\": 0, \"3831\": 2, \"3832\": 4, \"3833\": 2, \"3834\": 3, \"3835\": 3, \"3836\": 0, \"3837\": 1, \"3838\": 3, \"3839\": 2, \"3840\": 0, \"3841\": 2, \"3842\": 1, \"3843\": 2, \"3844\": 1, \"3845\": 3, \"3846\": 1, \"3847\": 3, \"3848\": 4, \"3849\": 3, \"3850\": 1, \"3851\": 3, \"3852\": 2, \"3853\": 4, \"3854\": 3, \"3855\": 1, \"3856\": 0, \"3857\": 0, \"3858\": 1, \"3859\": 4, \"3860\": 4, \"3861\": 3, \"3862\": 3, \"3863\": 3, \"3864\": 4, \"3865\": 1, \"3866\": 1, \"3867\": 1, \"3868\": 2, \"3869\": 3, \"3870\": 3, \"3871\": 1, \"3872\": 3, \"3873\": 2, \"3874\": 3, \"3875\": 2, \"3876\": 3, \"3877\": 4, \"3878\": 2, \"3879\": 3, \"3880\": 3, \"3881\": 4, \"3882\": 2, \"3883\": 1, \"3884\": 1, \"3885\": 2, \"3886\": 3, \"3887\": 1, \"3888\": 3, \"3889\": 1, \"3890\": 1, \"3891\": 1, \"3892\": 2, \"3893\": 1, \"3894\": 0, \"3895\": 1, \"3896\": 4, \"3897\": 1, \"3898\": 0, \"3899\": 1, \"3900\": 3, \"3901\": 1, \"3902\": 4, \"3903\": 3, \"3904\": 1, \"3905\": 3, \"3906\": 1, \"3907\": 4, \"3908\": 1, \"3909\": 3, \"3910\": 3, \"3911\": 1, \"3912\": 4, \"3913\": 1, \"3914\": 4, \"3915\": 4, \"3916\": 1, \"3917\": 3, \"3918\": 0, \"3919\": 1, \"3920\": 0, \"3921\": 3, \"3922\": 3, \"3923\": 1, \"3924\": 1, \"3925\": 1, \"3926\": 3, \"3927\": 3, \"3928\": 3, \"3929\": 3, \"3930\": 1, \"3931\": 4, \"3932\": 3, \"3933\": 2, \"3934\": 2, \"3935\": 4, \"3936\": 4, \"3937\": 1, \"3938\": 2, \"3939\": 3, \"3940\": 1, \"3941\": 3, \"3942\": 1, \"3943\": 2, \"3944\": 4, \"3945\": 4, \"3946\": 1, \"3947\": 3, \"3948\": 3, \"3949\": 3, \"3950\": 4, \"3951\": 4, \"3952\": 3, \"3953\": 3, \"3954\": 3, \"3955\": 1, \"3956\": 3, \"3957\": 1, \"3958\": 4, \"3959\": 3, \"3960\": 1, \"3961\": 1, \"3962\": 4, \"3963\": 3, \"3964\": 4, \"3965\": 1, \"3966\": 2, \"3967\": 3, \"3968\": 3, \"3969\": 1, \"3970\": 4, \"3971\": 0, \"3972\": 1, \"3973\": 1, \"3974\": 3, \"3975\": 1, \"3976\": 3, \"3977\": 3, \"3978\": 0, \"3979\": 3, \"3980\": 3, \"3981\": 4, \"3982\": 3, \"3983\": 1, \"3984\": 0, \"3985\": 4, \"3986\": 2, \"3987\": 3, \"3988\": 3, \"3989\": 3, \"3990\": 2, \"3991\": 3, \"3992\": 4, \"3993\": 3, \"3994\": 1, \"3995\": 1, \"3996\": 3, \"3997\": 1, \"3998\": 1, \"3999\": 3, \"4000\": 0, \"4001\": 3, \"4002\": 1, \"4003\": 3, \"4004\": 1, \"4005\": 3, \"4006\": 1, \"4007\": 1, \"4008\": 3, \"4009\": 4, \"4010\": 2, \"4011\": 4, \"4012\": 3, \"4013\": 2, \"4014\": 4, \"4015\": 3, \"4016\": 1, \"4017\": 1, \"4018\": 1, \"4019\": 3, \"4020\": 2, \"4021\": 1, \"4022\": 4, \"4023\": 3, \"4024\": 2, \"4025\": 4, \"4026\": 0, \"4027\": 1, \"4028\": 3, \"4029\": 1, \"4030\": 4, \"4031\": 3, \"4032\": 4, \"4033\": 4, \"4034\": 3, \"4035\": 1, \"4036\": 2, \"4037\": 3, \"4038\": 1, \"4039\": 3, \"4040\": 2, \"4041\": 1, \"4042\": 3, \"4043\": 1, \"4044\": 3, \"4045\": 1, \"4046\": 1, \"4047\": 1, \"4048\": 4, \"4049\": 2, \"4050\": 1, \"4051\": 3, \"4052\": 3, \"4053\": 1, \"4054\": 4, \"4055\": 1, \"4056\": 3, \"4057\": 1, \"4058\": 1, \"4059\": 0, \"4060\": 2, \"4061\": 3, \"4062\": 3, \"4063\": 3, \"4064\": 2, \"4065\": 2, \"4066\": 1, \"4067\": 1, \"4068\": 1, \"4069\": 1, \"4070\": 4, \"4071\": 3, \"4072\": 3, \"4073\": 3, \"4074\": 1, \"4075\": 4, \"4076\": 3, \"4077\": 1, \"4078\": 3, \"4079\": 3, \"4080\": 3, \"4081\": 1, \"4082\": 1, \"4083\": 0, \"4084\": 1, \"4085\": 3, \"4086\": 1, \"4087\": 2, \"4088\": 2, \"4089\": 3, \"4090\": 3, \"4091\": 3, \"4092\": 3, \"4093\": 1, \"4094\": 0, \"4095\": 1, \"4096\": 4, \"4097\": 1, \"4098\": 4, \"4099\": 1, \"4100\": 4, \"4101\": 1, \"4102\": 0, \"4103\": 1, \"4104\": 3, \"4105\": 1, \"4106\": 1, \"4107\": 1, \"4108\": 4, \"4109\": 1, \"4110\": 3, \"4111\": 1, \"4112\": 4, \"4113\": 2, \"4114\": 3, \"4115\": 1, \"4116\": 3, \"4117\": 2, \"4118\": 3, \"4119\": 3, \"4120\": 4, \"4121\": 2, \"4122\": 1, \"4123\": 4, \"4124\": 4, \"4125\": 4, \"4126\": 1, \"4127\": 1, \"4128\": 1, \"4129\": 4, \"4130\": 1, \"4131\": 4, \"4132\": 1, \"4133\": 2, \"4134\": 0, \"4135\": 2, \"4136\": 2, \"4137\": 3, \"4138\": 1, \"4139\": 1, \"4140\": 1, \"4141\": 1, \"4142\": 0, \"4143\": 2, \"4144\": 1, \"4145\": 0, \"4146\": 1, \"4147\": 3, \"4148\": 2, \"4149\": 4, \"4150\": 1, \"4151\": 1, \"4152\": 3, \"4153\": 1, \"4154\": 0, \"4155\": 3, \"4156\": 2, \"4157\": 2, \"4158\": 3, \"4159\": 0, \"4160\": 3, \"4161\": 3, \"4162\": 4, \"4163\": 1, \"4164\": 4, \"4165\": 3, \"4166\": 3}}\n"
          ]
        }
      ]
    },
    {
      "cell_type": "code",
      "source": [
        "file_path = '/content/predictions.json'\n",
        "\n",
        "# Save the JSON data to the file\n",
        "with open(file_path, 'w') as file:\n",
        "    file.write(json_data)"
      ],
      "metadata": {
        "id": "kNuRc2T03Ne4"
      },
      "execution_count": null,
      "outputs": []
    },
    {
      "cell_type": "code",
      "source": [
        "for column in y_train.columns:\n",
        "  y_train[column] = y_train[column].astype(float)"
      ],
      "metadata": {
        "colab": {
          "base_uri": "https://localhost:8080/"
        },
        "id": "iuFHW-j85V9g",
        "outputId": "9c966755-88f7-41a9-d406-93fe538681fa"
      },
      "execution_count": null,
      "outputs": [
        {
          "output_type": "stream",
          "name": "stderr",
          "text": [
            "<ipython-input-27-c4bf1a6c235a>:2: SettingWithCopyWarning: \n",
            "A value is trying to be set on a copy of a slice from a DataFrame.\n",
            "Try using .loc[row_indexer,col_indexer] = value instead\n",
            "\n",
            "See the caveats in the documentation: https://pandas.pydata.org/pandas-docs/stable/user_guide/indexing.html#returning-a-view-versus-a-copy\n",
            "  y_train[column] = y_train[column].astype(float)\n"
          ]
        }
      ]
    },
    {
      "cell_type": "code",
      "source": [
        "y_train.info()"
      ],
      "metadata": {
        "colab": {
          "base_uri": "https://localhost:8080/"
        },
        "id": "XjylII685slf",
        "outputId": "58077c25-0f1a-48a3-9515-8f0c81d81a92"
      },
      "execution_count": null,
      "outputs": [
        {
          "output_type": "stream",
          "name": "stdout",
          "text": [
            "<class 'pandas.core.frame.DataFrame'>\n",
            "Int64Index: 1272 entries, 0 to 1271\n",
            "Data columns (total 31 columns):\n",
            " #   Column                                                Non-Null Count  Dtype  \n",
            "---  ------                                                --------------  -----  \n",
            " 0   non_recyclable_and_non_biodegradable_materials_count  1272 non-null   float64\n",
            " 1   est_co2_agriculture                                   1272 non-null   float64\n",
            " 2   est_co2_consumption                                   1272 non-null   float64\n",
            " 3   est_co2_distribution                                  1272 non-null   float64\n",
            " 4   est_co2_packaging                                     1272 non-null   float64\n",
            " 5   est_co2_processing                                    1272 non-null   float64\n",
            " 6   est_co2_transportation                                1272 non-null   float64\n",
            " 7   en:cardboard                                          1272 non-null   float64\n",
            " 8   en:elopak                                             1272 non-null   float64\n",
            " 9   en:fsc-paper                                          1272 non-null   float64\n",
            " 10  en:glass                                              1272 non-null   float64\n",
            " 11  en:hdpe-2-high-density-polyethylene                   1272 non-null   float64\n",
            " 12  en:hdpe-high-density-polyethylene                     1272 non-null   float64\n",
            " 13  en:heavy-aluminium                                    1272 non-null   float64\n",
            " 14  en:ldpe-low-density-polyethylene                      1272 non-null   float64\n",
            " 15  en:light-aluminium                                    1272 non-null   float64\n",
            " 16  en:metal                                              1272 non-null   float64\n",
            " 17  en:multilayer-composite                               1272 non-null   float64\n",
            " 18  en:non-corrugated-cardboard                           1272 non-null   float64\n",
            " 19  en:paper                                              1272 non-null   float64\n",
            " 20  en:paper-and-plastic                                  1272 non-null   float64\n",
            " 21  en:paperboard                                         1272 non-null   float64\n",
            " 22  en:pet-1-polyethylene-terephthalate                   1272 non-null   float64\n",
            " 23  en:pet-polyethylene-terephthalate                     1272 non-null   float64\n",
            " 24  en:plastic                                            1272 non-null   float64\n",
            " 25  en:pp-polypropylene                                   1272 non-null   float64\n",
            " 26  en:ps-6-polystyrene                                   1272 non-null   float64\n",
            " 27  en:ps-polystyrene                                     1272 non-null   float64\n",
            " 28  en:tetra-brik                                         1272 non-null   float64\n",
            " 29  en:tetra-pak                                          1272 non-null   float64\n",
            " 30  en:unknown                                            1272 non-null   float64\n",
            "dtypes: float64(31)\n",
            "memory usage: 350.3 KB\n"
          ]
        }
      ]
    },
    {
      "cell_type": "code",
      "source": [
        "model = xgb.XGBClassifier()\n",
        "model.fit(features, targets)\n",
        "test_predicted = model.predict(y_train)\n",
        "predictions = test_predicted\n",
        "# Convert int64 values to int\n",
        "predictions = [int(label) for label in predictions]\n",
        "\n",
        "# Create a dictionary with the desired structure\n",
        "data = {\n",
        "    \"target\": {str(index): label for index, label in enumerate(predictions)}\n",
        "}\n",
        "\n",
        "# Convert the dictionary to JSON format\n",
        "json_data = json.dumps(data, default=int)\n",
        "\n",
        "file_path = '/content/predictionsxgboost.json'\n",
        "\n",
        "# Save the JSON data to the file\n",
        "with open(file_path, 'w') as file:\n",
        "    file.write(json_data)"
      ],
      "metadata": {
        "id": "PRF7dRD94Wr2"
      },
      "execution_count": null,
      "outputs": []
    },
    {
      "cell_type": "code",
      "source": [
        "predictions = test_predicted2\n",
        "# Convert int64 values to int\n",
        "predictions = [int(label) for label in predictions]\n",
        "\n",
        "# Create a dictionary with the desired structure\n",
        "data = {\n",
        "    \"target\": {str(index): label for index, label in enumerate(predictions)}\n",
        "}\n",
        "\n",
        "# Convert the dictionary to JSON format\n",
        "json_data = json.dumps(data, default=int)\n",
        "\n",
        "file_path = '/content/predictionsupdated1.json'\n",
        "\n",
        "# Save the JSON data to the file\n",
        "with open(file_path, 'w') as file:\n",
        "    file.write(json_data)"
      ],
      "metadata": {
        "id": "CPheNjJKt-u8"
      },
      "execution_count": 259,
      "outputs": []
    }
  ]
}
